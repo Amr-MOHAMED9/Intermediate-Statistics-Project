{
 "cells": [
  {
   "cell_type": "code",
   "execution_count": 390,
   "id": "e895dde8",
   "metadata": {
    "scrolled": true
   },
   "outputs": [],
   "source": [
    "library(plyr)\n",
    "library(dplyr)\n",
    "library(Hmisc)\n",
    "library(viridis)  \n",
    "library(naniar)\n",
    "library(xtable)\n",
    "library(schoRsch)\n",
    "library(gmodels)\n",
    "library(readr)\n",
    "library(emmeans)\n",
    "library(rstatix)\n",
    "library(multcomp)\n",
    "library(sandwich)\n",
    "library(pim)\n",
    "library(stargazer)\n",
    "library(survival)\n",
    "library(survminer)\n",
    "library(finalfit)\n",
    "library(ggplot2)"
   ]
  },
  {
   "cell_type": "markdown",
   "id": "77c19fe1",
   "metadata": {},
   "source": [
    "# 1. Data Wrangling and Feature engineering"
   ]
  },
  {
   "cell_type": "code",
   "execution_count": 391,
   "id": "94a9e3db",
   "metadata": {},
   "outputs": [
    {
     "data": {
      "text/html": [
       "<table>\n",
       "<thead><tr><th scope=col>Country</th><th scope=col>HDI</th><th scope=col>index</th></tr></thead>\n",
       "<tbody>\n",
       "\t<tr><td>Australie            </td><td>TH                   </td><td>2                    </td></tr>\n",
       "\t<tr><td>Etats-Unis d'Amérique</td><td>TH                   </td><td>3                    </td></tr>\n",
       "\t<tr><td>Pays-Bas             </td><td>TH                   </td><td>4                    </td></tr>\n",
       "\t<tr><td>Allemagne            </td><td>TH                   </td><td>5                    </td></tr>\n",
       "\t<tr><td>Nouvelle-Zélande     </td><td>TH                   </td><td>6                    </td></tr>\n",
       "\t<tr><td>Irlande              </td><td>TH                   </td><td>7                    </td></tr>\n",
       "</tbody>\n",
       "</table>\n"
      ],
      "text/latex": [
       "\\begin{tabular}{r|lll}\n",
       " Country & HDI & index\\\\\n",
       "\\hline\n",
       "\t Australie             & TH                    & 2                    \\\\\n",
       "\t Etats-Unis d'Amérique & TH                    & 3                    \\\\\n",
       "\t Pays-Bas              & TH                    & 4                    \\\\\n",
       "\t Allemagne             & TH                    & 5                    \\\\\n",
       "\t Nouvelle-Zélande      & TH                    & 6                    \\\\\n",
       "\t Irlande               & TH                    & 7                    \\\\\n",
       "\\end{tabular}\n"
      ],
      "text/markdown": [
       "\n",
       "| Country | HDI | index |\n",
       "|---|---|---|\n",
       "| Australie             | TH                    | 2                     |\n",
       "| Etats-Unis d'Amérique | TH                    | 3                     |\n",
       "| Pays-Bas              | TH                    | 4                     |\n",
       "| Allemagne             | TH                    | 5                     |\n",
       "| Nouvelle-Zélande      | TH                    | 6                     |\n",
       "| Irlande               | TH                    | 7                     |\n",
       "\n"
      ],
      "text/plain": [
       "  Country               HDI index\n",
       "1 Australie             TH  2    \n",
       "2 Etats-Unis d'Amérique TH  3    \n",
       "3 Pays-Bas              TH  4    \n",
       "4 Allemagne             TH  5    \n",
       "5 Nouvelle-Zélande      TH  6    \n",
       "6 Irlande               TH  7    "
      ]
     },
     "metadata": {},
     "output_type": "display_data"
    }
   ],
   "source": [
    "countriesHDI= read.csv('countries.HDI.csv',sep=',',col.names = c('Country','HDI','index'))\n",
    "head(countriesHDI)"
   ]
  },
  {
   "cell_type": "code",
   "execution_count": 392,
   "id": "0f59ec69",
   "metadata": {},
   "outputs": [
    {
     "data": {
      "text/html": [
       "<table>\n",
       "<thead><tr><th scope=col>Student_ID</th><th scope=col>Gender</th><th scope=col>birth.year</th><th scope=col>Country</th><th scope=col>Diploma</th><th scope=col>Formation</th><th scope=col>CSP</th><th scope=col>How.heard</th><th scope=col>Exp.crea</th><th scope=col>Curiosity.MOOC</th><th scope=col>...</th><th scope=col>Eval.diffic</th><th scope=col>Estimated.hours</th><th scope=col>Part.labo</th><th scope=col>Plat.satisf</th><th scope=col>Peer.eval.relev</th><th scope=col>encad.diffic</th><th scope=col>Country_HDI</th><th scope=col>Country_HDI.fin</th><th scope=col>CSP.fin</th><th scope=col>Temps.dispo.fin</th></tr></thead>\n",
       "<tbody>\n",
       "\t<tr><td>  221                                                                      </td><td>NA                                                                         </td><td>  NA                                                                       </td><td>NA                                                                         </td><td>NA                                                                         </td><td>NA                                                                         </td><td>NA                                                                         </td><td>NA                                                                         </td><td>NA                                                                         </td><td>NA                                                                         </td><td>...                                                                        </td><td>NA                                                                         </td><td>NA                                                                         </td><td>NA                                                                         </td><td>NA                                                                         </td><td>NA                                                                         </td><td>NA                                                                         </td><td>NA                                                                         </td><td>NA                                                                         </td><td>NA                                                                         </td><td>NA                                                                         </td></tr>\n",
       "\t<tr><td>19178                                                                      </td><td>une femme                                                                  </td><td>1986                                                                       </td><td>France                                                                     </td><td>Bac+5 (Master ou équivalent)                                               </td><td>Droit                                                                      </td><td>Cadres et professions intellectuelles                                      </td><td>par un article ou un blog sur Internet                                     </td><td>Je n'ai aucune expérience en création d'entreprise                         </td><td> 4                                                                         </td><td>...                                                                        </td><td>NA                                                                         </td><td>NA                                                                         </td><td>NA                                                                         </td><td>NA                                                                         </td><td>NA                                                                         </td><td>NA                                                                         </td><td>TH                                                                         </td><td>TH                                                                         </td><td>Cadres et professions intellectuelles                                      </td><td>Moins de deux heures                                                       </td></tr>\n",
       "\t<tr><td> 1086                                                                      </td><td>une femme                                                                  </td><td>1967                                                                       </td><td>France                                                                     </td><td>Bac+5 (Master ou équivalent)                                               </td><td>Sciences sociales (économie\\, sciences politiques\\, sociologie\\, etc)   </td><td>Artisans, commerçants, chefs d'entreprise                                  </td><td>par une communication de l'EMLYON                                          </td><td>Je suis en train de créer mon entreprise (phase de démarrage)              </td><td> 2                                                                         </td><td>...                                                                        </td><td>NA                                                                         </td><td>NA                                                                         </td><td>NA                                                                         </td><td>NA                                                                         </td><td>NA                                                                         </td><td>NA                                                                         </td><td>TH                                                                         </td><td>TH                                                                         </td><td>Artisans, commerçants, chefs d'entreprise                                  </td><td>Moins de deux heures                                                       </td></tr>\n",
       "\t<tr><td> 1948                                                                      </td><td>une femme                                                                  </td><td>1983                                                                       </td><td>Allemagne                                                                  </td><td>Bac ou équivalent                                                          </td><td>Droit                                                                      </td><td>Employés                                                                   </td><td>par une communication de Unow                                              </td><td>Je n'ai aucune expérience en création d'entreprise                         </td><td> 1                                                                         </td><td>...                                                                        </td><td>NA                                                                         </td><td>NA                                                                         </td><td>NA                                                                         </td><td>NA                                                                         </td><td>NA                                                                         </td><td>NA                                                                         </td><td>TH                                                                         </td><td>TH                                                                         </td><td>Employés                                                                   </td><td>Moins de deux heures                                                       </td></tr>\n",
       "\t<tr><td>16209                                                                      </td><td>une femme                                                                  </td><td>  NA                                                                       </td><td>Madagascar                                                                 </td><td>Bac+3 (Licence ou équivalent)                                              </td><td>Sciences naturelles (Agronomie\\, biologie\\, physique\\, chimie\\, etc)   </td><td>Professions intermédiaires                                                 </td><td>par un ami ou une connaissance                                             </td><td>J’ai un projet de création d’entreprise (phase de réflexion)               </td><td> 1                                                                         </td><td>...                                                                        </td><td>NA                                                                         </td><td>NA                                                                         </td><td>NA                                                                         </td><td>NA                                                                         </td><td>NA                                                                         </td><td>NA                                                                         </td><td>B                                                                          </td><td>B                                                                          </td><td>Autre                                                                      </td><td>Moins de deux heures                                                       </td></tr>\n",
       "\t<tr><td> 6685                                                                      </td><td>un homme                                                                   </td><td>1951                                                                       </td><td>NA                                                                         </td><td>Bac+5 (Master ou équivalent)                                               </td><td>Ingénierie et technologies                                                 </td><td>Retraités                                                                  </td><td>par une communication de Unow                                              </td><td>Je n'ai aucune expérience en création d'entreprise                         </td><td> 1                                                                         </td><td>...                                                                        </td><td>Difficile                                                                  </td><td>De 4 à 8 heures                                                            </td><td>Non\\, j’ai compris ce qu’était le Laboratoire mais je n’y ai pas participé</td><td>Très satisfaisante                                                         </td><td>3                                                                          </td><td>NA                                                                         </td><td>NA                                                                         </td><td>NA                                                                         </td><td>Autre                                                                      </td><td>Plus de six heures                                                         </td></tr>\n",
       "</tbody>\n",
       "</table>\n"
      ],
      "text/latex": [
       "\\begin{tabular}{r|lllllllllllllllllllllllllllllllllll}\n",
       " Student\\_ID & Gender & birth.year & Country & Diploma & Formation & CSP & How.heard & Exp.crea & Curiosity.MOOC & ... & Eval.diffic & Estimated.hours & Part.labo & Plat.satisf & Peer.eval.relev & encad.diffic & Country\\_HDI & Country\\_HDI.fin & CSP.fin & Temps.dispo.fin\\\\\n",
       "\\hline\n",
       "\t   221                                                                       & NA                                                                          &   NA                                                                        & NA                                                                          & NA                                                                          & NA                                                                          & NA                                                                          & NA                                                                          & NA                                                                          & NA                                                                          & ...                                                                         & NA                                                                          & NA                                                                          & NA                                                                          & NA                                                                          & NA                                                                          & NA                                                                          & NA                                                                          & NA                                                                          & NA                                                                          & NA                                                                         \\\\\n",
       "\t 19178                                                                       & une femme                                                                   & 1986                                                                        & France                                                                      & Bac+5 (Master ou équivalent)                                                & Droit                                                                       & Cadres et professions intellectuelles                                       & par un article ou un blog sur Internet                                      & Je n'ai aucune expérience en création d'entreprise                          &  4                                                                          & ...                                                                         & NA                                                                          & NA                                                                          & NA                                                                          & NA                                                                          & NA                                                                          & NA                                                                          & TH                                                                          & TH                                                                          & Cadres et professions intellectuelles                                       & Moins de deux heures                                                       \\\\\n",
       "\t  1086                                                                                                                 & une femme                                                                                                             & 1967                                                                                                                  & France                                                                                                                & Bac+5 (Master ou équivalent)                                                                                          & Sciences sociales (économie\\textbackslash{}, sciences politiques\\textbackslash{}, sociologie\\textbackslash{}, etc) & Artisans, commerçants, chefs d'entreprise                                                                             & par une communication de l'EMLYON                                                                                     & Je suis en train de créer mon entreprise (phase de démarrage)                                                         &  2                                                                                                                    & ...                                                                                                                   & NA                                                                                                                    & NA                                                                                                                    & NA                                                                                                                    & NA                                                                                                                    & NA                                                                                                                    & NA                                                                                                                    & TH                                                                                                                    & TH                                                                                                                    & Artisans, commerçants, chefs d'entreprise                                                                             & Moins de deux heures                                                                                                 \\\\\n",
       "\t  1948                                                                       & une femme                                                                   & 1983                                                                        & Allemagne                                                                   & Bac ou équivalent                                                           & Droit                                                                       & Employés                                                                    & par une communication de Unow                                               & Je n'ai aucune expérience en création d'entreprise                          &  1                                                                          & ...                                                                         & NA                                                                          & NA                                                                          & NA                                                                          & NA                                                                          & NA                                                                          & NA                                                                          & TH                                                                          & TH                                                                          & Employés                                                                    & Moins de deux heures                                                       \\\\\n",
       "\t 16209                                                                                                                                & une femme                                                                                                                            &   NA                                                                                                                                 & Madagascar                                                                                                                           & Bac+3 (Licence ou équivalent)                                                                                                        & Sciences naturelles (Agronomie\\textbackslash{}, biologie\\textbackslash{}, physique\\textbackslash{}, chimie\\textbackslash{}, etc) & Professions intermédiaires                                                                                                           & par un ami ou une connaissance                                                                                                       & J’ai un projet de création d’entreprise (phase de réflexion)                                                                         &  1                                                                                                                                   & ...                                                                                                                                  & NA                                                                                                                                   & NA                                                                                                                                   & NA                                                                                                                                   & NA                                                                                                                                   & NA                                                                                                                                   & NA                                                                                                                                   & B                                                                                                                                    & B                                                                                                                                    & Autre                                                                                                                                & Moins de deux heures                                                                                                                \\\\\n",
       "\t  6685                                                                                      & un homme                                                                                   & 1951                                                                                       & NA                                                                                         & Bac+5 (Master ou équivalent)                                                               & Ingénierie et technologies                                                                 & Retraités                                                                                  & par une communication de Unow                                                              & Je n'ai aucune expérience en création d'entreprise                                         &  1                                                                                         & ...                                                                                        & Difficile                                                                                  & De 4 à 8 heures                                                                            & Non\\textbackslash{}, j’ai compris ce qu’était le Laboratoire mais je n’y ai pas participé & Très satisfaisante                                                                         & 3                                                                                          & NA                                                                                         & NA                                                                                         & NA                                                                                         & Autre                                                                                      & Plus de six heures                                                                        \\\\\n",
       "\\end{tabular}\n"
      ],
      "text/markdown": [
       "\n",
       "| Student_ID | Gender | birth.year | Country | Diploma | Formation | CSP | How.heard | Exp.crea | Curiosity.MOOC | ... | Eval.diffic | Estimated.hours | Part.labo | Plat.satisf | Peer.eval.relev | encad.diffic | Country_HDI | Country_HDI.fin | CSP.fin | Temps.dispo.fin |\n",
       "|---|---|---|---|---|---|---|---|---|---|---|---|---|---|---|---|---|---|---|---|---|\n",
       "|   221                                                                       | NA                                                                          |   NA                                                                        | NA                                                                          | NA                                                                          | NA                                                                          | NA                                                                          | NA                                                                          | NA                                                                          | NA                                                                          | ...                                                                         | NA                                                                          | NA                                                                          | NA                                                                          | NA                                                                          | NA                                                                          | NA                                                                          | NA                                                                          | NA                                                                          | NA                                                                          | NA                                                                          |\n",
       "| 19178                                                                       | une femme                                                                   | 1986                                                                        | France                                                                      | Bac+5 (Master ou équivalent)                                                | Droit                                                                       | Cadres et professions intellectuelles                                       | par un article ou un blog sur Internet                                      | Je n'ai aucune expérience en création d'entreprise                          |  4                                                                          | ...                                                                         | NA                                                                          | NA                                                                          | NA                                                                          | NA                                                                          | NA                                                                          | NA                                                                          | TH                                                                          | TH                                                                          | Cadres et professions intellectuelles                                       | Moins de deux heures                                                        |\n",
       "|  1086                                                                       | une femme                                                                   | 1967                                                                        | France                                                                      | Bac+5 (Master ou équivalent)                                                | Sciences sociales (économie\\, sciences politiques\\, sociologie\\, etc)    | Artisans, commerçants, chefs d'entreprise                                   | par une communication de l'EMLYON                                           | Je suis en train de créer mon entreprise (phase de démarrage)               |  2                                                                          | ...                                                                         | NA                                                                          | NA                                                                          | NA                                                                          | NA                                                                          | NA                                                                          | NA                                                                          | TH                                                                          | TH                                                                          | Artisans, commerçants, chefs d'entreprise                                   | Moins de deux heures                                                        |\n",
       "|  1948                                                                       | une femme                                                                   | 1983                                                                        | Allemagne                                                                   | Bac ou équivalent                                                           | Droit                                                                       | Employés                                                                    | par une communication de Unow                                               | Je n'ai aucune expérience en création d'entreprise                          |  1                                                                          | ...                                                                         | NA                                                                          | NA                                                                          | NA                                                                          | NA                                                                          | NA                                                                          | NA                                                                          | TH                                                                          | TH                                                                          | Employés                                                                    | Moins de deux heures                                                        |\n",
       "| 16209                                                                       | une femme                                                                   |   NA                                                                        | Madagascar                                                                  | Bac+3 (Licence ou équivalent)                                               | Sciences naturelles (Agronomie\\, biologie\\, physique\\, chimie\\, etc)    | Professions intermédiaires                                                  | par un ami ou une connaissance                                              | J’ai un projet de création d’entreprise (phase de réflexion)                |  1                                                                          | ...                                                                         | NA                                                                          | NA                                                                          | NA                                                                          | NA                                                                          | NA                                                                          | NA                                                                          | B                                                                           | B                                                                           | Autre                                                                       | Moins de deux heures                                                        |\n",
       "|  6685                                                                       | un homme                                                                    | 1951                                                                        | NA                                                                          | Bac+5 (Master ou équivalent)                                                | Ingénierie et technologies                                                  | Retraités                                                                   | par une communication de Unow                                               | Je n'ai aucune expérience en création d'entreprise                          |  1                                                                          | ...                                                                         | Difficile                                                                   | De 4 à 8 heures                                                             | Non\\, j’ai compris ce qu’était le Laboratoire mais je n’y ai pas participé | Très satisfaisante                                                          | 3                                                                           | NA                                                                          | NA                                                                          | NA                                                                          | Autre                                                                       | Plus de six heures                                                          |\n",
       "\n"
      ],
      "text/plain": [
       "  Student_ID Gender    birth.year Country    Diploma                      \n",
       "1   221      NA          NA       NA         NA                           \n",
       "2 19178      une femme 1986       France     Bac+5 (Master ou équivalent) \n",
       "3  1086      une femme 1967       France     Bac+5 (Master ou équivalent) \n",
       "4  1948      une femme 1983       Allemagne  Bac ou équivalent            \n",
       "5 16209      une femme   NA       Madagascar Bac+3 (Licence ou équivalent)\n",
       "6  6685      un homme  1951       NA         Bac+5 (Master ou équivalent) \n",
       "  Formation                                                               \n",
       "1 NA                                                                      \n",
       "2 Droit                                                                   \n",
       "3 Sciences sociales (économie\\\\, sciences politiques\\\\, sociologie\\\\, etc)\n",
       "4 Droit                                                                   \n",
       "5 Sciences naturelles (Agronomie\\\\, biologie\\\\, physique\\\\, chimie\\\\, etc)\n",
       "6 Ingénierie et technologies                                              \n",
       "  CSP                                      \n",
       "1 NA                                       \n",
       "2 Cadres et professions intellectuelles    \n",
       "3 Artisans, commerçants, chefs d'entreprise\n",
       "4 Employés                                 \n",
       "5 Professions intermédiaires               \n",
       "6 Retraités                                \n",
       "  How.heard                             \n",
       "1 NA                                    \n",
       "2 par un article ou un blog sur Internet\n",
       "3 par une communication de l'EMLYON     \n",
       "4 par une communication de Unow         \n",
       "5 par un ami ou une connaissance        \n",
       "6 par une communication de Unow         \n",
       "  Exp.crea                                                      Curiosity.MOOC\n",
       "1 NA                                                            NA            \n",
       "2 Je n'ai aucune expérience en création d'entreprise             4            \n",
       "3 Je suis en train de créer mon entreprise (phase de démarrage)  2            \n",
       "4 Je n'ai aucune expérience en création d'entreprise             1            \n",
       "5 J’ai un projet de création d’entreprise (phase de réflexion)   1            \n",
       "6 Je n'ai aucune expérience en création d'entreprise             1            \n",
       "  ... Eval.diffic Estimated.hours\n",
       "1 ... NA          NA             \n",
       "2 ... NA          NA             \n",
       "3 ... NA          NA             \n",
       "4 ... NA          NA             \n",
       "5 ... NA          NA             \n",
       "6 ... Difficile   De 4 à 8 heures\n",
       "  Part.labo                                                                  \n",
       "1 NA                                                                         \n",
       "2 NA                                                                         \n",
       "3 NA                                                                         \n",
       "4 NA                                                                         \n",
       "5 NA                                                                         \n",
       "6 Non\\\\, j’ai compris ce qu’était le Laboratoire mais je n’y ai pas participé\n",
       "  Plat.satisf        Peer.eval.relev encad.diffic Country_HDI Country_HDI.fin\n",
       "1 NA                 NA              NA           NA          NA             \n",
       "2 NA                 NA              NA           TH          TH             \n",
       "3 NA                 NA              NA           TH          TH             \n",
       "4 NA                 NA              NA           TH          TH             \n",
       "5 NA                 NA              NA           B           B              \n",
       "6 Très satisfaisante 3               NA           NA          NA             \n",
       "  CSP.fin                                   Temps.dispo.fin     \n",
       "1 NA                                        NA                  \n",
       "2 Cadres et professions intellectuelles     Moins de deux heures\n",
       "3 Artisans, commerçants, chefs d'entreprise Moins de deux heures\n",
       "4 Employés                                  Moins de deux heures\n",
       "5 Autre                                     Moins de deux heures\n",
       "6 Autre                                     Plus de six heures  "
      ]
     },
     "metadata": {},
     "output_type": "display_data"
    }
   ],
   "source": [
    "effec1.quest.compil= read.csv('effec1.quest.compil.csv',sep=',')\n",
    "head(effec1.quest.compil)"
   ]
  },
  {
   "cell_type": "code",
   "execution_count": 393,
   "id": "8edc15c9",
   "metadata": {},
   "outputs": [
    {
     "data": {
      "text/html": [
       "<table>\n",
       "<thead><tr><th scope=col>Student_ID</th><th scope=col>Current.Score</th><th scope=col>Section</th><th scope=col>Gender</th><th scope=col>birth.year</th><th scope=col>Country</th><th scope=col>Diploma</th><th scope=col>Formation</th><th scope=col>CSP</th><th scope=col>How.heard</th><th scope=col>...</th><th scope=col>Eval.diffic</th><th scope=col>Estimated.hours</th><th scope=col>Part.labo</th><th scope=col>Plat.satisf</th><th scope=col>Peer.eval.relev</th><th scope=col>Country_HDI</th><th scope=col>Country_HDI.fin</th><th scope=col>CSP.fin</th><th scope=col>Temps.dispo.fin</th><th scope=col>EMLyon.et</th></tr></thead>\n",
       "<tbody>\n",
       "\t<tr><td>32360                                                                             </td><td>NA                                                                                </td><td>Laboratoire, Effectuation #2                                                      </td><td>une femme                                                                         </td><td>1967                                                                              </td><td>France                                                                            </td><td>Bac+5 (Master ou équivalent)                                                      </td><td>Sciences humaines (histoire\\, archéologie\\, philosophie\\, etc)                 </td><td>Cadres et professions intellectuelles                                             </td><td>par un ami ou une connaissance                                                    </td><td>...                                                                               </td><td>Très facile                                                                       </td><td>De 1 à  2 heures                                                                  </td><td>Oui\\, j'ai soumis un projet en tant que Porteur de Projet                        </td><td>Satisfaisante                                                                     </td><td>5                                                                                 </td><td>TH                                                                                </td><td>TH                                                                                </td><td>Cadres et professions intellectuelles                                             </td><td>Moins de deux heures                                                              </td><td> 0                                                                                </td></tr>\n",
       "\t<tr><td>27582                                                                             </td><td>NA                                                                                </td><td>NA                                                                                </td><td>NA                                                                                </td><td>NA                                                                                </td><td>NA                                                                                </td><td>NA                                                                                </td><td>NA                                                                                </td><td>NA                                                                                </td><td>NA                                                                                </td><td>...                                                                               </td><td>NA                                                                                </td><td>NA                                                                                </td><td>NA                                                                                </td><td>NA                                                                                </td><td>NA                                                                                </td><td>NA                                                                                </td><td>NA                                                                                </td><td>NA                                                                                </td><td>NA                                                                                </td><td>NA                                                                                </td></tr>\n",
       "\t<tr><td>27808                                                                             </td><td>NA                                                                                </td><td>Effectuation #2                                                                   </td><td>un homme                                                                          </td><td>1986                                                                              </td><td>Haïti                                                                             </td><td>Bac+3 (Licence ou équivalent)                                                     </td><td>Management/Gestion d  entreprise                                                  </td><td>En recherche d'emploi                                                             </td><td>autre                                                                             </td><td>...                                                                               </td><td>Moyen                                                                             </td><td>Plus de 8 heures                                                                  </td><td>Oui\\, je suis devenu Coach sur au moins un projet et j'ai laissé des commentaires</td><td>Très satisfaisante                                                                </td><td>5                                                                                 </td><td>B                                                                                 </td><td>B                                                                                 </td><td>En recherche d'emploi                                                             </td><td>Entre quatre et six heures                                                        </td><td> 0                                                                                </td></tr>\n",
       "\t<tr><td>27532                                                                             </td><td>NA                                                                                </td><td>Laboratoire, Effectuation #2                                                      </td><td>un homme                                                                          </td><td>1975                                                                              </td><td>France                                                                            </td><td>Bac ou équivalent                                                                 </td><td>Droit                                                                             </td><td>Cadres et professions intellectuelles                                             </td><td>par un ami ou une connaissance                                                    </td><td>...                                                                               </td><td>Facile                                                                            </td><td>De 2 à  4 heures                                                                  </td><td>Oui\\, j'ai soumis un projet en tant que Porteur de Projet                        </td><td>Très satisfaisante                                                                </td><td>2                                                                                 </td><td>TH                                                                                </td><td>TH                                                                                </td><td>Cadres et professions intellectuelles                                             </td><td>Entre deux et quatre heures                                                       </td><td> 0                                                                                </td></tr>\n",
       "\t<tr><td>17343                                                                             </td><td>NA                                                                                </td><td>NA                                                                                </td><td>NA                                                                                </td><td>NA                                                                                </td><td>NA                                                                                </td><td>NA                                                                                </td><td>NA                                                                                </td><td>NA                                                                                </td><td>NA                                                                                </td><td>...                                                                               </td><td>NA                                                                                </td><td>NA                                                                                </td><td>NA                                                                                </td><td>NA                                                                                </td><td>NA                                                                                </td><td>NA                                                                                </td><td>NA                                                                                </td><td>NA                                                                                </td><td>NA                                                                                </td><td>NA                                                                                </td></tr>\n",
       "\t<tr><td> 2630                                                                             </td><td>NA                                                                                </td><td>Effectuation #2                                                                   </td><td>un homme                                                                          </td><td>1957                                                                              </td><td>Madagascar                                                                        </td><td>Bac+5 (Master ou équivalent)                                                      </td><td>Management/Gestion d  entreprise                                                  </td><td>Cadres et professions intellectuelles                                             </td><td>par un article ou un blog sur Internet                                            </td><td>...                                                                               </td><td>NA                                                                                </td><td>NA                                                                                </td><td>NA                                                                                </td><td>NA                                                                                </td><td>NA                                                                                </td><td>B                                                                                 </td><td>B                                                                                 </td><td>Cadres et professions intellectuelles                                             </td><td>Moins de deux heures                                                              </td><td> 0                                                                                </td></tr>\n",
       "</tbody>\n",
       "</table>\n"
      ],
      "text/latex": [
       "\\begin{tabular}{r|llllllllllllllllllllllllllllllllllllllll}\n",
       " Student\\_ID & Current.Score & Section & Gender & birth.year & Country & Diploma & Formation & CSP & How.heard & ... & Eval.diffic & Estimated.hours & Part.labo & Plat.satisf & Peer.eval.relev & Country\\_HDI & Country\\_HDI.fin & CSP.fin & Temps.dispo.fin & EMLyon.et\\\\\n",
       "\\hline\n",
       "\t 32360                                                                                                          & NA                                                                                                             & Laboratoire, Effectuation \\#2                                                                                 & une femme                                                                                                      & 1967                                                                                                           & France                                                                                                         & Bac+5 (Master ou équivalent)                                                                                   & Sciences humaines (histoire\\textbackslash{}, archéologie\\textbackslash{}, philosophie\\textbackslash{}, etc) & Cadres et professions intellectuelles                                                                          & par un ami ou une connaissance                                                                                 & ...                                                                                                            & Très facile                                                                                                    & De 1 à  2 heures                                                                                               & Oui\\textbackslash{}, j'ai soumis un projet en tant que Porteur de Projet                                      & Satisfaisante                                                                                                  & 5                                                                                                              & TH                                                                                                             & TH                                                                                                             & Cadres et professions intellectuelles                                                                          & Moins de deux heures                                                                                           &  0                                                                                                            \\\\\n",
       "\t 27582                                                                              & NA                                                                                 & NA                                                                                 & NA                                                                                 & NA                                                                                 & NA                                                                                 & NA                                                                                 & NA                                                                                 & NA                                                                                 & NA                                                                                 & ...                                                                                & NA                                                                                 & NA                                                                                 & NA                                                                                 & NA                                                                                 & NA                                                                                 & NA                                                                                 & NA                                                                                 & NA                                                                                 & NA                                                                                 & NA                                                                                \\\\\n",
       "\t 27808                                                                                             & NA                                                                                                & Effectuation \\#2                                                                                 & un homme                                                                                          & 1986                                                                                              & Haïti                                                                                             & Bac+3 (Licence ou équivalent)                                                                     & Management/Gestion d  entreprise                                                                  & En recherche d'emploi                                                                             & autre                                                                                             & ...                                                                                               & Moyen                                                                                             & Plus de 8 heures                                                                                  & Oui\\textbackslash{}, je suis devenu Coach sur au moins un projet et j'ai laissé des commentaires & Très satisfaisante                                                                                & 5                                                                                                 & B                                                                                                 & B                                                                                                 & En recherche d'emploi                                                                             & Entre quatre et six heures                                                                        &  0                                                                                               \\\\\n",
       "\t 27532                                                                                             & NA                                                                                                & Laboratoire, Effectuation \\#2                                                                    & un homme                                                                                          & 1975                                                                                              & France                                                                                            & Bac ou équivalent                                                                                 & Droit                                                                                             & Cadres et professions intellectuelles                                                             & par un ami ou une connaissance                                                                    & ...                                                                                               & Facile                                                                                            & De 2 à  4 heures                                                                                  & Oui\\textbackslash{}, j'ai soumis un projet en tant que Porteur de Projet                         & Très satisfaisante                                                                                & 2                                                                                                 & TH                                                                                                & TH                                                                                                & Cadres et professions intellectuelles                                                             & Entre deux et quatre heures                                                                       &  0                                                                                               \\\\\n",
       "\t 17343                                                                              & NA                                                                                 & NA                                                                                 & NA                                                                                 & NA                                                                                 & NA                                                                                 & NA                                                                                 & NA                                                                                 & NA                                                                                 & NA                                                                                 & ...                                                                                & NA                                                                                 & NA                                                                                 & NA                                                                                 & NA                                                                                 & NA                                                                                 & NA                                                                                 & NA                                                                                 & NA                                                                                 & NA                                                                                 & NA                                                                                \\\\\n",
       "\t  2630                                                                              & NA                                                                                 & Effectuation \\#2                                                                  & un homme                                                                           & 1957                                                                               & Madagascar                                                                         & Bac+5 (Master ou équivalent)                                                       & Management/Gestion d  entreprise                                                   & Cadres et professions intellectuelles                                              & par un article ou un blog sur Internet                                             & ...                                                                                & NA                                                                                 & NA                                                                                 & NA                                                                                 & NA                                                                                 & NA                                                                                 & B                                                                                  & B                                                                                  & Cadres et professions intellectuelles                                              & Moins de deux heures                                                               &  0                                                                                \\\\\n",
       "\\end{tabular}\n"
      ],
      "text/markdown": [
       "\n",
       "| Student_ID | Current.Score | Section | Gender | birth.year | Country | Diploma | Formation | CSP | How.heard | ... | Eval.diffic | Estimated.hours | Part.labo | Plat.satisf | Peer.eval.relev | Country_HDI | Country_HDI.fin | CSP.fin | Temps.dispo.fin | EMLyon.et |\n",
       "|---|---|---|---|---|---|---|---|---|---|---|---|---|---|---|---|---|---|---|---|---|\n",
       "| 32360                                                                              | NA                                                                                 | Laboratoire, Effectuation #2                                                       | une femme                                                                          | 1967                                                                               | France                                                                             | Bac+5 (Master ou équivalent)                                                       | Sciences humaines (histoire\\, archéologie\\, philosophie\\, etc)                  | Cadres et professions intellectuelles                                              | par un ami ou une connaissance                                                     | ...                                                                                | Très facile                                                                        | De 1 à  2 heures                                                                   | Oui\\, j'ai soumis un projet en tant que Porteur de Projet                         | Satisfaisante                                                                      | 5                                                                                  | TH                                                                                 | TH                                                                                 | Cadres et professions intellectuelles                                              | Moins de deux heures                                                               |  0                                                                                 |\n",
       "| 27582                                                                              | NA                                                                                 | NA                                                                                 | NA                                                                                 | NA                                                                                 | NA                                                                                 | NA                                                                                 | NA                                                                                 | NA                                                                                 | NA                                                                                 | ...                                                                                | NA                                                                                 | NA                                                                                 | NA                                                                                 | NA                                                                                 | NA                                                                                 | NA                                                                                 | NA                                                                                 | NA                                                                                 | NA                                                                                 | NA                                                                                 |\n",
       "| 27808                                                                              | NA                                                                                 | Effectuation #2                                                                    | un homme                                                                           | 1986                                                                               | Haïti                                                                              | Bac+3 (Licence ou équivalent)                                                      | Management/Gestion d  entreprise                                                   | En recherche d'emploi                                                              | autre                                                                              | ...                                                                                | Moyen                                                                              | Plus de 8 heures                                                                   | Oui\\, je suis devenu Coach sur au moins un projet et j'ai laissé des commentaires | Très satisfaisante                                                                 | 5                                                                                  | B                                                                                  | B                                                                                  | En recherche d'emploi                                                              | Entre quatre et six heures                                                         |  0                                                                                 |\n",
       "| 27532                                                                              | NA                                                                                 | Laboratoire, Effectuation #2                                                       | un homme                                                                           | 1975                                                                               | France                                                                             | Bac ou équivalent                                                                  | Droit                                                                              | Cadres et professions intellectuelles                                              | par un ami ou une connaissance                                                     | ...                                                                                | Facile                                                                             | De 2 à  4 heures                                                                   | Oui\\, j'ai soumis un projet en tant que Porteur de Projet                         | Très satisfaisante                                                                 | 2                                                                                  | TH                                                                                 | TH                                                                                 | Cadres et professions intellectuelles                                              | Entre deux et quatre heures                                                        |  0                                                                                 |\n",
       "| 17343                                                                              | NA                                                                                 | NA                                                                                 | NA                                                                                 | NA                                                                                 | NA                                                                                 | NA                                                                                 | NA                                                                                 | NA                                                                                 | NA                                                                                 | ...                                                                                | NA                                                                                 | NA                                                                                 | NA                                                                                 | NA                                                                                 | NA                                                                                 | NA                                                                                 | NA                                                                                 | NA                                                                                 | NA                                                                                 | NA                                                                                 |\n",
       "|  2630                                                                              | NA                                                                                 | Effectuation #2                                                                    | un homme                                                                           | 1957                                                                               | Madagascar                                                                         | Bac+5 (Master ou équivalent)                                                       | Management/Gestion d  entreprise                                                   | Cadres et professions intellectuelles                                              | par un article ou un blog sur Internet                                             | ...                                                                                | NA                                                                                 | NA                                                                                 | NA                                                                                 | NA                                                                                 | NA                                                                                 | B                                                                                  | B                                                                                  | Cadres et professions intellectuelles                                              | Moins de deux heures                                                               |  0                                                                                 |\n",
       "\n"
      ],
      "text/plain": [
       "  Student_ID Current.Score Section                      Gender    birth.year\n",
       "1 32360      NA            Laboratoire, Effectuation #2 une femme 1967      \n",
       "2 27582      NA            NA                           NA        NA        \n",
       "3 27808      NA            Effectuation #2              un homme  1986      \n",
       "4 27532      NA            Laboratoire, Effectuation #2 un homme  1975      \n",
       "5 17343      NA            NA                           NA        NA        \n",
       "6  2630      NA            Effectuation #2              un homme  1957      \n",
       "  Country    Diploma                      \n",
       "1 France     Bac+5 (Master ou équivalent) \n",
       "2 NA         NA                           \n",
       "3 Haïti      Bac+3 (Licence ou équivalent)\n",
       "4 France     Bac ou équivalent            \n",
       "5 NA         NA                           \n",
       "6 Madagascar Bac+5 (Master ou équivalent) \n",
       "  Formation                                                        \n",
       "1 Sciences humaines (histoire\\\\, archéologie\\\\, philosophie\\\\, etc)\n",
       "2 NA                                                               \n",
       "3 Management/Gestion d  entreprise                                 \n",
       "4 Droit                                                            \n",
       "5 NA                                                               \n",
       "6 Management/Gestion d  entreprise                                 \n",
       "  CSP                                   How.heard                             \n",
       "1 Cadres et professions intellectuelles par un ami ou une connaissance        \n",
       "2 NA                                    NA                                    \n",
       "3 En recherche d'emploi                 autre                                 \n",
       "4 Cadres et professions intellectuelles par un ami ou une connaissance        \n",
       "5 NA                                    NA                                    \n",
       "6 Cadres et professions intellectuelles par un article ou un blog sur Internet\n",
       "  ... Eval.diffic Estimated.hours \n",
       "1 ... Très facile De 1 à  2 heures\n",
       "2 ... NA          NA              \n",
       "3 ... Moyen       Plus de 8 heures\n",
       "4 ... Facile      De 2 à  4 heures\n",
       "5 ... NA          NA              \n",
       "6 ... NA          NA              \n",
       "  Part.labo                                                                         \n",
       "1 Oui\\\\, j'ai soumis un projet en tant que Porteur de Projet                        \n",
       "2 NA                                                                                \n",
       "3 Oui\\\\, je suis devenu Coach sur au moins un projet et j'ai laissé des commentaires\n",
       "4 Oui\\\\, j'ai soumis un projet en tant que Porteur de Projet                        \n",
       "5 NA                                                                                \n",
       "6 NA                                                                                \n",
       "  Plat.satisf        Peer.eval.relev Country_HDI Country_HDI.fin\n",
       "1 Satisfaisante      5               TH          TH             \n",
       "2 NA                 NA              NA          NA             \n",
       "3 Très satisfaisante 5               B           B              \n",
       "4 Très satisfaisante 2               TH          TH             \n",
       "5 NA                 NA              NA          NA             \n",
       "6 NA                 NA              B           B              \n",
       "  CSP.fin                               Temps.dispo.fin             EMLyon.et\n",
       "1 Cadres et professions intellectuelles Moins de deux heures         0       \n",
       "2 NA                                    NA                          NA       \n",
       "3 En recherche d'emploi                 Entre quatre et six heures   0       \n",
       "4 Cadres et professions intellectuelles Entre deux et quatre heures  0       \n",
       "5 NA                                    NA                          NA       \n",
       "6 Cadres et professions intellectuelles Moins de deux heures         0       "
      ]
     },
     "metadata": {},
     "output_type": "display_data"
    }
   ],
   "source": [
    "effec2.quest.compil=read.csv('effec2.quest.compil.csv',sep=',')\n",
    "head(effec2.quest.compil)"
   ]
  },
  {
   "cell_type": "code",
   "execution_count": 394,
   "id": "97bb36d9",
   "metadata": {},
   "outputs": [
    {
     "data": {
      "text/html": [
       "<table>\n",
       "<thead><tr><th scope=col>Student_ID</th><th scope=col>Certif.bin</th><th scope=col>Section</th><th scope=col>Gender</th><th scope=col>birth.year</th><th scope=col>Country</th><th scope=col>Diploma</th><th scope=col>EMLYON.et</th><th scope=col>Formation</th><th scope=col>CSP</th><th scope=col>...</th><th scope=col>Incitation</th><th scope=col>Temps.Dispo</th><th scope=col>Exp.MOOC</th><th scope=col>Completion.proba</th><th scope=col>EMLyon</th><th scope=col>Country_HDI</th><th scope=col>Country_HDI.fin</th><th scope=col>age</th><th scope=col>CSP.fin</th><th scope=col>Temps.dispo.fin</th></tr></thead>\n",
       "<tbody>\n",
       "\t<tr><td>68029                                                                   </td><td>1                                                                       </td><td>MOOC Effectuation #3                                                    </td><td>un homme                                                                </td><td>1982                                                                    </td><td>France                                                                  </td><td>Bac+5 (Master ou équivalent)                                            </td><td>Non                                                                     </td><td>Mathématiques\\, informatique                                           </td><td>Artisans, commerÃ§ants, chefs d'entreprise                              </td><td>...                                                                     </td><td> 1                                                                      </td><td>Entre deux et quatre heures                                             </td><td>Non, c'est ma première participation Ã  un MOOC                         </td><td>5                                                                       </td><td>Non                                                                     </td><td>TH                                                                      </td><td>TH                                                                      </td><td>31                                                                      </td><td>Artisans, commerÃ§ants, chefs d'entreprise                              </td><td>Entre deux et quatre heures                                             </td></tr>\n",
       "\t<tr><td>66198                                                                             </td><td>1                                                                                 </td><td>Laboratoire, Laboratoire Effectuation #3, MOOC Effectuation #3                    </td><td>un homme                                                                          </td><td>1994                                                                              </td><td><span style=white-space:pre-wrap>Maroc        </span>                             </td><td>Bac+2 (Deug, IUT, BTS ou équivalent)                                              </td><td>Non                                                                               </td><td>Sciences sociales (économie\\, sciences politiques\\, sociologie\\, etc)          </td><td><span style=white-space:pre-wrap>Etudiants                                 </span></td><td>...                                                                               </td><td> 4                                                                                </td><td>Entre deux et quatre heures                                                       </td><td>Non, c'est ma première participation Ã  un MOOC                                   </td><td>5                                                                                 </td><td>Non                                                                               </td><td>H                                                                                 </td><td>H&amp;M                                                                           </td><td>19                                                                                </td><td><span style=white-space:pre-wrap>Etudiants                                 </span></td><td>Entre deux et quatre heures                                                       </td></tr>\n",
       "\t<tr><td>68052                                                                                                           </td><td>1                                                                                                               </td><td><span style=white-space:pre-wrap>MOOC Effectuation #3                                          </span>          </td><td>un homme                                                                                                        </td><td>1988                                                                                                            </td><td><span style=white-space:pre-wrap>Maroc        </span>                                                           </td><td><span style=white-space:pre-wrap>Bac+5 (Master ou équivalent)        </span>                                    </td><td>Oui                                                                                                             </td><td><span style=white-space:pre-wrap>Mathématiques\\, informatique                                           </span></td><td><span style=white-space:pre-wrap>Cadres et professions intellectuelles     </span>                              </td><td>...                                                                                                             </td><td> 4                                                                                                              </td><td>Entre deux et quatre heures                                                                                     </td><td>Non, c'est ma première participation Ã  un MOOC                                                                 </td><td>4                                                                                                               </td><td>Oui                                                                                                             </td><td>H                                                                                                               </td><td>H&amp;M                                                                                                         </td><td>25                                                                                                              </td><td><span style=white-space:pre-wrap>Cadres et professions intellectuelles     </span>                              </td><td>Entre deux et quatre heures                                                                                     </td></tr>\n",
       "\t<tr><td>14161                                                                   </td><td>1                                                                       </td><td>Laboratoire, MOOC Effectuation #3                                       </td><td>un homme                                                                </td><td>1984                                                                    </td><td>Niger                                                                   </td><td>Bac+5 (Master ou équivalent)                                            </td><td>Non                                                                     </td><td>Ingénierie et technologies                                              </td><td>Employés                                                                </td><td>...                                                                     </td><td>NA                                                                      </td><td>Entre une et deux heures                                                </td><td>Oui, dont certains intégralement                                        </td><td>3                                                                       </td><td>Non                                                                     </td><td>B                                                                       </td><td>B                                                                       </td><td>29                                                                      </td><td>Employés                                                                </td><td>Moins de deux heures                                                    </td></tr>\n",
       "\t<tr><td>64444                                                                   </td><td>1                                                                       </td><td>MOOC Effectuation #3, Laboratoire                                       </td><td>un homme                                                                </td><td>1989                                                                    </td><td>Côte d'Ivoire                                                           </td><td>Bac+2 (Deug, IUT, BTS ou équivalent)                                    </td><td>Non                                                                     </td><td>Management/Gestion d'entreprise                                         </td><td>Cadres et professions intellectuelles                                   </td><td>...                                                                     </td><td> 5                                                                      </td><td>Entre deux et quatre heures                                             </td><td>Non, c'est ma première participation Ã  un MOOC                         </td><td>5                                                                       </td><td>Non                                                                     </td><td>B                                                                       </td><td>B                                                                       </td><td>24                                                                      </td><td>Cadres et professions intellectuelles                                   </td><td>Entre deux et quatre heures                                             </td></tr>\n",
       "\t<tr><td>64819                                                                   </td><td>1                                                                       </td><td>Laboratoire, Laboratoire Effectuation #3, MOOC Effectuation #3          </td><td>un homme                                                                </td><td>1964                                                                    </td><td>Belgique                                                                </td><td>Bac+5 (Master ou équivalent)                                            </td><td>Non                                                                     </td><td>Mathématiques\\, informatique                                           </td><td>Cadres et professions intellectuelles                                   </td><td>...                                                                     </td><td> 3                                                                      </td><td>Entre deux et quatre heures                                             </td><td>Non, c'est ma première participation Ã  un MOOC                         </td><td>5                                                                       </td><td>Non                                                                     </td><td>TH                                                                      </td><td>TH                                                                      </td><td>49                                                                      </td><td>Cadres et professions intellectuelles                                   </td><td>Entre deux et quatre heures                                             </td></tr>\n",
       "</tbody>\n",
       "</table>\n"
      ],
      "text/latex": [
       "\\begin{tabular}{r|llllllllllllllllllllllllll}\n",
       " Student\\_ID & Certif.bin & Section & Gender & birth.year & Country & Diploma & EMLYON.et & Formation & CSP & ... & Incitation & Temps.Dispo & Exp.MOOC & Completion.proba & EMLyon & Country\\_HDI & Country\\_HDI.fin & age & CSP.fin & Temps.dispo.fin\\\\\n",
       "\\hline\n",
       "\t 68029                                                                                   & 1                                                                                       & MOOC Effectuation \\#3                                                                  & un homme                                                                                & 1982                                                                                    & France                                                                                  & Bac+5 (Master ou équivalent)                                                            & Non                                                                                     & Mathématiques\\textbackslash{}, informatique                                            & Artisans, commerÃ§ants, chefs d'entreprise                                              & ...                                                                                     &  1                                                                                      & Entre deux et quatre heures                                                             & Non, c'est ma première participation Ã  un MOOC                                         & 5                                                                                       & Non                                                                                     & TH                                                                                      & TH                                                                                      & 31                                                                                      & Artisans, commerÃ§ants, chefs d'entreprise                                              & Entre deux et quatre heures                                                            \\\\\n",
       "\t 66198                                                                                                                 & 1                                                                                                                     & Laboratoire, Laboratoire Effectuation \\#3, MOOC Effectuation \\#3                                                    & un homme                                                                                                              & 1994                                                                                                                  & Maroc                                                                                                                 & Bac+2 (Deug, IUT, BTS ou équivalent)                                                                                  & Non                                                                                                                   & Sciences sociales (économie\\textbackslash{}, sciences politiques\\textbackslash{}, sociologie\\textbackslash{}, etc) & Etudiants                                                                                                             & ...                                                                                                                   &  4                                                                                                                    & Entre deux et quatre heures                                                                                           & Non, c'est ma première participation Ã  un MOOC                                                                       & 5                                                                                                                     & Non                                                                                                                   & H                                                                                                                     & H\\&M                                                                                                                 & 19                                                                                                                    & Etudiants                                                                                                             & Entre deux et quatre heures                                                                                          \\\\\n",
       "\t 68052                                                                                   & 1                                                                                       & MOOC Effectuation \\#3                                                                  & un homme                                                                                & 1988                                                                                    & Maroc                                                                                   & Bac+5 (Master ou équivalent)                                                            & Oui                                                                                     & Mathématiques\\textbackslash{}, informatique                                            & Cadres et professions intellectuelles                                                   & ...                                                                                     &  4                                                                                      & Entre deux et quatre heures                                                             & Non, c'est ma première participation Ã  un MOOC                                         & 4                                                                                       & Oui                                                                                     & H                                                                                       & H\\&M                                                                                   & 25                                                                                      & Cadres et professions intellectuelles                                                   & Entre deux et quatre heures                                                            \\\\\n",
       "\t 14161                                                                    & 1                                                                        & Laboratoire, MOOC Effectuation \\#3                                      & un homme                                                                 & 1984                                                                     & Niger                                                                    & Bac+5 (Master ou équivalent)                                             & Non                                                                      & Ingénierie et technologies                                               & Employés                                                                 & ...                                                                      & NA                                                                       & Entre une et deux heures                                                 & Oui, dont certains intégralement                                         & 3                                                                        & Non                                                                      & B                                                                        & B                                                                        & 29                                                                       & Employés                                                                 & Moins de deux heures                                                    \\\\\n",
       "\t 64444                                                                    & 1                                                                        & MOOC Effectuation \\#3, Laboratoire                                      & un homme                                                                 & 1989                                                                     & Côte d'Ivoire                                                            & Bac+2 (Deug, IUT, BTS ou équivalent)                                     & Non                                                                      & Management/Gestion d'entreprise                                          & Cadres et professions intellectuelles                                    & ...                                                                      &  5                                                                       & Entre deux et quatre heures                                              & Non, c'est ma première participation Ã  un MOOC                          & 5                                                                        & Non                                                                      & B                                                                        & B                                                                        & 24                                                                       & Cadres et professions intellectuelles                                    & Entre deux et quatre heures                                             \\\\\n",
       "\t 64819                                                                                   & 1                                                                                       & Laboratoire, Laboratoire Effectuation \\#3, MOOC Effectuation \\#3                      & un homme                                                                                & 1964                                                                                    & Belgique                                                                                & Bac+5 (Master ou équivalent)                                                            & Non                                                                                     & Mathématiques\\textbackslash{}, informatique                                            & Cadres et professions intellectuelles                                                   & ...                                                                                     &  3                                                                                      & Entre deux et quatre heures                                                             & Non, c'est ma première participation Ã  un MOOC                                         & 5                                                                                       & Non                                                                                     & TH                                                                                      & TH                                                                                      & 49                                                                                      & Cadres et professions intellectuelles                                                   & Entre deux et quatre heures                                                            \\\\\n",
       "\\end{tabular}\n"
      ],
      "text/markdown": [
       "\n",
       "| Student_ID | Certif.bin | Section | Gender | birth.year | Country | Diploma | EMLYON.et | Formation | CSP | ... | Incitation | Temps.Dispo | Exp.MOOC | Completion.proba | EMLyon | Country_HDI | Country_HDI.fin | age | CSP.fin | Temps.dispo.fin |\n",
       "|---|---|---|---|---|---|---|---|---|---|---|---|---|---|---|---|---|---|---|---|---|\n",
       "| 68029                                                                    | 1                                                                        | MOOC Effectuation #3                                                     | un homme                                                                 | 1982                                                                     | France                                                                   | Bac+5 (Master ou équivalent)                                             | Non                                                                      | Mathématiques\\, informatique                                            | Artisans, commerÃ§ants, chefs d'entreprise                               | ...                                                                      |  1                                                                       | Entre deux et quatre heures                                              | Non, c'est ma première participation Ã  un MOOC                          | 5                                                                        | Non                                                                      | TH                                                                       | TH                                                                       | 31                                                                       | Artisans, commerÃ§ants, chefs d'entreprise                               | Entre deux et quatre heures                                              |\n",
       "| 66198                                                                    | 1                                                                        | Laboratoire, Laboratoire Effectuation #3, MOOC Effectuation #3           | un homme                                                                 | 1994                                                                     | Maroc                                                                    | Bac+2 (Deug, IUT, BTS ou équivalent)                                     | Non                                                                      | Sciences sociales (économie\\, sciences politiques\\, sociologie\\, etc) | Etudiants                                                                | ...                                                                      |  4                                                                       | Entre deux et quatre heures                                              | Non, c'est ma première participation Ã  un MOOC                          | 5                                                                        | Non                                                                      | H                                                                        | H&M                                                                      | 19                                                                       | Etudiants                                                                | Entre deux et quatre heures                                              |\n",
       "| 68052                                                                    | 1                                                                        | MOOC Effectuation #3                                                     | un homme                                                                 | 1988                                                                     | Maroc                                                                    | Bac+5 (Master ou équivalent)                                             | Oui                                                                      | Mathématiques\\, informatique                                            | Cadres et professions intellectuelles                                    | ...                                                                      |  4                                                                       | Entre deux et quatre heures                                              | Non, c'est ma première participation Ã  un MOOC                          | 4                                                                        | Oui                                                                      | H                                                                        | H&M                                                                      | 25                                                                       | Cadres et professions intellectuelles                                    | Entre deux et quatre heures                                              |\n",
       "| 14161                                                                    | 1                                                                        | Laboratoire, MOOC Effectuation #3                                        | un homme                                                                 | 1984                                                                     | Niger                                                                    | Bac+5 (Master ou équivalent)                                             | Non                                                                      | Ingénierie et technologies                                               | Employés                                                                 | ...                                                                      | NA                                                                       | Entre une et deux heures                                                 | Oui, dont certains intégralement                                         | 3                                                                        | Non                                                                      | B                                                                        | B                                                                        | 29                                                                       | Employés                                                                 | Moins de deux heures                                                     |\n",
       "| 64444                                                                    | 1                                                                        | MOOC Effectuation #3, Laboratoire                                        | un homme                                                                 | 1989                                                                     | Côte d'Ivoire                                                            | Bac+2 (Deug, IUT, BTS ou équivalent)                                     | Non                                                                      | Management/Gestion d'entreprise                                          | Cadres et professions intellectuelles                                    | ...                                                                      |  5                                                                       | Entre deux et quatre heures                                              | Non, c'est ma première participation Ã  un MOOC                          | 5                                                                        | Non                                                                      | B                                                                        | B                                                                        | 24                                                                       | Cadres et professions intellectuelles                                    | Entre deux et quatre heures                                              |\n",
       "| 64819                                                                    | 1                                                                        | Laboratoire, Laboratoire Effectuation #3, MOOC Effectuation #3           | un homme                                                                 | 1964                                                                     | Belgique                                                                 | Bac+5 (Master ou équivalent)                                             | Non                                                                      | Mathématiques\\, informatique                                            | Cadres et professions intellectuelles                                    | ...                                                                      |  3                                                                       | Entre deux et quatre heures                                              | Non, c'est ma première participation Ã  un MOOC                          | 5                                                                        | Non                                                                      | TH                                                                       | TH                                                                       | 49                                                                       | Cadres et professions intellectuelles                                    | Entre deux et quatre heures                                              |\n",
       "\n"
      ],
      "text/plain": [
       "  Student_ID Certif.bin\n",
       "1 68029      1         \n",
       "2 66198      1         \n",
       "3 68052      1         \n",
       "4 14161      1         \n",
       "5 64444      1         \n",
       "6 64819      1         \n",
       "  Section                                                        Gender  \n",
       "1 MOOC Effectuation #3                                           un homme\n",
       "2 Laboratoire, Laboratoire Effectuation #3, MOOC Effectuation #3 un homme\n",
       "3 MOOC Effectuation #3                                           un homme\n",
       "4 Laboratoire, MOOC Effectuation #3                              un homme\n",
       "5 MOOC Effectuation #3, Laboratoire                              un homme\n",
       "6 Laboratoire, Laboratoire Effectuation #3, MOOC Effectuation #3 un homme\n",
       "  birth.year Country       Diploma                              EMLYON.et\n",
       "1 1982       France        Bac+5 (Master ou équivalent)         Non      \n",
       "2 1994       Maroc         Bac+2 (Deug, IUT, BTS ou équivalent) Non      \n",
       "3 1988       Maroc         Bac+5 (Master ou équivalent)         Oui      \n",
       "4 1984       Niger         Bac+5 (Master ou équivalent)         Non      \n",
       "5 1989       Côte d'Ivoire Bac+2 (Deug, IUT, BTS ou équivalent) Non      \n",
       "6 1964       Belgique      Bac+5 (Master ou équivalent)         Non      \n",
       "  Formation                                                               \n",
       "1 Mathématiques\\\\, informatique                                           \n",
       "2 Sciences sociales (économie\\\\, sciences politiques\\\\, sociologie\\\\, etc)\n",
       "3 Mathématiques\\\\, informatique                                           \n",
       "4 Ingénierie et technologies                                              \n",
       "5 Management/Gestion d'entreprise                                         \n",
       "6 Mathématiques\\\\, informatique                                           \n",
       "  CSP                                        ... Incitation\n",
       "1 Artisans, commerÃ§ants, chefs d'entreprise ...  1        \n",
       "2 Etudiants                                  ...  4        \n",
       "3 Cadres et professions intellectuelles      ...  4        \n",
       "4 Employés                                   ... NA        \n",
       "5 Cadres et professions intellectuelles      ...  5        \n",
       "6 Cadres et professions intellectuelles      ...  3        \n",
       "  Temps.Dispo                 Exp.MOOC                                       \n",
       "1 Entre deux et quatre heures Non, c'est ma première participation Ã  un MOOC\n",
       "2 Entre deux et quatre heures Non, c'est ma première participation Ã  un MOOC\n",
       "3 Entre deux et quatre heures Non, c'est ma première participation Ã  un MOOC\n",
       "4 Entre une et deux heures    Oui, dont certains intégralement               \n",
       "5 Entre deux et quatre heures Non, c'est ma première participation Ã  un MOOC\n",
       "6 Entre deux et quatre heures Non, c'est ma première participation Ã  un MOOC\n",
       "  Completion.proba EMLyon Country_HDI Country_HDI.fin age\n",
       "1 5                Non    TH          TH              31 \n",
       "2 5                Non    H           H&M             19 \n",
       "3 4                Oui    H           H&M             25 \n",
       "4 3                Non    B           B               29 \n",
       "5 5                Non    B           B               24 \n",
       "6 5                Non    TH          TH              49 \n",
       "  CSP.fin                                    Temps.dispo.fin            \n",
       "1 Artisans, commerÃ§ants, chefs d'entreprise Entre deux et quatre heures\n",
       "2 Etudiants                                  Entre deux et quatre heures\n",
       "3 Cadres et professions intellectuelles      Entre deux et quatre heures\n",
       "4 Employés                                   Moins de deux heures       \n",
       "5 Cadres et professions intellectuelles      Entre deux et quatre heures\n",
       "6 Cadres et professions intellectuelles      Entre deux et quatre heures"
      ]
     },
     "metadata": {},
     "output_type": "display_data"
    },
    {
     "data": {
      "text/html": [
       "26"
      ],
      "text/latex": [
       "26"
      ],
      "text/markdown": [
       "26"
      ],
      "text/plain": [
       "[1] 26"
      ]
     },
     "metadata": {},
     "output_type": "display_data"
    }
   ],
   "source": [
    "effec3.quest.compil=read.csv('effec3.quest.compil.csv',sep=',')\n",
    "head(effec3.quest.compil)\n",
    "length(colnames((effec3.quest.compil)))"
   ]
  },
  {
   "cell_type": "code",
   "execution_count": 395,
   "id": "2d1d4759",
   "metadata": {
    "scrolled": true
   },
   "outputs": [
    {
     "data": {
      "text/html": [
       "<table>\n",
       "<thead><tr><th scope=col>Student_ID</th><th scope=col>Exam.score</th><th scope=col>Exam.bin</th><th scope=col>Assignment.score</th><th scope=col>Assignment.bin</th><th scope=col>Quizz.1.score</th><th scope=col>Quizz.1.bin</th><th scope=col>Quizz.2.score</th><th scope=col>Quizz.2.bin</th><th scope=col>Quizz.3.score</th><th scope=col>...</th><th scope=col>Post.forum.4</th><th scope=col>Post.forum.4.2</th><th scope=col>view.forum.4</th><th scope=col>view.forum.4.2</th><th scope=col>Post.forum.5</th><th scope=col>Post.forum.5.2</th><th scope=col>view.forum.5</th><th scope=col>view.forum.5.2</th><th scope=col>last.video</th><th scope=col>last.quizz</th></tr></thead>\n",
       "<tbody>\n",
       "\t<tr><td>28 </td><td>NA </td><td>0  </td><td>NA </td><td>0  </td><td>NA </td><td>0  </td><td>NA </td><td>0  </td><td>NA </td><td>...</td><td>0  </td><td>0  </td><td>0  </td><td>0  </td><td>0  </td><td>0  </td><td>0  </td><td>0  </td><td> 1 </td><td>0  </td></tr>\n",
       "\t<tr><td>36 </td><td>NA </td><td>0  </td><td>NA </td><td>0  </td><td>NA </td><td>0  </td><td>NA </td><td>0  </td><td>NA </td><td>...</td><td>0  </td><td>0  </td><td>0  </td><td>0  </td><td>0  </td><td>0  </td><td>0  </td><td>0  </td><td> 0 </td><td>0  </td></tr>\n",
       "\t<tr><td>45 </td><td>NA </td><td>0  </td><td>NA </td><td>0  </td><td>16 </td><td>1  </td><td>20 </td><td>1  </td><td>18 </td><td>...</td><td>0  </td><td>0  </td><td>1  </td><td>1  </td><td>0  </td><td>0  </td><td>1  </td><td>1  </td><td>34 </td><td>5  </td></tr>\n",
       "\t<tr><td>83 </td><td>NA </td><td>0  </td><td>60 </td><td>1  </td><td>13 </td><td>1  </td><td>20 </td><td>1  </td><td>18 </td><td>...</td><td>0  </td><td>0  </td><td>1  </td><td>0  </td><td>0  </td><td>0  </td><td>1  </td><td>0  </td><td>29 </td><td>5  </td></tr>\n",
       "\t<tr><td>84 </td><td>NA </td><td>0  </td><td>NA </td><td>0  </td><td>18 </td><td>1  </td><td>20 </td><td>1  </td><td>NA </td><td>...</td><td>0  </td><td>0  </td><td>0  </td><td>0  </td><td>0  </td><td>0  </td><td>0  </td><td>0  </td><td>23 </td><td>2  </td></tr>\n",
       "\t<tr><td>87 </td><td>NA </td><td>0  </td><td>NA </td><td>0  </td><td>NA </td><td>0  </td><td>NA </td><td>0  </td><td>NA </td><td>...</td><td>0  </td><td>0  </td><td>0  </td><td>0  </td><td>0  </td><td>0  </td><td>0  </td><td>0  </td><td> 2 </td><td>0  </td></tr>\n",
       "</tbody>\n",
       "</table>\n"
      ],
      "text/latex": [
       "\\begin{tabular}{r|lllllllllllllllllllllllllllllllllllllllllllllllllllllllllllllllllllllllll}\n",
       " Student\\_ID & Exam.score & Exam.bin & Assignment.score & Assignment.bin & Quizz.1.score & Quizz.1.bin & Quizz.2.score & Quizz.2.bin & Quizz.3.score & ... & Post.forum.4 & Post.forum.4.2 & view.forum.4 & view.forum.4.2 & Post.forum.5 & Post.forum.5.2 & view.forum.5 & view.forum.5.2 & last.video & last.quizz\\\\\n",
       "\\hline\n",
       "\t 28  & NA  & 0   & NA  & 0   & NA  & 0   & NA  & 0   & NA  & ... & 0   & 0   & 0   & 0   & 0   & 0   & 0   & 0   &  1  & 0  \\\\\n",
       "\t 36  & NA  & 0   & NA  & 0   & NA  & 0   & NA  & 0   & NA  & ... & 0   & 0   & 0   & 0   & 0   & 0   & 0   & 0   &  0  & 0  \\\\\n",
       "\t 45  & NA  & 0   & NA  & 0   & 16  & 1   & 20  & 1   & 18  & ... & 0   & 0   & 1   & 1   & 0   & 0   & 1   & 1   & 34  & 5  \\\\\n",
       "\t 83  & NA  & 0   & 60  & 1   & 13  & 1   & 20  & 1   & 18  & ... & 0   & 0   & 1   & 0   & 0   & 0   & 1   & 0   & 29  & 5  \\\\\n",
       "\t 84  & NA  & 0   & NA  & 0   & 18  & 1   & 20  & 1   & NA  & ... & 0   & 0   & 0   & 0   & 0   & 0   & 0   & 0   & 23  & 2  \\\\\n",
       "\t 87  & NA  & 0   & NA  & 0   & NA  & 0   & NA  & 0   & NA  & ... & 0   & 0   & 0   & 0   & 0   & 0   & 0   & 0   &  2  & 0  \\\\\n",
       "\\end{tabular}\n"
      ],
      "text/markdown": [
       "\n",
       "| Student_ID | Exam.score | Exam.bin | Assignment.score | Assignment.bin | Quizz.1.score | Quizz.1.bin | Quizz.2.score | Quizz.2.bin | Quizz.3.score | ... | Post.forum.4 | Post.forum.4.2 | view.forum.4 | view.forum.4.2 | Post.forum.5 | Post.forum.5.2 | view.forum.5 | view.forum.5.2 | last.video | last.quizz |\n",
       "|---|---|---|---|---|---|---|---|---|---|---|---|---|---|---|---|---|---|---|---|---|\n",
       "| 28  | NA  | 0   | NA  | 0   | NA  | 0   | NA  | 0   | NA  | ... | 0   | 0   | 0   | 0   | 0   | 0   | 0   | 0   |  1  | 0   |\n",
       "| 36  | NA  | 0   | NA  | 0   | NA  | 0   | NA  | 0   | NA  | ... | 0   | 0   | 0   | 0   | 0   | 0   | 0   | 0   |  0  | 0   |\n",
       "| 45  | NA  | 0   | NA  | 0   | 16  | 1   | 20  | 1   | 18  | ... | 0   | 0   | 1   | 1   | 0   | 0   | 1   | 1   | 34  | 5   |\n",
       "| 83  | NA  | 0   | 60  | 1   | 13  | 1   | 20  | 1   | 18  | ... | 0   | 0   | 1   | 0   | 0   | 0   | 1   | 0   | 29  | 5   |\n",
       "| 84  | NA  | 0   | NA  | 0   | 18  | 1   | 20  | 1   | NA  | ... | 0   | 0   | 0   | 0   | 0   | 0   | 0   | 0   | 23  | 2   |\n",
       "| 87  | NA  | 0   | NA  | 0   | NA  | 0   | NA  | 0   | NA  | ... | 0   | 0   | 0   | 0   | 0   | 0   | 0   | 0   |  2  | 0   |\n",
       "\n"
      ],
      "text/plain": [
       "  Student_ID Exam.score Exam.bin Assignment.score Assignment.bin Quizz.1.score\n",
       "1 28         NA         0        NA               0              NA           \n",
       "2 36         NA         0        NA               0              NA           \n",
       "3 45         NA         0        NA               0              16           \n",
       "4 83         NA         0        60               1              13           \n",
       "5 84         NA         0        NA               0              18           \n",
       "6 87         NA         0        NA               0              NA           \n",
       "  Quizz.1.bin Quizz.2.score Quizz.2.bin Quizz.3.score ... Post.forum.4\n",
       "1 0           NA            0           NA            ... 0           \n",
       "2 0           NA            0           NA            ... 0           \n",
       "3 1           20            1           18            ... 0           \n",
       "4 1           20            1           18            ... 0           \n",
       "5 1           20            1           NA            ... 0           \n",
       "6 0           NA            0           NA            ... 0           \n",
       "  Post.forum.4.2 view.forum.4 view.forum.4.2 Post.forum.5 Post.forum.5.2\n",
       "1 0              0            0              0            0             \n",
       "2 0              0            0              0            0             \n",
       "3 0              1            1              0            0             \n",
       "4 0              1            0              0            0             \n",
       "5 0              0            0              0            0             \n",
       "6 0              0            0              0            0             \n",
       "  view.forum.5 view.forum.5.2 last.video last.quizz\n",
       "1 0            0               1         0         \n",
       "2 0            0               0         0         \n",
       "3 1            1              34         5         \n",
       "4 1            0              29         5         \n",
       "5 0            0              23         2         \n",
       "6 0            0               2         0         "
      ]
     },
     "metadata": {},
     "output_type": "display_data"
    },
    {
     "data": {
      "text/html": [
       "73"
      ],
      "text/latex": [
       "73"
      ],
      "text/markdown": [
       "73"
      ],
      "text/plain": [
       "[1] 73"
      ]
     },
     "metadata": {},
     "output_type": "display_data"
    }
   ],
   "source": [
    "usages.effec1=read.csv('usages.effec1.csv',sep=',')\n",
    "head(usages.effec1)\n",
    "length(colnames(usages.effec1))"
   ]
  },
  {
   "cell_type": "code",
   "execution_count": 396,
   "id": "952501a1",
   "metadata": {},
   "outputs": [
    {
     "data": {
      "text/html": [
       "<table>\n",
       "<thead><tr><th scope=col>Student_ID</th><th scope=col>Exam.score</th><th scope=col>Exam.bin</th><th scope=col>Assignment.score</th><th scope=col>Assignment.bin</th><th scope=col>Quizz.1.score</th><th scope=col>Quizz.1.bin</th><th scope=col>Quizz.2.score</th><th scope=col>Quizz.2.bin</th><th scope=col>Quizz.3.score</th><th scope=col>...</th><th scope=col>Post.forum.4.2</th><th scope=col>view.forum.4</th><th scope=col>view.forum.4.2</th><th scope=col>Post.forum.5</th><th scope=col>Post.forum.5.2</th><th scope=col>view.forum.5</th><th scope=col>view.forum.5.2</th><th scope=col>last.video</th><th scope=col>last.quizz</th><th scope=col>Assignment.choice</th></tr></thead>\n",
       "<tbody>\n",
       "\t<tr><td> 15     </td><td>NA      </td><td>0       </td><td>NA      </td><td>0       </td><td>  NA    </td><td>0       </td><td>      NA</td><td>0       </td><td>NA      </td><td>...     </td><td>0       </td><td>1       </td><td>0       </td><td>0       </td><td>0       </td><td>0       </td><td>0       </td><td> 3      </td><td>0       </td><td>0       </td></tr>\n",
       "\t<tr><td> 26     </td><td>NA      </td><td>0       </td><td>NA      </td><td>0       </td><td>20.0    </td><td>1       </td><td>      NA</td><td>0       </td><td>NA      </td><td>...     </td><td>0       </td><td>0       </td><td>0       </td><td>0       </td><td>0       </td><td>0       </td><td>0       </td><td> 3      </td><td>1       </td><td>0       </td></tr>\n",
       "\t<tr><td>151     </td><td>NA      </td><td>0       </td><td>NA      </td><td>0       </td><td>  NA    </td><td>0       </td><td>      NA</td><td>0       </td><td>NA      </td><td>...     </td><td>0       </td><td>0       </td><td>0       </td><td>0       </td><td>0       </td><td>0       </td><td>0       </td><td> 0      </td><td>0       </td><td>0       </td></tr>\n",
       "\t<tr><td>260     </td><td>NA      </td><td>0       </td><td>NA      </td><td>0       </td><td>17.1    </td><td>1       </td><td>16.33333</td><td>1       </td><td>NA      </td><td>...     </td><td>0       </td><td>0       </td><td>0       </td><td>0       </td><td>0       </td><td>0       </td><td>0       </td><td>14      </td><td>2       </td><td>0       </td></tr>\n",
       "\t<tr><td>263     </td><td>NA      </td><td>0       </td><td>NA      </td><td>0       </td><td>14.6    </td><td>1       </td><td>11.00000</td><td>1       </td><td>NA      </td><td>...     </td><td>0       </td><td>0       </td><td>0       </td><td>0       </td><td>0       </td><td>0       </td><td>0       </td><td> 7      </td><td>2       </td><td>0       </td></tr>\n",
       "\t<tr><td>430     </td><td>NA      </td><td>0       </td><td>NA      </td><td>0       </td><td>  NA    </td><td>0       </td><td>      NA</td><td>0       </td><td>NA      </td><td>...     </td><td>0       </td><td>0       </td><td>0       </td><td>0       </td><td>0       </td><td>0       </td><td>0       </td><td> 8      </td><td>0       </td><td>0       </td></tr>\n",
       "</tbody>\n",
       "</table>\n"
      ],
      "text/latex": [
       "\\begin{tabular}{r|llllllllllllllllllllllllllllllllllllllllllllllllllllllllllllllllllllllllll}\n",
       " Student\\_ID & Exam.score & Exam.bin & Assignment.score & Assignment.bin & Quizz.1.score & Quizz.1.bin & Quizz.2.score & Quizz.2.bin & Quizz.3.score & ... & Post.forum.4.2 & view.forum.4 & view.forum.4.2 & Post.forum.5 & Post.forum.5.2 & view.forum.5 & view.forum.5.2 & last.video & last.quizz & Assignment.choice\\\\\n",
       "\\hline\n",
       "\t  15      & NA       & 0        & NA       & 0        &   NA     & 0        &       NA & 0        & NA       & ...      & 0        & 1        & 0        & 0        & 0        & 0        & 0        &  3       & 0        & 0       \\\\\n",
       "\t  26      & NA       & 0        & NA       & 0        & 20.0     & 1        &       NA & 0        & NA       & ...      & 0        & 0        & 0        & 0        & 0        & 0        & 0        &  3       & 1        & 0       \\\\\n",
       "\t 151      & NA       & 0        & NA       & 0        &   NA     & 0        &       NA & 0        & NA       & ...      & 0        & 0        & 0        & 0        & 0        & 0        & 0        &  0       & 0        & 0       \\\\\n",
       "\t 260      & NA       & 0        & NA       & 0        & 17.1     & 1        & 16.33333 & 1        & NA       & ...      & 0        & 0        & 0        & 0        & 0        & 0        & 0        & 14       & 2        & 0       \\\\\n",
       "\t 263      & NA       & 0        & NA       & 0        & 14.6     & 1        & 11.00000 & 1        & NA       & ...      & 0        & 0        & 0        & 0        & 0        & 0        & 0        &  7       & 2        & 0       \\\\\n",
       "\t 430      & NA       & 0        & NA       & 0        &   NA     & 0        &       NA & 0        & NA       & ...      & 0        & 0        & 0        & 0        & 0        & 0        & 0        &  8       & 0        & 0       \\\\\n",
       "\\end{tabular}\n"
      ],
      "text/markdown": [
       "\n",
       "| Student_ID | Exam.score | Exam.bin | Assignment.score | Assignment.bin | Quizz.1.score | Quizz.1.bin | Quizz.2.score | Quizz.2.bin | Quizz.3.score | ... | Post.forum.4.2 | view.forum.4 | view.forum.4.2 | Post.forum.5 | Post.forum.5.2 | view.forum.5 | view.forum.5.2 | last.video | last.quizz | Assignment.choice |\n",
       "|---|---|---|---|---|---|---|---|---|---|---|---|---|---|---|---|---|---|---|---|---|\n",
       "|  15      | NA       | 0        | NA       | 0        |   NA     | 0        |       NA | 0        | NA       | ...      | 0        | 1        | 0        | 0        | 0        | 0        | 0        |  3       | 0        | 0        |\n",
       "|  26      | NA       | 0        | NA       | 0        | 20.0     | 1        |       NA | 0        | NA       | ...      | 0        | 0        | 0        | 0        | 0        | 0        | 0        |  3       | 1        | 0        |\n",
       "| 151      | NA       | 0        | NA       | 0        |   NA     | 0        |       NA | 0        | NA       | ...      | 0        | 0        | 0        | 0        | 0        | 0        | 0        |  0       | 0        | 0        |\n",
       "| 260      | NA       | 0        | NA       | 0        | 17.1     | 1        | 16.33333 | 1        | NA       | ...      | 0        | 0        | 0        | 0        | 0        | 0        | 0        | 14       | 2        | 0        |\n",
       "| 263      | NA       | 0        | NA       | 0        | 14.6     | 1        | 11.00000 | 1        | NA       | ...      | 0        | 0        | 0        | 0        | 0        | 0        | 0        |  7       | 2        | 0        |\n",
       "| 430      | NA       | 0        | NA       | 0        |   NA     | 0        |       NA | 0        | NA       | ...      | 0        | 0        | 0        | 0        | 0        | 0        | 0        |  8       | 0        | 0        |\n",
       "\n"
      ],
      "text/plain": [
       "  Student_ID Exam.score Exam.bin Assignment.score Assignment.bin Quizz.1.score\n",
       "1  15        NA         0        NA               0                NA         \n",
       "2  26        NA         0        NA               0              20.0         \n",
       "3 151        NA         0        NA               0                NA         \n",
       "4 260        NA         0        NA               0              17.1         \n",
       "5 263        NA         0        NA               0              14.6         \n",
       "6 430        NA         0        NA               0                NA         \n",
       "  Quizz.1.bin Quizz.2.score Quizz.2.bin Quizz.3.score ... Post.forum.4.2\n",
       "1 0                 NA      0           NA            ... 0             \n",
       "2 1                 NA      0           NA            ... 0             \n",
       "3 0                 NA      0           NA            ... 0             \n",
       "4 1           16.33333      1           NA            ... 0             \n",
       "5 1           11.00000      1           NA            ... 0             \n",
       "6 0                 NA      0           NA            ... 0             \n",
       "  view.forum.4 view.forum.4.2 Post.forum.5 Post.forum.5.2 view.forum.5\n",
       "1 1            0              0            0              0           \n",
       "2 0            0              0            0              0           \n",
       "3 0            0              0            0              0           \n",
       "4 0            0              0            0              0           \n",
       "5 0            0              0            0              0           \n",
       "6 0            0              0            0              0           \n",
       "  view.forum.5.2 last.video last.quizz Assignment.choice\n",
       "1 0               3         0          0                \n",
       "2 0               3         1          0                \n",
       "3 0               0         0          0                \n",
       "4 0              14         2          0                \n",
       "5 0               7         2          0                \n",
       "6 0               8         0          0                "
      ]
     },
     "metadata": {},
     "output_type": "display_data"
    },
    {
     "data": {
      "text/html": [
       "74"
      ],
      "text/latex": [
       "74"
      ],
      "text/markdown": [
       "74"
      ],
      "text/plain": [
       "[1] 74"
      ]
     },
     "metadata": {},
     "output_type": "display_data"
    }
   ],
   "source": [
    "usages.effec2=read.csv('usages.effec2.csv',sep=',')\n",
    "head(usages.effec2)\n",
    "length(colnames(usages.effec2))"
   ]
  },
  {
   "cell_type": "code",
   "execution_count": 397,
   "id": "a83d306b",
   "metadata": {
    "scrolled": true
   },
   "outputs": [
    {
     "data": {
      "text/html": [
       "<table>\n",
       "<thead><tr><th scope=col>Student_ID</th><th scope=col>Exam.score</th><th scope=col>Exam.bin</th><th scope=col>Assignment.score</th><th scope=col>Assignment.bin</th><th scope=col>Quizz.1.score</th><th scope=col>Quizz.1.bin</th><th scope=col>Quizz.2.score</th><th scope=col>Quizz.2.bin</th><th scope=col>Quizz.3.score</th><th scope=col>...</th><th scope=col>view.forum.4.2</th><th scope=col>Post.forum.5</th><th scope=col>Post.forum.5.2</th><th scope=col>view.forum.5</th><th scope=col>view.forum.5.2</th><th scope=col>last.video</th><th scope=col>last.quizz</th><th scope=col>Assignment.choice</th><th scope=col>Post.forum.fonc.cours</th><th scope=col>view.forum.fonc.cours</th></tr></thead>\n",
       "<tbody>\n",
       "\t<tr><td> 15     </td><td>   NA   </td><td>0       </td><td>NA      </td><td>0       </td><td>  NA    </td><td>0       </td><td>      NA</td><td>0       </td><td>      NA</td><td>...     </td><td>0       </td><td>0       </td><td>0       </td><td>0       </td><td>0       </td><td>2       </td><td>0       </td><td>0       </td><td>0       </td><td>0       </td></tr>\n",
       "\t<tr><td> 34     </td><td>   NA   </td><td>0       </td><td>NA      </td><td>0       </td><td>  NA    </td><td>0       </td><td>      NA</td><td>0       </td><td>      NA</td><td>...     </td><td>0       </td><td>0       </td><td>0       </td><td>0       </td><td>0       </td><td>0       </td><td>0       </td><td>0       </td><td>0       </td><td>0       </td></tr>\n",
       "\t<tr><td> 88     </td><td>   NA   </td><td>0       </td><td>NA      </td><td>0       </td><td>  NA    </td><td>0       </td><td>      NA</td><td>0       </td><td>      NA</td><td>...     </td><td>0       </td><td>0       </td><td>0       </td><td>0       </td><td>0       </td><td>2       </td><td>0       </td><td>0       </td><td>0       </td><td>0       </td></tr>\n",
       "\t<tr><td> 95     </td><td>   NA   </td><td>0       </td><td>NA      </td><td>0       </td><td>  NA    </td><td>0       </td><td>      NA</td><td>0       </td><td>      NA</td><td>...     </td><td>0       </td><td>0       </td><td>0       </td><td>0       </td><td>0       </td><td>2       </td><td>0       </td><td>0       </td><td>0       </td><td>0       </td></tr>\n",
       "\t<tr><td>115     </td><td>   NA   </td><td>0       </td><td>NA      </td><td>0       </td><td>  NA    </td><td>0       </td><td>      NA</td><td>0       </td><td>      NA</td><td>...     </td><td>0       </td><td>0       </td><td>0       </td><td>0       </td><td>0       </td><td>0       </td><td>0       </td><td>0       </td><td>0       </td><td>0       </td></tr>\n",
       "\t<tr><td>118     </td><td>38.45   </td><td>1       </td><td>NA      </td><td>0       </td><td>17.1    </td><td>1       </td><td>17.66667</td><td>1       </td><td>16.66667</td><td>...     </td><td>0       </td><td>0       </td><td>0       </td><td>0       </td><td>0       </td><td>0       </td><td>5       </td><td>0       </td><td>0       </td><td>0       </td></tr>\n",
       "</tbody>\n",
       "</table>\n"
      ],
      "text/latex": [
       "\\begin{tabular}{r|llllllllllllllllllllllllllllllllllllllllllllllllllllllllllllllllllllllllllll}\n",
       " Student\\_ID & Exam.score & Exam.bin & Assignment.score & Assignment.bin & Quizz.1.score & Quizz.1.bin & Quizz.2.score & Quizz.2.bin & Quizz.3.score & ... & view.forum.4.2 & Post.forum.5 & Post.forum.5.2 & view.forum.5 & view.forum.5.2 & last.video & last.quizz & Assignment.choice & Post.forum.fonc.cours & view.forum.fonc.cours\\\\\n",
       "\\hline\n",
       "\t  15      &    NA    & 0        & NA       & 0        &   NA     & 0        &       NA & 0        &       NA & ...      & 0        & 0        & 0        & 0        & 0        & 2        & 0        & 0        & 0        & 0       \\\\\n",
       "\t  34      &    NA    & 0        & NA       & 0        &   NA     & 0        &       NA & 0        &       NA & ...      & 0        & 0        & 0        & 0        & 0        & 0        & 0        & 0        & 0        & 0       \\\\\n",
       "\t  88      &    NA    & 0        & NA       & 0        &   NA     & 0        &       NA & 0        &       NA & ...      & 0        & 0        & 0        & 0        & 0        & 2        & 0        & 0        & 0        & 0       \\\\\n",
       "\t  95      &    NA    & 0        & NA       & 0        &   NA     & 0        &       NA & 0        &       NA & ...      & 0        & 0        & 0        & 0        & 0        & 2        & 0        & 0        & 0        & 0       \\\\\n",
       "\t 115      &    NA    & 0        & NA       & 0        &   NA     & 0        &       NA & 0        &       NA & ...      & 0        & 0        & 0        & 0        & 0        & 0        & 0        & 0        & 0        & 0       \\\\\n",
       "\t 118      & 38.45    & 1        & NA       & 0        & 17.1     & 1        & 17.66667 & 1        & 16.66667 & ...      & 0        & 0        & 0        & 0        & 0        & 0        & 5        & 0        & 0        & 0       \\\\\n",
       "\\end{tabular}\n"
      ],
      "text/markdown": [
       "\n",
       "| Student_ID | Exam.score | Exam.bin | Assignment.score | Assignment.bin | Quizz.1.score | Quizz.1.bin | Quizz.2.score | Quizz.2.bin | Quizz.3.score | ... | view.forum.4.2 | Post.forum.5 | Post.forum.5.2 | view.forum.5 | view.forum.5.2 | last.video | last.quizz | Assignment.choice | Post.forum.fonc.cours | view.forum.fonc.cours |\n",
       "|---|---|---|---|---|---|---|---|---|---|---|---|---|---|---|---|---|---|---|---|---|\n",
       "|  15      |    NA    | 0        | NA       | 0        |   NA     | 0        |       NA | 0        |       NA | ...      | 0        | 0        | 0        | 0        | 0        | 2        | 0        | 0        | 0        | 0        |\n",
       "|  34      |    NA    | 0        | NA       | 0        |   NA     | 0        |       NA | 0        |       NA | ...      | 0        | 0        | 0        | 0        | 0        | 0        | 0        | 0        | 0        | 0        |\n",
       "|  88      |    NA    | 0        | NA       | 0        |   NA     | 0        |       NA | 0        |       NA | ...      | 0        | 0        | 0        | 0        | 0        | 2        | 0        | 0        | 0        | 0        |\n",
       "|  95      |    NA    | 0        | NA       | 0        |   NA     | 0        |       NA | 0        |       NA | ...      | 0        | 0        | 0        | 0        | 0        | 2        | 0        | 0        | 0        | 0        |\n",
       "| 115      |    NA    | 0        | NA       | 0        |   NA     | 0        |       NA | 0        |       NA | ...      | 0        | 0        | 0        | 0        | 0        | 0        | 0        | 0        | 0        | 0        |\n",
       "| 118      | 38.45    | 1        | NA       | 0        | 17.1     | 1        | 17.66667 | 1        | 16.66667 | ...      | 0        | 0        | 0        | 0        | 0        | 0        | 5        | 0        | 0        | 0        |\n",
       "\n"
      ],
      "text/plain": [
       "  Student_ID Exam.score Exam.bin Assignment.score Assignment.bin Quizz.1.score\n",
       "1  15           NA      0        NA               0                NA         \n",
       "2  34           NA      0        NA               0                NA         \n",
       "3  88           NA      0        NA               0                NA         \n",
       "4  95           NA      0        NA               0                NA         \n",
       "5 115           NA      0        NA               0                NA         \n",
       "6 118        38.45      1        NA               0              17.1         \n",
       "  Quizz.1.bin Quizz.2.score Quizz.2.bin Quizz.3.score ... view.forum.4.2\n",
       "1 0                 NA      0                 NA      ... 0             \n",
       "2 0                 NA      0                 NA      ... 0             \n",
       "3 0                 NA      0                 NA      ... 0             \n",
       "4 0                 NA      0                 NA      ... 0             \n",
       "5 0                 NA      0                 NA      ... 0             \n",
       "6 1           17.66667      1           16.66667      ... 0             \n",
       "  Post.forum.5 Post.forum.5.2 view.forum.5 view.forum.5.2 last.video last.quizz\n",
       "1 0            0              0            0              2          0         \n",
       "2 0            0              0            0              0          0         \n",
       "3 0            0              0            0              2          0         \n",
       "4 0            0              0            0              2          0         \n",
       "5 0            0              0            0              0          0         \n",
       "6 0            0              0            0              0          5         \n",
       "  Assignment.choice Post.forum.fonc.cours view.forum.fonc.cours\n",
       "1 0                 0                     0                    \n",
       "2 0                 0                     0                    \n",
       "3 0                 0                     0                    \n",
       "4 0                 0                     0                    \n",
       "5 0                 0                     0                    \n",
       "6 0                 0                     0                    "
      ]
     },
     "metadata": {},
     "output_type": "display_data"
    },
    {
     "data": {
      "text/html": [
       "76"
      ],
      "text/latex": [
       "76"
      ],
      "text/markdown": [
       "76"
      ],
      "text/plain": [
       "[1] 76"
      ]
     },
     "metadata": {},
     "output_type": "display_data"
    }
   ],
   "source": [
    "usages.effec3=read.csv('usages.effec3.csv',sep=',')\n",
    "head(usages.effec3)\n",
    "length(colnames(usages.effec3))"
   ]
  },
  {
   "cell_type": "markdown",
   "id": "05501c4c",
   "metadata": {},
   "source": [
    "## combining usage 1,2,3 rbind"
   ]
  },
  {
   "cell_type": "code",
   "execution_count": 398,
   "id": "c50130d0",
   "metadata": {
    "scrolled": false
   },
   "outputs": [],
   "source": [
    "usages.effec1 =filter(usages.effec1,Student_ID %nin% usages.effec2$Student_ID)"
   ]
  },
  {
   "cell_type": "code",
   "execution_count": 399,
   "id": "b9e2036c",
   "metadata": {},
   "outputs": [],
   "source": [
    "usages.effec1_usages.effec2=(rbind.fill(usages.effec1,usages.effec2))"
   ]
  },
  {
   "cell_type": "code",
   "execution_count": 400,
   "id": "5e1161c9",
   "metadata": {},
   "outputs": [],
   "source": [
    "usages.effec1_usages.effec2=filter(usages.effec1_usages.effec2,Student_ID %nin% usages.effec3$Student_ID)"
   ]
  },
  {
   "cell_type": "code",
   "execution_count": 401,
   "id": "8cc41da4",
   "metadata": {},
   "outputs": [],
   "source": [
    "usages1_2_3=(rbind.fill(usages.effec1_usages.effec2,usages.effec3))"
   ]
  },
  {
   "cell_type": "code",
   "execution_count": 402,
   "id": "4a0cddcd",
   "metadata": {},
   "outputs": [
    {
     "data": {
      "text/html": [
       "<ol class=list-inline>\n",
       "\t<li>14974</li>\n",
       "\t<li>76</li>\n",
       "</ol>\n"
      ],
      "text/latex": [
       "\\begin{enumerate*}\n",
       "\\item 14974\n",
       "\\item 76\n",
       "\\end{enumerate*}\n"
      ],
      "text/markdown": [
       "1. 14974\n",
       "2. 76\n",
       "\n",
       "\n"
      ],
      "text/plain": [
       "[1] 14974    76"
      ]
     },
     "metadata": {},
     "output_type": "display_data"
    }
   ],
   "source": [
    "dim(usages1_2_3)"
   ]
  },
  {
   "cell_type": "markdown",
   "id": "68bdddda",
   "metadata": {},
   "source": [
    "## combining effec 1,2,3 rbind"
   ]
  },
  {
   "cell_type": "code",
   "execution_count": 403,
   "id": "e7336a31",
   "metadata": {},
   "outputs": [],
   "source": [
    "effec1.quest.compil = filter(effec1.quest.compil,Student_ID %nin% effec2.quest.compil$Student_ID)"
   ]
  },
  {
   "cell_type": "code",
   "execution_count": 404,
   "id": "a6e9a100",
   "metadata": {},
   "outputs": [],
   "source": [
    "effec1_2=(rbind.fill(effec1.quest.compil,effec2.quest.compil))"
   ]
  },
  {
   "cell_type": "code",
   "execution_count": 405,
   "id": "5c59aafa",
   "metadata": {},
   "outputs": [],
   "source": [
    "effec1_2 = filter(effec1_2,Student_ID %nin% effec3.quest.compil$Student_ID)"
   ]
  },
  {
   "cell_type": "code",
   "execution_count": 406,
   "id": "2b88c6a4",
   "metadata": {},
   "outputs": [],
   "source": [
    "effec1_2_3=(rbind.fill(effec1_2,effec3.quest.compil))"
   ]
  },
  {
   "cell_type": "code",
   "execution_count": 407,
   "id": "d96a6185",
   "metadata": {
    "scrolled": true
   },
   "outputs": [
    {
     "data": {
      "text/html": [
       "<ol class=list-inline>\n",
       "\t<li>16526</li>\n",
       "\t<li>44</li>\n",
       "</ol>\n"
      ],
      "text/latex": [
       "\\begin{enumerate*}\n",
       "\\item 16526\n",
       "\\item 44\n",
       "\\end{enumerate*}\n"
      ],
      "text/markdown": [
       "1. 16526\n",
       "2. 44\n",
       "\n",
       "\n"
      ],
      "text/plain": [
       "[1] 16526    44"
      ]
     },
     "metadata": {},
     "output_type": "display_data"
    }
   ],
   "source": [
    "dim(effec1_2_3)"
   ]
  },
  {
   "cell_type": "markdown",
   "id": "ef8aea04",
   "metadata": {},
   "source": [
    "## treating countries"
   ]
  },
  {
   "cell_type": "code",
   "execution_count": 408,
   "id": "281c78f9",
   "metadata": {},
   "outputs": [],
   "source": [
    "levels(countriesHDI$HDI) <- c(levels(countriesHDI$HDI), \"I\") \n",
    "countriesHDI$HDI[countriesHDI$HDI ==\"M\"]  <- \"I\" \n",
    "countriesHDI$HDI[countriesHDI$HDI ==\"H\"]  <- \"I\" "
   ]
  },
  {
   "cell_type": "markdown",
   "id": "6bde310f",
   "metadata": {},
   "source": [
    "## joining effec and usage"
   ]
  },
  {
   "cell_type": "code",
   "execution_count": 409,
   "id": "aaa006bc",
   "metadata": {
    "scrolled": false
   },
   "outputs": [
    {
     "data": {
      "text/html": [
       "14974"
      ],
      "text/latex": [
       "14974"
      ],
      "text/markdown": [
       "14974"
      ],
      "text/plain": [
       "[1] 14974"
      ]
     },
     "metadata": {},
     "output_type": "display_data"
    }
   ],
   "source": [
    "length(usages1_2_3$Student_ID)"
   ]
  },
  {
   "cell_type": "code",
   "execution_count": 410,
   "id": "9a315de6",
   "metadata": {},
   "outputs": [
    {
     "data": {
      "text/html": [
       "16526"
      ],
      "text/latex": [
       "16526"
      ],
      "text/markdown": [
       "16526"
      ],
      "text/plain": [
       "[1] 16526"
      ]
     },
     "metadata": {},
     "output_type": "display_data"
    }
   ],
   "source": [
    "length(effec1_2_3$Student_ID)"
   ]
  },
  {
   "cell_type": "code",
   "execution_count": 411,
   "id": "2d294e3f",
   "metadata": {},
   "outputs": [],
   "source": [
    "full_thing_withoutHDI = full_join(usages1_2_3,effec1_2_3,fill=NULL,by = \"Student_ID\")"
   ]
  },
  {
   "cell_type": "code",
   "execution_count": 412,
   "id": "de217a6c",
   "metadata": {},
   "outputs": [
    {
     "data": {
      "text/html": [
       "<ol class=list-inline>\n",
       "\t<li>16943</li>\n",
       "\t<li>119</li>\n",
       "</ol>\n"
      ],
      "text/latex": [
       "\\begin{enumerate*}\n",
       "\\item 16943\n",
       "\\item 119\n",
       "\\end{enumerate*}\n"
      ],
      "text/markdown": [
       "1. 16943\n",
       "2. 119\n",
       "\n",
       "\n"
      ],
      "text/plain": [
       "[1] 16943   119"
      ]
     },
     "metadata": {},
     "output_type": "display_data"
    }
   ],
   "source": [
    "dim((full_thing_withoutHDI))"
   ]
  },
  {
   "cell_type": "markdown",
   "id": "49e2cecb",
   "metadata": {},
   "source": [
    "# 1600 by exam.bin\n"
   ]
  },
  {
   "cell_type": "code",
   "execution_count": 413,
   "id": "d2abd230",
   "metadata": {},
   "outputs": [],
   "source": [
    "levels(full_thing_withoutHDI$Country_HDI) <- c(levels(full_thing_withoutHDI$Country_HDI), \"I\") \n",
    "full_thing_withoutHDI$Country_HDI[full_thing_withoutHDI$Country_HDI ==\"M\"]  <- \"I\" \n",
    "full_thing_withoutHDI$Country_HDI[full_thing_withoutHDI$Country_HDI ==\"H\"]  <- \"I\" \n",
    "full_thing_withoutHDI$HDI <- full_thing_withoutHDI$'Country_HDI'"
   ]
  },
  {
   "cell_type": "code",
   "execution_count": 414,
   "id": "a5820e48",
   "metadata": {},
   "outputs": [],
   "source": [
    "df = full_join(x=full_thing_withoutHDI,y=countriesHDI[c(\"Country\",\"HDI\")],by=c(\"Country\",'HDI'))\n"
   ]
  },
  {
   "cell_type": "code",
   "execution_count": 415,
   "id": "381ee52c",
   "metadata": {
    "scrolled": true
   },
   "outputs": [
    {
     "data": {
      "text/html": [
       "<table>\n",
       "<thead><tr><th scope=col>Student_ID</th><th scope=col>Exam.score</th><th scope=col>Exam.bin</th><th scope=col>Assignment.score</th><th scope=col>Assignment.bin</th><th scope=col>Quizz.1.score</th><th scope=col>Quizz.1.bin</th><th scope=col>Quizz.2.score</th><th scope=col>Quizz.2.bin</th><th scope=col>Quizz.3.score</th><th scope=col>...</th><th scope=col>Current.Score</th><th scope=col>Section</th><th scope=col>Mot</th><th scope=col>EMLyon</th><th scope=col>Proba.reco</th><th scope=col>EMLyon.et</th><th scope=col>Certif.bin</th><th scope=col>EMLYON.et</th><th scope=col>age</th><th scope=col>HDI</th></tr></thead>\n",
       "<tbody>\n",
       "\t<tr><td>28 </td><td>NA </td><td>0  </td><td>NA </td><td>0  </td><td>NA </td><td>0  </td><td>NA </td><td>0  </td><td>NA </td><td>...</td><td>NA </td><td>NA </td><td>NA </td><td>NA </td><td>NA </td><td>NA </td><td>NA </td><td>NA </td><td>NA </td><td>NA </td></tr>\n",
       "\t<tr><td>36 </td><td>NA </td><td>0  </td><td>NA </td><td>0  </td><td>NA </td><td>0  </td><td>NA </td><td>0  </td><td>NA </td><td>...</td><td>NA </td><td>NA </td><td>NA </td><td>NA </td><td>NA </td><td>NA </td><td>NA </td><td>NA </td><td>NA </td><td>NA </td></tr>\n",
       "\t<tr><td>45 </td><td>NA </td><td>0  </td><td>NA </td><td>0  </td><td>16 </td><td>1  </td><td>20 </td><td>1  </td><td>18 </td><td>...</td><td>NA </td><td>NA </td><td>NA </td><td>NA </td><td>NA </td><td>NA </td><td>NA </td><td>NA </td><td>NA </td><td>TH </td></tr>\n",
       "\t<tr><td>83 </td><td>NA </td><td>0  </td><td>60 </td><td>1  </td><td>13 </td><td>1  </td><td>20 </td><td>1  </td><td>18 </td><td>...</td><td>NA </td><td>NA </td><td>NA </td><td>NA </td><td>NA </td><td>NA </td><td>NA </td><td>NA </td><td>NA </td><td>I  </td></tr>\n",
       "\t<tr><td>84 </td><td>NA </td><td>0  </td><td>NA </td><td>0  </td><td>18 </td><td>1  </td><td>20 </td><td>1  </td><td>NA </td><td>...</td><td>NA </td><td>NA </td><td>NA </td><td>NA </td><td>NA </td><td>NA </td><td>NA </td><td>NA </td><td>NA </td><td>B  </td></tr>\n",
       "\t<tr><td>87 </td><td>NA </td><td>0  </td><td>NA </td><td>0  </td><td>NA </td><td>0  </td><td>NA </td><td>0  </td><td>NA </td><td>...</td><td>NA </td><td>NA </td><td>NA </td><td>NA </td><td>NA </td><td>NA </td><td>NA </td><td>NA </td><td>NA </td><td>TH </td></tr>\n",
       "</tbody>\n",
       "</table>\n"
      ],
      "text/latex": [
       "\\begin{tabular}{r|llllllllllllllllllllllllllllllllllllllllllllllllllllllllllllllllllllllllllllllllllllllllllllllllllllllllllllllllllllllll}\n",
       " Student\\_ID & Exam.score & Exam.bin & Assignment.score & Assignment.bin & Quizz.1.score & Quizz.1.bin & Quizz.2.score & Quizz.2.bin & Quizz.3.score & ... & Current.Score & Section & Mot & EMLyon & Proba.reco & EMLyon.et & Certif.bin & EMLYON.et & age & HDI\\\\\n",
       "\\hline\n",
       "\t 28  & NA  & 0   & NA  & 0   & NA  & 0   & NA  & 0   & NA  & ... & NA  & NA  & NA  & NA  & NA  & NA  & NA  & NA  & NA  & NA \\\\\n",
       "\t 36  & NA  & 0   & NA  & 0   & NA  & 0   & NA  & 0   & NA  & ... & NA  & NA  & NA  & NA  & NA  & NA  & NA  & NA  & NA  & NA \\\\\n",
       "\t 45  & NA  & 0   & NA  & 0   & 16  & 1   & 20  & 1   & 18  & ... & NA  & NA  & NA  & NA  & NA  & NA  & NA  & NA  & NA  & TH \\\\\n",
       "\t 83  & NA  & 0   & 60  & 1   & 13  & 1   & 20  & 1   & 18  & ... & NA  & NA  & NA  & NA  & NA  & NA  & NA  & NA  & NA  & I  \\\\\n",
       "\t 84  & NA  & 0   & NA  & 0   & 18  & 1   & 20  & 1   & NA  & ... & NA  & NA  & NA  & NA  & NA  & NA  & NA  & NA  & NA  & B  \\\\\n",
       "\t 87  & NA  & 0   & NA  & 0   & NA  & 0   & NA  & 0   & NA  & ... & NA  & NA  & NA  & NA  & NA  & NA  & NA  & NA  & NA  & TH \\\\\n",
       "\\end{tabular}\n"
      ],
      "text/markdown": [
       "\n",
       "| Student_ID | Exam.score | Exam.bin | Assignment.score | Assignment.bin | Quizz.1.score | Quizz.1.bin | Quizz.2.score | Quizz.2.bin | Quizz.3.score | ... | Current.Score | Section | Mot | EMLyon | Proba.reco | EMLyon.et | Certif.bin | EMLYON.et | age | HDI |\n",
       "|---|---|---|---|---|---|---|---|---|---|---|---|---|---|---|---|---|---|---|---|---|\n",
       "| 28  | NA  | 0   | NA  | 0   | NA  | 0   | NA  | 0   | NA  | ... | NA  | NA  | NA  | NA  | NA  | NA  | NA  | NA  | NA  | NA  |\n",
       "| 36  | NA  | 0   | NA  | 0   | NA  | 0   | NA  | 0   | NA  | ... | NA  | NA  | NA  | NA  | NA  | NA  | NA  | NA  | NA  | NA  |\n",
       "| 45  | NA  | 0   | NA  | 0   | 16  | 1   | 20  | 1   | 18  | ... | NA  | NA  | NA  | NA  | NA  | NA  | NA  | NA  | NA  | TH  |\n",
       "| 83  | NA  | 0   | 60  | 1   | 13  | 1   | 20  | 1   | 18  | ... | NA  | NA  | NA  | NA  | NA  | NA  | NA  | NA  | NA  | I   |\n",
       "| 84  | NA  | 0   | NA  | 0   | 18  | 1   | 20  | 1   | NA  | ... | NA  | NA  | NA  | NA  | NA  | NA  | NA  | NA  | NA  | B   |\n",
       "| 87  | NA  | 0   | NA  | 0   | NA  | 0   | NA  | 0   | NA  | ... | NA  | NA  | NA  | NA  | NA  | NA  | NA  | NA  | NA  | TH  |\n",
       "\n"
      ],
      "text/plain": [
       "  Student_ID Exam.score Exam.bin Assignment.score Assignment.bin Quizz.1.score\n",
       "1 28         NA         0        NA               0              NA           \n",
       "2 36         NA         0        NA               0              NA           \n",
       "3 45         NA         0        NA               0              16           \n",
       "4 83         NA         0        60               1              13           \n",
       "5 84         NA         0        NA               0              18           \n",
       "6 87         NA         0        NA               0              NA           \n",
       "  Quizz.1.bin Quizz.2.score Quizz.2.bin Quizz.3.score ... Current.Score Section\n",
       "1 0           NA            0           NA            ... NA            NA     \n",
       "2 0           NA            0           NA            ... NA            NA     \n",
       "3 1           20            1           18            ... NA            NA     \n",
       "4 1           20            1           18            ... NA            NA     \n",
       "5 1           20            1           NA            ... NA            NA     \n",
       "6 0           NA            0           NA            ... NA            NA     \n",
       "  Mot EMLyon Proba.reco EMLyon.et Certif.bin EMLYON.et age HDI\n",
       "1 NA  NA     NA         NA        NA         NA        NA  NA \n",
       "2 NA  NA     NA         NA        NA         NA        NA  NA \n",
       "3 NA  NA     NA         NA        NA         NA        NA  TH \n",
       "4 NA  NA     NA         NA        NA         NA        NA  I  \n",
       "5 NA  NA     NA         NA        NA         NA        NA  B  \n",
       "6 NA  NA     NA         NA        NA         NA        NA  TH "
      ]
     },
     "metadata": {},
     "output_type": "display_data"
    }
   ],
   "source": [
    "head(df)"
   ]
  },
  {
   "cell_type": "code",
   "execution_count": 416,
   "id": "ccbed4ef",
   "metadata": {},
   "outputs": [
    {
     "data": {
      "text/html": [
       "<ol class=list-inline>\n",
       "\t<li>17054</li>\n",
       "\t<li>120</li>\n",
       "</ol>\n"
      ],
      "text/latex": [
       "\\begin{enumerate*}\n",
       "\\item 17054\n",
       "\\item 120\n",
       "\\end{enumerate*}\n"
      ],
      "text/markdown": [
       "1. 17054\n",
       "2. 120\n",
       "\n",
       "\n"
      ],
      "text/plain": [
       "[1] 17054   120"
      ]
     },
     "metadata": {},
     "output_type": "display_data"
    }
   ],
   "source": [
    "dim(df)"
   ]
  },
  {
   "cell_type": "markdown",
   "id": "f078871a",
   "metadata": {},
   "source": [
    "# Cleaning and Maniputlation"
   ]
  },
  {
   "cell_type": "markdown",
   "id": "3f0dbb11",
   "metadata": {},
   "source": [
    "## Subsetting necessary columns"
   ]
  },
  {
   "cell_type": "code",
   "execution_count": 417,
   "id": "0d04f157",
   "metadata": {},
   "outputs": [],
   "source": [
    "df2_NecCol = df[c('Student_ID' ,'Exam.score', 'Assignment.score' ,'Assignment.bin', 'Quizz.1.score', 'Quizz.1.bin', \n",
    "                  'Quizz.2.score', 'Quizz.2.bin' ,'Quizz.3.score', 'Quizz.3.bin' ,'Quizz.4.bin' ,'Quizz.4.score', 'Quizz.5.bin', \n",
    "                  'Quizz.5.score' ,'Intro.MOOC' ,'Prez.sem.1' ,'S1.L1' ,'S1.L2', 'S1.L3', 'S1.L4' ,'S1.L5' ,'S1.L6' ,'Prez.sem.2', \n",
    "                  'S2.L1', 'S2.L2' ,'S2.L3', 'S2.L4','S2.L5' ,'S2.L6' ,'Prez.sem.3', 'S3.L1.1', 'S3.L1.2' ,'S3.L2', 'S3.L3' ,'S3.L4',\n",
    "                  'S3.L5' ,'Prez.sem.4', 'S4.L1.1' ,'S4.L1.2', 'S4.L2', 'S4.L3' ,'S4.L4', 'S4.L5' ,'Prez.sem.5' ,'S5.L1.1', 'S5.L1.2',\n",
    "                  'S5.L2' ,'S5.L3', 'S5.L4' ,'S5.L5' ,'last.video', 'last.quizz' ,'Assignment.choice'\n",
    "                  ,'Gender' ,'birth.year' ,'Country' ,'Diploma' ,'Formation','How.heard' ,'Exp.crea', 'Curiosity.MOOC','Completion.proba',\n",
    "                  'Instit.brand' ,'motiv.princ' ,'Satisf','Estimated.hours','Plat.satisf','Country_HDI', 'CSP.fin' ,'Temps.dispo.fin', \n",
    "                  'Current.Score' ,'Section' ,'Mot', 'Proba.reco'\n",
    "                  ,'Certif.bin', 'age','Certif.bin','Exam.bin','CSP')]"
   ]
  },
  {
   "cell_type": "code",
   "execution_count": 418,
   "id": "26e2b783",
   "metadata": {},
   "outputs": [
    {
     "data": {
      "text/html": [
       "<ol class=list-inline>\n",
       "\t<li>17054</li>\n",
       "\t<li>79</li>\n",
       "</ol>\n"
      ],
      "text/latex": [
       "\\begin{enumerate*}\n",
       "\\item 17054\n",
       "\\item 79\n",
       "\\end{enumerate*}\n"
      ],
      "text/markdown": [
       "1. 17054\n",
       "2. 79\n",
       "\n",
       "\n"
      ],
      "text/plain": [
       "[1] 17054    79"
      ]
     },
     "metadata": {},
     "output_type": "display_data"
    }
   ],
   "source": [
    "dim(df2_NecCol)"
   ]
  },
  {
   "cell_type": "code",
   "execution_count": 419,
   "id": "56c384da",
   "metadata": {},
   "outputs": [],
   "source": [
    "\n",
    "options(repr.plot.width=10, repr.plot.height=5)"
   ]
  },
  {
   "cell_type": "code",
   "execution_count": 420,
   "id": "9638a459",
   "metadata": {},
   "outputs": [
    {
     "data": {
      "image/png": "[encoded data removed]",
      "text/plain": [
       "plot without title"
      ]
     },
     "metadata": {},
     "output_type": "display_data"
    }
   ],
   "source": [
    "plot(vis_miss(df2_NecCol[c(1:20)], warn_large_data = FALSE))"
   ]
  },
  {
   "cell_type": "code",
   "execution_count": 421,
   "id": "a8bf1f33",
   "metadata": {},
   "outputs": [
    {
     "data": {
      "image/png": "[encoded data removed]",
      "text/plain": [
       "plot without title"
      ]
     },
     "metadata": {},
     "output_type": "display_data"
    }
   ],
   "source": [
    "plot(vis_miss(df2_NecCol[c(20:40)], warn_large_data = FALSE))"
   ]
  },
  {
   "cell_type": "code",
   "execution_count": 422,
   "id": "591da0a4",
   "metadata": {},
   "outputs": [
    {
     "data": {
      "image/png": "[encoded data removed]",
      "text/plain": [
       "plot without title"
      ]
     },
     "metadata": {},
     "output_type": "display_data"
    }
   ],
   "source": [
    "plot(vis_miss(df2_NecCol[c(40:60)], warn_large_data = FALSE))"
   ]
  },
  {
   "cell_type": "code",
   "execution_count": 423,
   "id": "4df135ed",
   "metadata": {
    "scrolled": false
   },
   "outputs": [
    {
     "data": {
      "image/png": "[encoded data removed]",
      "text/plain": [
       "plot without title"
      ]
     },
     "metadata": {},
     "output_type": "display_data"
    }
   ],
   "source": [
    "plot(vis_miss(df2_NecCol[c(60:78)], warn_large_data = FALSE))"
   ]
  },
  {
   "cell_type": "markdown",
   "id": "201366a6",
   "metadata": {},
   "source": [
    "## remove columns with more than aprox. 60% of missing data"
   ]
  },
  {
   "cell_type": "code",
   "execution_count": 424,
   "id": "5295d47b",
   "metadata": {},
   "outputs": [],
   "source": [
    "df2_NecCol_clean = df[c('Student_ID' ,'Assignment.bin', 'Quizz.1.score', 'Quizz.1.bin','Quizz.2.score', 'Quizz.2.bin'\n",
    "                  ,'Quizz.3.score', 'Quizz.3.bin' ,'Quizz.4.bin' ,'Quizz.4.score', 'Quizz.5.bin', \n",
    "                  'Quizz.5.score'  ,'Prez.sem.1' ,'S1.L1' ,'S1.L2', 'S1.L3', 'S1.L4' ,'S1.L5' ,'S1.L6' ,'Prez.sem.2', \n",
    "                  'S2.L1', 'S2.L2' ,'S2.L3', 'S2.L4','S2.L5' ,'S2.L6' ,'Prez.sem.3', 'S3.L1.1', 'S3.L1.2' ,'S3.L2', 'S3.L3' ,'S3.L4',\n",
    "                  'S3.L5' ,'Prez.sem.4', 'S4.L1.1' ,'S4.L1.2', 'S4.L2', 'S4.L3' ,'S4.L4', 'S4.L5' ,'Prez.sem.5' ,'S5.L1.1', 'S5.L1.2',\n",
    "                  'S5.L2' ,'S5.L3', 'S5.L4' ,'S5.L5' ,'last.video', 'last.quizz','Gender' ,'birth.year' ,'Country' ,'Diploma' ,\n",
    "                  'Formation','How.heard' ,'Exp.crea', 'Curiosity.MOOC','Completion.proba','Country_HDI','Country','CSP.fin' ,\n",
    "                  'Temps.dispo.fin',  'age','Certif.bin','Exam.bin','HDI','CSP')]"
   ]
  },
  {
   "cell_type": "code",
   "execution_count": 425,
   "id": "7979a618",
   "metadata": {},
   "outputs": [
    {
     "data": {
      "text/html": [
       "<ol class=list-inline>\n",
       "\t<li>&lt;NA&gt;</li>\n",
       "\t<li>Cadres et professions intellectuelles</li>\n",
       "\t<li>Employés</li>\n",
       "\t<li>En recherche d'emploi</li>\n",
       "\t<li>Artisans, commerçants, chefs d'entreprise</li>\n",
       "\t<li>Professions intermédiaires</li>\n",
       "\t<li>Etudiants</li>\n",
       "\t<li>Inactif (autre que étudiant, retraité, ou en recherche d'emploi)</li>\n",
       "\t<li>Retraités</li>\n",
       "\t<li>Agriculteurs-exploitants</li>\n",
       "\t<li>Ouvriers</li>\n",
       "\t<li>Artisans, commerÃ§ants, chefs d'entreprise</li>\n",
       "</ol>\n",
       "\n",
       "<details>\n",
       "\t<summary style=display:list-item;cursor:pointer>\n",
       "\t\t<strong>Levels</strong>:\n",
       "\t</summary>\n",
       "\t<ol class=list-inline>\n",
       "\t\t<li>'Agriculteurs-exploitants'</li>\n",
       "\t\t<li>'Artisans, commerçants, chefs d\\'entreprise'</li>\n",
       "\t\t<li>'Cadres et professions intellectuelles'</li>\n",
       "\t\t<li>'Employés'</li>\n",
       "\t\t<li>'En recherche d\\'emploi'</li>\n",
       "\t\t<li>'Etudiants'</li>\n",
       "\t\t<li>'Inactif (autre que étudiant, retraité, ou en recherche d\\'emploi)'</li>\n",
       "\t\t<li>'Ouvriers'</li>\n",
       "\t\t<li>'Professions intermédiaires'</li>\n",
       "\t\t<li>'Retraités'</li>\n",
       "\t\t<li>'Artisans, commerÃ§ants, chefs d\\'entreprise'</li>\n",
       "\t</ol>\n",
       "</details>"
      ],
      "text/latex": [
       "\\begin{enumerate*}\n",
       "\\item <NA>\n",
       "\\item Cadres et professions intellectuelles\n",
       "\\item Employés\n",
       "\\item En recherche d'emploi\n",
       "\\item Artisans, commerçants, chefs d'entreprise\n",
       "\\item Professions intermédiaires\n",
       "\\item Etudiants\n",
       "\\item Inactif (autre que étudiant, retraité, ou en recherche d'emploi)\n",
       "\\item Retraités\n",
       "\\item Agriculteurs-exploitants\n",
       "\\item Ouvriers\n",
       "\\item Artisans, commerÃ§ants, chefs d'entreprise\n",
       "\\end{enumerate*}\n",
       "\n",
       "\\emph{Levels}: \\begin{enumerate*}\n",
       "\\item 'Agriculteurs-exploitants'\n",
       "\\item 'Artisans, commerçants, chefs d\\textbackslash{}'entreprise'\n",
       "\\item 'Cadres et professions intellectuelles'\n",
       "\\item 'Employés'\n",
       "\\item 'En recherche d\\textbackslash{}'emploi'\n",
       "\\item 'Etudiants'\n",
       "\\item 'Inactif (autre que étudiant, retraité, ou en recherche d\\textbackslash{}'emploi)'\n",
       "\\item 'Ouvriers'\n",
       "\\item 'Professions intermédiaires'\n",
       "\\item 'Retraités'\n",
       "\\item 'Artisans, commerÃ§ants, chefs d\\textbackslash{}'entreprise'\n",
       "\\end{enumerate*}\n"
      ],
      "text/markdown": [
       "1. &lt;NA&gt;\n",
       "2. Cadres et professions intellectuelles\n",
       "3. Employés\n",
       "4. En recherche d'emploi\n",
       "5. Artisans, commerçants, chefs d'entreprise\n",
       "6. Professions intermédiaires\n",
       "7. Etudiants\n",
       "8. Inactif (autre que étudiant, retraité, ou en recherche d'emploi)\n",
       "9. Retraités\n",
       "10. Agriculteurs-exploitants\n",
       "11. Ouvriers\n",
       "12. Artisans, commerÃ§ants, chefs d'entreprise\n",
       "\n",
       "\n",
       "\n",
       "**Levels**: 1. 'Agriculteurs-exploitants'\n",
       "2. 'Artisans, commerçants, chefs d\\'entreprise'\n",
       "3. 'Cadres et professions intellectuelles'\n",
       "4. 'Employés'\n",
       "5. 'En recherche d\\'emploi'\n",
       "6. 'Etudiants'\n",
       "7. 'Inactif (autre que étudiant, retraité, ou en recherche d\\'emploi)'\n",
       "8. 'Ouvriers'\n",
       "9. 'Professions intermédiaires'\n",
       "10. 'Retraités'\n",
       "11. 'Artisans, commerÃ§ants, chefs d\\'entreprise'\n",
       "\n",
       "\n"
      ],
      "text/plain": [
       " [1] <NA>                                                            \n",
       " [2] Cadres et professions intellectuelles                           \n",
       " [3] Employés                                                        \n",
       " [4] En recherche d'emploi                                           \n",
       " [5] Artisans, commerçants, chefs d'entreprise                       \n",
       " [6] Professions intermédiaires                                      \n",
       " [7] Etudiants                                                       \n",
       " [8] Inactif (autre que étudiant, retraité, ou en recherche d'emploi)\n",
       " [9] Retraités                                                       \n",
       "[10] Agriculteurs-exploitants                                        \n",
       "[11] Ouvriers                                                        \n",
       "[12] Artisans, commerÃ§ants, chefs d'entreprise                      \n",
       "11 Levels: Agriculteurs-exploitants ..."
      ]
     },
     "metadata": {},
     "output_type": "display_data"
    }
   ],
   "source": [
    "unique(df2_NecCol_clean$CSP)"
   ]
  },
  {
   "cell_type": "code",
   "execution_count": 426,
   "id": "aa19d522",
   "metadata": {},
   "outputs": [],
   "source": [
    "videos <- c('Prez.sem.1','S1.L1' ,'S1.L2', 'S1.L3', 'S1.L4' ,'S1.L5' ,'S1.L6' ,'Prez.sem.2', \n",
    "                  'S2.L1', 'S2.L2' ,'S2.L3', 'S2.L4','S2.L5' ,'S2.L6' ,'Prez.sem.3', 'S3.L1.1', 'S3.L1.2' ,'S3.L2', 'S3.L3' ,'S3.L4',\n",
    "                  'S3.L5' ,'Prez.sem.4', 'S4.L1.1' ,'S4.L1.2', 'S4.L2', 'S4.L3' ,'S4.L4', 'S4.L5' ,'Prez.sem.5' ,'S5.L1.1', 'S5.L1.2',\n",
    "                  'S5.L2' ,'S5.L3', 'S5.L4' ,'S5.L5')\n",
    "videos_score= list()\n",
    "\n",
    "x <-rowSums(df2_NecCol_clean[videos], na.rm = TRUE)\n",
    "# # adding the behaviour index to the dataset \n",
    "df2_NecCol_clean$n.videos <- x\n",
    "df2_NecCol_clean$behaviour.index.percentage <- x/35\n",
    "# #add the columns for survival analysis\n",
    "\n",
    "x <-rowSums(df[videos], na.rm = TRUE)\n",
    "# adding the behaviour index to the dataset \n",
    "df$n.videos <- x\n",
    "df$behaviour.index.percentage <- x/35"
   ]
  },
  {
   "cell_type": "code",
   "execution_count": 427,
   "id": "a9474699",
   "metadata": {},
   "outputs": [
    {
     "data": {
      "text/plain": [
       "   Min. 1st Qu.  Median    Mean 3rd Qu.    Max. \n",
       "  0.000   0.000   2.000   9.572  16.000  35.000 "
      ]
     },
     "metadata": {},
     "output_type": "display_data"
    }
   ],
   "source": [
    "summary(df$n.videos)"
   ]
  },
  {
   "cell_type": "code",
   "execution_count": null,
   "id": "7888fe2f",
   "metadata": {},
   "outputs": [],
   "source": []
  },
  {
   "cell_type": "code",
   "execution_count": 428,
   "id": "cd2265d8",
   "metadata": {
    "scrolled": true
   },
   "outputs": [],
   "source": [
    "age=2021 - df2_NecCol_clean$birth.year"
   ]
  },
  {
   "cell_type": "code",
   "execution_count": 429,
   "id": "3e6bfa27",
   "metadata": {},
   "outputs": [
    {
     "name": "stdout",
     "output_type": "stream",
     "text": [
      " num [1:17054] NA NA 1956 1977 1988 ...\n"
     ]
    }
   ],
   "source": [
    "str(df2_NecCol_clean$birth.year)"
   ]
  },
  {
   "cell_type": "code",
   "execution_count": 430,
   "id": "01895431",
   "metadata": {},
   "outputs": [],
   "source": [
    "listOfAge = c()\n",
    "for (i in df2_NecCol_clean$birth.year){\n",
    "    if (is.na(i)==FALSE){\n",
    "        \n",
    "        if(i>100 && i >1900 ){  \n",
    "            listOfAge <- append(listOfAge,2021-i)\n",
    "        }else if ( i < 100){\n",
    "        listOfAge <- append(listOfAge,round(i,0))\n",
    "        }\n",
    "    }\n",
    "    else {listOfAge <- append(listOfAge,round(i,0))}\n",
    "}"
   ]
  },
  {
   "cell_type": "code",
   "execution_count": 431,
   "id": "4511fa45",
   "metadata": {},
   "outputs": [],
   "source": [
    "df2_NecCol_clean$age=listOfAge"
   ]
  },
  {
   "cell_type": "code",
   "execution_count": 432,
   "id": "2eb5f481",
   "metadata": {},
   "outputs": [],
   "source": [
    "df2_NecCol_clean$agegroup <- cut(df2_NecCol_clean$age , c(20,30,40,50,60,100), include.lowest = TRUE)"
   ]
  },
  {
   "cell_type": "code",
   "execution_count": 433,
   "id": "88aa96da",
   "metadata": {},
   "outputs": [],
   "source": [
    "df2_NecCol_clean$agegroup3 <- cut(df2_NecCol_clean$age , c(0,30,50,80,100))"
   ]
  },
  {
   "cell_type": "code",
   "execution_count": 434,
   "id": "cbc27eb4",
   "metadata": {},
   "outputs": [
    {
     "data": {
      "text/html": [
       "<ol class=list-inline>\n",
       "\t<li>&lt;NA&gt;</li>\n",
       "\t<li>(50,80]</li>\n",
       "\t<li>(30,50]</li>\n",
       "\t<li>(0,30]</li>\n",
       "\t<li>(80,100]</li>\n",
       "</ol>\n",
       "\n",
       "<details>\n",
       "\t<summary style=display:list-item;cursor:pointer>\n",
       "\t\t<strong>Levels</strong>:\n",
       "\t</summary>\n",
       "\t<ol class=list-inline>\n",
       "\t\t<li>'(0,30]'</li>\n",
       "\t\t<li>'(30,50]'</li>\n",
       "\t\t<li>'(50,80]'</li>\n",
       "\t\t<li>'(80,100]'</li>\n",
       "\t</ol>\n",
       "</details>"
      ],
      "text/latex": [
       "\\begin{enumerate*}\n",
       "\\item <NA>\n",
       "\\item (50,80{]}\n",
       "\\item (30,50{]}\n",
       "\\item (0,30{]}\n",
       "\\item (80,100{]}\n",
       "\\end{enumerate*}\n",
       "\n",
       "\\emph{Levels}: \\begin{enumerate*}\n",
       "\\item '(0,30{]}'\n",
       "\\item '(30,50{]}'\n",
       "\\item '(50,80{]}'\n",
       "\\item '(80,100{]}'\n",
       "\\end{enumerate*}\n"
      ],
      "text/markdown": [
       "1. &lt;NA&gt;\n",
       "2. (50,80]\n",
       "3. (30,50]\n",
       "4. (0,30]\n",
       "5. (80,100]\n",
       "\n",
       "\n",
       "\n",
       "**Levels**: 1. '(0,30]'\n",
       "2. '(30,50]'\n",
       "3. '(50,80]'\n",
       "4. '(80,100]'\n",
       "\n",
       "\n"
      ],
      "text/plain": [
       "[1] <NA>     (50,80]  (30,50]  (0,30]   (80,100]\n",
       "Levels: (0,30] (30,50] (50,80] (80,100]"
      ]
     },
     "metadata": {},
     "output_type": "display_data"
    }
   ],
   "source": [
    "unique(df2_NecCol_clean$agegroup3 )"
   ]
  },
  {
   "cell_type": "code",
   "execution_count": 435,
   "id": "3ad39261",
   "metadata": {
    "scrolled": true
   },
   "outputs": [
    {
     "data": {
      "image/png": "[encoded data removed]",
      "text/plain": [
       "plot without title"
      ]
     },
     "metadata": {},
     "output_type": "display_data"
    }
   ],
   "source": [
    "plot(vis_miss(df2_NecCol_clean[60:62], warn_large_data = FALSE))"
   ]
  },
  {
   "cell_type": "markdown",
   "id": "fd24440e",
   "metadata": {},
   "source": [
    "# 2. Describing behavior in the courses"
   ]
  },
  {
   "cell_type": "markdown",
   "id": "9ed3edf5",
   "metadata": {},
   "source": [
    "## Number of Users by country"
   ]
  },
  {
   "cell_type": "code",
   "execution_count": 436,
   "id": "791b281c",
   "metadata": {
    "scrolled": false
   },
   "outputs": [
    {
     "data": {
      "text/plain": [
       "\n",
       "                     France               Côte d'Ivoire \n",
       "                       6510                         269 \n",
       "                      Maroc                    Cameroun \n",
       "                        248                         146 \n",
       "                    Tunisie                     Algérie \n",
       "                        125                         117 \n",
       "Canada francophone (Québec)                     Sénégal \n",
       "                        113                         103 \n",
       "                      Haïti                    Belgique \n",
       "                         98                          82 "
      ]
     },
     "metadata": {},
     "output_type": "display_data"
    }
   ],
   "source": [
    "sort(table(df2_NecCol_clean$Country), decreasing=TRUE)[1:10]"
   ]
  },
  {
   "cell_type": "code",
   "execution_count": 437,
   "id": "188d2186",
   "metadata": {},
   "outputs": [],
   "source": [
    "levels(df2_NecCol_clean$Country) <- c(levels(df2_NecCol_clean$Country), \"Canada\") \n",
    "df2_NecCol_clean$Country[df2_NecCol_clean$Country ==\"Canada francophone (Québec)\"]  <- \"Canada\" \n",
    "df2_NecCol_clean$Country[df2_NecCol_clean$Country ==\"Canada anglophone\"]  <- \"Canada\" \n",
    "\n",
    "levels(df2_NecCol_clean$Country) <- c(levels(df2_NecCol_clean$Country), 'USA')\n",
    "df2_NecCol_clean$Country[df2_NecCol_clean$Country ==\"États-Unis d\\'Amérique'\"]  <- \"USA\" \n",
    "df2_NecCol_clean$Country[df2_NecCol_clean$Country ==\"Ã‰tats-Unis d\\'Amérique\"]  <- \"USA\" "
   ]
  },
  {
   "cell_type": "code",
   "execution_count": 438,
   "id": "1e776380",
   "metadata": {
    "scrolled": false
   },
   "outputs": [
    {
     "data": {
      "image/png": "[encoded data removed]",
      "text/plain": [
       "plot without title"
      ]
     },
     "metadata": {},
     "output_type": "display_data"
    }
   ],
   "source": [
    "# Simple Bar Plot\n",
    "counts <- sort(table(df2_NecCol_clean$Country), decreasing=TRUE)[1:10]\n",
    "barplot(counts,xlab=\"Country\",ylab=\"Number of users\",cex.axis=1, cex.names=1.15)\n",
    "#, main=\"Countries with the greatest number of users enrolled in the MOOC\""
   ]
  },
  {
   "cell_type": "markdown",
   "id": "0dc74c83",
   "metadata": {},
   "source": [
    "# Presenting the proportions of learners activity"
   ]
  },
  {
   "cell_type": "code",
   "execution_count": 439,
   "id": "5025bb88",
   "metadata": {
    "scrolled": false
   },
   "outputs": [
    {
     "data": {
      "image/png": "[encoded data removed]",
      "text/plain": [
       "plot without title"
      ]
     },
     "metadata": {},
     "output_type": "display_data"
    }
   ],
   "source": [
    "plot(vis_miss(df, warn_large_data = FALSE))"
   ]
  },
  {
   "cell_type": "markdown",
   "id": "badd6fba",
   "metadata": {},
   "source": [
    "### subsetting the different categories “completers”, “disengaging learners”,“auditing learners”, and \"bystanders\" "
   ]
  },
  {
   "cell_type": "code",
   "execution_count": 440,
   "id": "8a85c624",
   "metadata": {},
   "outputs": [
    {
     "name": "stderr",
     "output_type": "stream",
     "text": [
      "Joining, by = c(\"Student_ID\", \"Assignment.bin\", \"Quizz.1.score\", \"Quizz.1.bin\", \"Quizz.2.score\", \"Quizz.2.bin\", \"Quizz.3.score\", \"Quizz.3.bin\", \"Quizz.4.bin\", \"Quizz.4.score\", \"Quizz.5.bin\", \"Quizz.5.score\", \"Prez.sem.1\", \"S1.L1\", \"S1.L2\", \"S1.L3\", \"S1.L4\", \"S1.L5\", \"S1.L6\", \"Prez.sem.2\", \"S2.L1\", \"S2.L2\", \"S2.L3\", \"S2.L4\", \"S2.L5\", \"S2.L6\", \"Prez.sem.3\", \"S3.L1.1\", \"S3.L1.2\", \"S3.L2\", \"S3.L3\", \"S3.L4\", \"S3.L5\", \"Prez.sem.4\", \"S4.L1.1\", \"S4.L1.2\", \"S4.L2\", \"S4.L3\", \"S4.L4\", \"S4.L5\", \"Prez.sem.5\", \"S5.L1.1\", \"S5.L1.2\", \"S5.L2\", \"S5.L3\", \"S5.L4\", \"S5.L5\", \"last.video\", \"last.quizz\", \"Gender\", \"birth.year\", \"Country\", \"Diploma\", \"Formation\", \"How.heard\", \"Exp.crea\", \"Curiosity.MOOC\", \"Completion.proba\", \"Country_HDI\", \"Country.1\", \"CSP.fin\", \"Temps.dispo.fin\", \"age\", \"Certif.bin\", \"Exam.bin\", \"HDI\", \"CSP\", \"n.videos\", \"behaviour.index.percentage\", \"agegroup\", \"agegroup3\")\n",
      "Joining, by = c(\"Student_ID\", \"Assignment.bin\", \"Quizz.1.score\", \"Quizz.1.bin\", \"Quizz.2.score\", \"Quizz.2.bin\", \"Quizz.3.score\", \"Quizz.3.bin\", \"Quizz.4.bin\", \"Quizz.4.score\", \"Quizz.5.bin\", \"Quizz.5.score\", \"Prez.sem.1\", \"S1.L1\", \"S1.L2\", \"S1.L3\", \"S1.L4\", \"S1.L5\", \"S1.L6\", \"Prez.sem.2\", \"S2.L1\", \"S2.L2\", \"S2.L3\", \"S2.L4\", \"S2.L5\", \"S2.L6\", \"Prez.sem.3\", \"S3.L1.1\", \"S3.L1.2\", \"S3.L2\", \"S3.L3\", \"S3.L4\", \"S3.L5\", \"Prez.sem.4\", \"S4.L1.1\", \"S4.L1.2\", \"S4.L2\", \"S4.L3\", \"S4.L4\", \"S4.L5\", \"Prez.sem.5\", \"S5.L1.1\", \"S5.L1.2\", \"S5.L2\", \"S5.L3\", \"S5.L4\", \"S5.L5\", \"last.video\", \"last.quizz\", \"Gender\", \"birth.year\", \"Country\", \"Diploma\", \"Formation\", \"How.heard\", \"Exp.crea\", \"Curiosity.MOOC\", \"Completion.proba\", \"Country_HDI\", \"Country.1\", \"CSP.fin\", \"Temps.dispo.fin\", \"age\", \"Certif.bin\", \"Exam.bin\", \"HDI\", \"CSP\", \"n.videos\", \"behaviour.index.percentage\", \"agegroup\", \"agegroup3\")\n",
      "Joining, by = c(\"Student_ID\", \"Assignment.bin\", \"Quizz.1.score\", \"Quizz.1.bin\", \"Quizz.2.score\", \"Quizz.2.bin\", \"Quizz.3.score\", \"Quizz.3.bin\", \"Quizz.4.bin\", \"Quizz.4.score\", \"Quizz.5.bin\", \"Quizz.5.score\", \"Prez.sem.1\", \"S1.L1\", \"S1.L2\", \"S1.L3\", \"S1.L4\", \"S1.L5\", \"S1.L6\", \"Prez.sem.2\", \"S2.L1\", \"S2.L2\", \"S2.L3\", \"S2.L4\", \"S2.L5\", \"S2.L6\", \"Prez.sem.3\", \"S3.L1.1\", \"S3.L1.2\", \"S3.L2\", \"S3.L3\", \"S3.L4\", \"S3.L5\", \"Prez.sem.4\", \"S4.L1.1\", \"S4.L1.2\", \"S4.L2\", \"S4.L3\", \"S4.L4\", \"S4.L5\", \"Prez.sem.5\", \"S5.L1.1\", \"S5.L1.2\", \"S5.L2\", \"S5.L3\", \"S5.L4\", \"S5.L5\", \"last.video\", \"last.quizz\", \"Gender\", \"birth.year\", \"Country\", \"Diploma\", \"Formation\", \"How.heard\", \"Exp.crea\", \"Curiosity.MOOC\", \"Completion.proba\", \"Country_HDI\", \"Country.1\", \"CSP.fin\", \"Temps.dispo.fin\", \"age\", \"Certif.bin\", \"Exam.bin\", \"HDI\", \"CSP\", \"n.videos\", \"behaviour.index.percentage\", \"agegroup\", \"agegroup3\")\n"
     ]
    }
   ],
   "source": [
    "completers <- subset(df2_NecCol_clean, Exam.bin == 1)\n",
    "\n",
    "auditing <- df2_NecCol_clean[which(df2_NecCol_clean$Quizz.1.bin ==0\n",
    "                                    & df2_NecCol_clean$Quizz.2.bin ==0\n",
    "                                    & df2_NecCol_clean$Quizz.3.bin ==0\n",
    "                                    & df2_NecCol_clean$Quizz.4.bin ==0\n",
    "                                    & df2_NecCol_clean$Quizz.5.bin ==0\n",
    "                                    & df2_NecCol_clean$Assignment.bin ==0\n",
    "                                    & df2_NecCol_clean$behaviour.index.percentage > 0.1),]\n",
    "bystanders <- df2_NecCol_clean[which(df2_NecCol_clean$Quizz.1.bin ==0\n",
    "                                    & df2_NecCol_clean$Quizz.2.bin ==0\n",
    "                                    & df2_NecCol_clean$Quizz.3.bin ==0\n",
    "                                    & df2_NecCol_clean$Quizz.4.bin ==0\n",
    "                                    & df2_NecCol_clean$Quizz.5.bin ==0\n",
    "                                    & df2_NecCol_clean$Assignment.bin ==0\n",
    "                                    & df2_NecCol_clean$behaviour.index.percentage <= 0.1),]\n",
    "\n",
    "bystanders<-anti_join(bystanders, auditing)\n",
    "\n",
    "\n",
    "disengaging <- anti_join(df2_NecCol_clean, do.call(\"rbind\", list(completers,auditing,bystanders)))\n",
    "disengaging<-anti_join(disengaging, completers)\n",
    "\n",
    "\n",
    "completers$behaviour = 'Completer'\n",
    "\n",
    "\n",
    "disengaging$behaviour = 'Disenganger'\n",
    "\n",
    "auditing$behaviour = 'Auditer'\n",
    "\n",
    "bystanders$behaviour = 'Bystander'\n",
    "df_categories <- do.call(\"rbind\", list(completers,auditing,bystanders,disengaging))\n"
   ]
  },
  {
   "cell_type": "code",
   "execution_count": 441,
   "id": "4b74f964",
   "metadata": {},
   "outputs": [
    {
     "data": {
      "text/html": [
       "<table>\n",
       "<thead><tr><th></th><th scope=col>Student_ID</th><th scope=col>Assignment.bin</th><th scope=col>Quizz.1.score</th><th scope=col>Quizz.1.bin</th><th scope=col>Quizz.2.score</th><th scope=col>Quizz.2.bin</th><th scope=col>Quizz.3.score</th><th scope=col>Quizz.3.bin</th><th scope=col>Quizz.4.bin</th><th scope=col>Quizz.4.score</th><th scope=col>...</th><th scope=col>age</th><th scope=col>Certif.bin</th><th scope=col>Exam.bin</th><th scope=col>HDI</th><th scope=col>CSP</th><th scope=col>n.videos</th><th scope=col>behaviour.index.percentage</th><th scope=col>agegroup</th><th scope=col>agegroup3</th><th scope=col>behaviour</th></tr></thead>\n",
       "<tbody>\n",
       "\t<tr><th scope=row>1205</th><td>11042                                    </td><td>0                                        </td><td>14                                       </td><td>1                                        </td><td>20                                       </td><td>1                                        </td><td>20.00                                    </td><td>1                                        </td><td>1                                        </td><td>20                                       </td><td>...                                      </td><td>53                                       </td><td>NA                                       </td><td>1                                        </td><td>TH                                       </td><td>Artisans, commerçants, chefs d'entreprise</td><td> 3                                       </td><td>0.08571429                               </td><td>(50,60]                                  </td><td>(50,80]                                  </td><td>Completer                                </td></tr>\n",
       "\t<tr><th scope=row>1444</th><td>11476                                    </td><td>0                                        </td><td>20                                       </td><td>1                                        </td><td>20                                       </td><td>1                                        </td><td>20.00                                    </td><td>1                                        </td><td>1                                        </td><td>20                                       </td><td>...                                      </td><td>29                                       </td><td>NA                                       </td><td>1                                        </td><td>TH                                       </td><td>Etudiants                                </td><td>31                                       </td><td>0.88571429                               </td><td>[20,30]                                  </td><td>(0,30]                                   </td><td>Completer                                </td></tr>\n",
       "\t<tr><th scope=row>1495</th><td>11577                                    </td><td>0                                        </td><td>17                                       </td><td>1                                        </td><td>18                                       </td><td>1                                        </td><td>17.33                                    </td><td>1                                        </td><td>1                                        </td><td>20                                       </td><td>...                                      </td><td>56                                       </td><td>NA                                       </td><td>1                                        </td><td>TH                                       </td><td>Employés                                 </td><td>29                                       </td><td>0.82857143                               </td><td>(50,60]                                  </td><td>(50,80]                                  </td><td>Completer                                </td></tr>\n",
       "\t<tr><th scope=row>1598</th><td>11748                                    </td><td>0                                        </td><td>16                                       </td><td>1                                        </td><td>20                                       </td><td>1                                        </td><td>19.33                                    </td><td>1                                        </td><td>1                                        </td><td>20                                       </td><td>...                                      </td><td>30                                       </td><td>NA                                       </td><td>1                                        </td><td>TH                                       </td><td>Etudiants                                </td><td>34                                       </td><td>0.97142857                               </td><td>[20,30]                                  </td><td>(0,30]                                   </td><td>Completer                                </td></tr>\n",
       "\t<tr><th scope=row>1629</th><td>11782                                    </td><td>0                                        </td><td>17                                       </td><td>1                                        </td><td>20                                       </td><td>1                                        </td><td>15.33                                    </td><td>1                                        </td><td>1                                        </td><td>16                                       </td><td>...                                      </td><td>NA                                       </td><td>NA                                       </td><td>1                                        </td><td>TH                                       </td><td>Cadres et professions intellectuelles    </td><td> 5                                       </td><td>0.14285714                               </td><td>NA                                       </td><td>NA                                       </td><td>Completer                                </td></tr>\n",
       "\t<tr><th scope=row>1713</th><td>11879                                    </td><td>0                                        </td><td>19                                       </td><td>1                                        </td><td>20                                       </td><td>1                                        </td><td>18.00                                    </td><td>1                                        </td><td>1                                        </td><td>20                                       </td><td>...                                      </td><td>35                                       </td><td>NA                                       </td><td>1                                        </td><td>TH                                       </td><td>Cadres et professions intellectuelles    </td><td>34                                       </td><td>0.97142857                               </td><td>(30,40]                                  </td><td>(30,50]                                  </td><td>Completer                                </td></tr>\n",
       "</tbody>\n",
       "</table>\n"
      ],
      "text/latex": [
       "\\begin{tabular}{r|llllllllllllllllllllllllllllllllllllllllllllllllllllllllllllllllllllllll}\n",
       "  & Student\\_ID & Assignment.bin & Quizz.1.score & Quizz.1.bin & Quizz.2.score & Quizz.2.bin & Quizz.3.score & Quizz.3.bin & Quizz.4.bin & Quizz.4.score & ... & age & Certif.bin & Exam.bin & HDI & CSP & n.videos & behaviour.index.percentage & agegroup & agegroup3 & behaviour\\\\\n",
       "\\hline\n",
       "\t1205 & 11042                                     & 0                                         & 14                                        & 1                                         & 20                                        & 1                                         & 20.00                                     & 1                                         & 1                                         & 20                                        & ...                                       & 53                                        & NA                                        & 1                                         & TH                                        & Artisans, commerçants, chefs d'entreprise &  3                                        & 0.08571429                                & (50,60{]}                                 & (50,80{]}                                 & Completer                                \\\\\n",
       "\t1444 & 11476                                     & 0                                         & 20                                        & 1                                         & 20                                        & 1                                         & 20.00                                     & 1                                         & 1                                         & 20                                        & ...                                       & 29                                        & NA                                        & 1                                         & TH                                        & Etudiants                                 & 31                                        & 0.88571429                                & {[}20,30{]}                               & (0,30{]}                                  & Completer                                \\\\\n",
       "\t1495 & 11577                                     & 0                                         & 17                                        & 1                                         & 18                                        & 1                                         & 17.33                                     & 1                                         & 1                                         & 20                                        & ...                                       & 56                                        & NA                                        & 1                                         & TH                                        & Employés                                  & 29                                        & 0.82857143                                & (50,60{]}                                 & (50,80{]}                                 & Completer                                \\\\\n",
       "\t1598 & 11748                                     & 0                                         & 16                                        & 1                                         & 20                                        & 1                                         & 19.33                                     & 1                                         & 1                                         & 20                                        & ...                                       & 30                                        & NA                                        & 1                                         & TH                                        & Etudiants                                 & 34                                        & 0.97142857                                & {[}20,30{]}                               & (0,30{]}                                  & Completer                                \\\\\n",
       "\t1629 & 11782                                     & 0                                         & 17                                        & 1                                         & 20                                        & 1                                         & 15.33                                     & 1                                         & 1                                         & 16                                        & ...                                       & NA                                        & NA                                        & 1                                         & TH                                        & Cadres et professions intellectuelles     &  5                                        & 0.14285714                                & NA                                        & NA                                        & Completer                                \\\\\n",
       "\t1713 & 11879                                     & 0                                         & 19                                        & 1                                         & 20                                        & 1                                         & 18.00                                     & 1                                         & 1                                         & 20                                        & ...                                       & 35                                        & NA                                        & 1                                         & TH                                        & Cadres et professions intellectuelles     & 34                                        & 0.97142857                                & (30,40{]}                                 & (30,50{]}                                 & Completer                                \\\\\n",
       "\\end{tabular}\n"
      ],
      "text/markdown": [
       "\n",
       "| <!--/--> | Student_ID | Assignment.bin | Quizz.1.score | Quizz.1.bin | Quizz.2.score | Quizz.2.bin | Quizz.3.score | Quizz.3.bin | Quizz.4.bin | Quizz.4.score | ... | age | Certif.bin | Exam.bin | HDI | CSP | n.videos | behaviour.index.percentage | agegroup | agegroup3 | behaviour |\n",
       "|---|---|---|---|---|---|---|---|---|---|---|---|---|---|---|---|---|---|---|---|---|---|\n",
       "| 1205 | 11042                                     | 0                                         | 14                                        | 1                                         | 20                                        | 1                                         | 20.00                                     | 1                                         | 1                                         | 20                                        | ...                                       | 53                                        | NA                                        | 1                                         | TH                                        | Artisans, commerçants, chefs d'entreprise |  3                                        | 0.08571429                                | (50,60]                                   | (50,80]                                   | Completer                                 |\n",
       "| 1444 | 11476                                     | 0                                         | 20                                        | 1                                         | 20                                        | 1                                         | 20.00                                     | 1                                         | 1                                         | 20                                        | ...                                       | 29                                        | NA                                        | 1                                         | TH                                        | Etudiants                                 | 31                                        | 0.88571429                                | [20,30]                                   | (0,30]                                    | Completer                                 |\n",
       "| 1495 | 11577                                     | 0                                         | 17                                        | 1                                         | 18                                        | 1                                         | 17.33                                     | 1                                         | 1                                         | 20                                        | ...                                       | 56                                        | NA                                        | 1                                         | TH                                        | Employés                                  | 29                                        | 0.82857143                                | (50,60]                                   | (50,80]                                   | Completer                                 |\n",
       "| 1598 | 11748                                     | 0                                         | 16                                        | 1                                         | 20                                        | 1                                         | 19.33                                     | 1                                         | 1                                         | 20                                        | ...                                       | 30                                        | NA                                        | 1                                         | TH                                        | Etudiants                                 | 34                                        | 0.97142857                                | [20,30]                                   | (0,30]                                    | Completer                                 |\n",
       "| 1629 | 11782                                     | 0                                         | 17                                        | 1                                         | 20                                        | 1                                         | 15.33                                     | 1                                         | 1                                         | 16                                        | ...                                       | NA                                        | NA                                        | 1                                         | TH                                        | Cadres et professions intellectuelles     |  5                                        | 0.14285714                                | NA                                        | NA                                        | Completer                                 |\n",
       "| 1713 | 11879                                     | 0                                         | 19                                        | 1                                         | 20                                        | 1                                         | 18.00                                     | 1                                         | 1                                         | 20                                        | ...                                       | 35                                        | NA                                        | 1                                         | TH                                        | Cadres et professions intellectuelles     | 34                                        | 0.97142857                                | (30,40]                                   | (30,50]                                   | Completer                                 |\n",
       "\n"
      ],
      "text/plain": [
       "     Student_ID Assignment.bin Quizz.1.score Quizz.1.bin Quizz.2.score\n",
       "1205 11042      0              14            1           20           \n",
       "1444 11476      0              20            1           20           \n",
       "1495 11577      0              17            1           18           \n",
       "1598 11748      0              16            1           20           \n",
       "1629 11782      0              17            1           20           \n",
       "1713 11879      0              19            1           20           \n",
       "     Quizz.2.bin Quizz.3.score Quizz.3.bin Quizz.4.bin Quizz.4.score ... age\n",
       "1205 1           20.00         1           1           20            ... 53 \n",
       "1444 1           20.00         1           1           20            ... 29 \n",
       "1495 1           17.33         1           1           20            ... 56 \n",
       "1598 1           19.33         1           1           20            ... 30 \n",
       "1629 1           15.33         1           1           16            ... NA \n",
       "1713 1           18.00         1           1           20            ... 35 \n",
       "     Certif.bin Exam.bin HDI CSP                                       n.videos\n",
       "1205 NA         1        TH  Artisans, commerçants, chefs d'entreprise  3      \n",
       "1444 NA         1        TH  Etudiants                                 31      \n",
       "1495 NA         1        TH  Employés                                  29      \n",
       "1598 NA         1        TH  Etudiants                                 34      \n",
       "1629 NA         1        TH  Cadres et professions intellectuelles      5      \n",
       "1713 NA         1        TH  Cadres et professions intellectuelles     34      \n",
       "     behaviour.index.percentage agegroup agegroup3 behaviour\n",
       "1205 0.08571429                 (50,60]  (50,80]   Completer\n",
       "1444 0.88571429                 [20,30]  (0,30]    Completer\n",
       "1495 0.82857143                 (50,60]  (50,80]   Completer\n",
       "1598 0.97142857                 [20,30]  (0,30]    Completer\n",
       "1629 0.14285714                 NA       NA        Completer\n",
       "1713 0.97142857                 (30,40]  (30,50]   Completer"
      ]
     },
     "metadata": {},
     "output_type": "display_data"
    }
   ],
   "source": [
    "df_categories <- do.call(\"rbind\", list(completers,auditing,bystanders,disengaging))\n",
    "head(df_categories)"
   ]
  },
  {
   "cell_type": "markdown",
   "id": "4accb962",
   "metadata": {},
   "source": [
    "## adding the column behaviour "
   ]
  },
  {
   "cell_type": "code",
   "execution_count": 442,
   "id": "1b311b55",
   "metadata": {},
   "outputs": [],
   "source": [
    "df_new = do.call(\"rbind\", list(completers, disengaging, auditing,bystanders))"
   ]
  },
  {
   "cell_type": "code",
   "execution_count": 443,
   "id": "abd8cce7",
   "metadata": {},
   "outputs": [
    {
     "data": {
      "text/html": [
       "<ol class=list-inline>\n",
       "\t<li>17054</li>\n",
       "\t<li>71</li>\n",
       "</ol>\n"
      ],
      "text/latex": [
       "\\begin{enumerate*}\n",
       "\\item 17054\n",
       "\\item 71\n",
       "\\end{enumerate*}\n"
      ],
      "text/markdown": [
       "1. 17054\n",
       "2. 71\n",
       "\n",
       "\n"
      ],
      "text/plain": [
       "[1] 17054    71"
      ]
     },
     "metadata": {},
     "output_type": "display_data"
    }
   ],
   "source": [
    "dim(df2_NecCol_clean)"
   ]
  },
  {
   "cell_type": "code",
   "execution_count": 444,
   "id": "f05d32b7",
   "metadata": {
    "scrolled": false
   },
   "outputs": [
    {
     "data": {
      "image/png": "[encoded data removed]",
      "text/plain": [
       "plot without title"
      ]
     },
     "metadata": {},
     "output_type": "display_data"
    }
   ],
   "source": [
    "options(repr.plot.width=5, repr.plot.height=6)\n",
    "Percent = c(round(nrow(completers[completers$Countr])/nrow(df_new)*100),round(nrow(disengaging)/nrow(df_new)*100),round(nrow(auditing)/nrow(df_new)*100),round(nrow(bystanders)/nrow(df_new)*100))\n",
    "Company <- c(\"Completers\", \"Disengagers\", \"Auditers\", \"Bystanders\"); \n",
    "pie(x = Percent, label=paste(Company, Percent, \"%\"), col=viridis(4, option = \"E\"), cex = 0.7 ,cex.lab=10) \n",
    "#, main=\"Learners engagment behaviour\""
   ]
  },
  {
   "cell_type": "code",
   "execution_count": 445,
   "id": "b91833a9",
   "metadata": {
    "scrolled": true
   },
   "outputs": [
    {
     "name": "stdout",
     "output_type": "stream",
     "text": [
      "[1] 1708\n",
      "[1] 8425\n",
      "[1] 774\n",
      "[1] 6149\n"
     ]
    }
   ],
   "source": [
    "print(nrow(completers))\n",
    "print(nrow(disengaging))\n",
    "print(nrow(auditing))\n",
    "print(nrow(bystanders))"
   ]
  },
  {
   "cell_type": "markdown",
   "id": "b4fcdf14",
   "metadata": {},
   "source": [
    "# 3. Linear Model"
   ]
  },
  {
   "cell_type": "markdown",
   "id": "6829a1e3",
   "metadata": {},
   "source": [
    "# T-test"
   ]
  },
  {
   "cell_type": "code",
   "execution_count": 446,
   "id": "35429d6f",
   "metadata": {},
   "outputs": [
    {
     "data": {
      "text/html": [
       "<table>\n",
       "<thead><tr><th></th><th scope=col>Estimate</th><th scope=col>Std. Error</th><th scope=col>t value</th><th scope=col>Pr(&gt;|t|)</th></tr></thead>\n",
       "<tbody>\n",
       "\t<tr><th scope=row>(Intercept)</th><td>16.558119  </td><td>0.1758582  </td><td>94.156102  </td><td>0.000000000</td></tr>\n",
       "\t<tr><th scope=row>Genderune femme</th><td> 1.037528  </td><td>0.3057691  </td><td> 3.393176  </td><td>0.000693986</td></tr>\n",
       "</tbody>\n",
       "</table>\n"
      ],
      "text/latex": [
       "\\begin{tabular}{r|llll}\n",
       "  & Estimate & Std. Error & t value & Pr(>\\textbar{}t\\textbar{})\\\\\n",
       "\\hline\n",
       "\t(Intercept) & 16.558119   & 0.1758582   & 94.156102   & 0.000000000\\\\\n",
       "\tGenderune femme &  1.037528   & 0.3057691   &  3.393176   & 0.000693986\\\\\n",
       "\\end{tabular}\n"
      ],
      "text/markdown": [
       "\n",
       "| <!--/--> | Estimate | Std. Error | t value | Pr(>|t|) |\n",
       "|---|---|---|---|---|\n",
       "| (Intercept) | 16.558119   | 0.1758582   | 94.156102   | 0.000000000 |\n",
       "| Genderune femme |  1.037528   | 0.3057691   |  3.393176   | 0.000693986 |\n",
       "\n"
      ],
      "text/plain": [
       "                Estimate  Std. Error t value   Pr(>|t|)   \n",
       "(Intercept)     16.558119 0.1758582  94.156102 0.000000000\n",
       "Genderune femme  1.037528 0.3057691   3.393176 0.000693986"
      ]
     },
     "metadata": {},
     "output_type": "display_data"
    }
   ],
   "source": [
    "(xtable(lm(n.videos~ Gender, data = df2_NecCol_clean)))"
   ]
  },
  {
   "cell_type": "code",
   "execution_count": 447,
   "id": "70125799",
   "metadata": {
    "scrolled": false
   },
   "outputs": [
    {
     "data": {
      "text/plain": [
       "\n",
       "\tWelch Two Sample t-test\n",
       "\n",
       "data:  n.videos by Gender\n",
       "t = -3.3705, df = 5574.8, p-value = 0.0007555\n",
       "alternative hypothesis: true difference in means is not equal to 0\n",
       "95 percent confidence interval:\n",
       " -1.6409962 -0.4340603\n",
       "sample estimates:\n",
       " mean in group un homme mean in group une femme \n",
       "               16.55812                17.59565 \n"
      ]
     },
     "metadata": {},
     "output_type": "display_data"
    }
   ],
   "source": [
    "T.Test <- t.test(n.videos~ Gender, data = df2_NecCol_clean)\n",
    "T.Test"
   ]
  },
  {
   "cell_type": "code",
   "execution_count": 448,
   "id": "ed97285f",
   "metadata": {},
   "outputs": [],
   "source": [
    "stargazer_htest = function (data, ...) {\n",
    "    summary = data.frame(`Test statistic` = data$statistic,\n",
    "                         DF = data$parameter,\n",
    "                         `p value` = data$p.value,\n",
    "                         `Alternative hypothesis` = data$alternative,\n",
    "                         check.names = FALSE)\n",
    "    stargazer(summary, flip = TRUE, summary = FALSE,\n",
    "              notes = paste(data$method, data$data.name, sep = ': '), ...)\n",
    "}"
   ]
  },
  {
   "cell_type": "code",
   "execution_count": 449,
   "id": "b601bd1b",
   "metadata": {
    "scrolled": true
   },
   "outputs": [
    {
     "name": "stdout",
     "output_type": "stream",
     "text": [
      "\n",
      "% Table created by stargazer v.5.2.2 by Marek Hlavac, Harvard University. E-mail: hlavac at fas.harvard.edu\n",
      "% Date and time: mar., janv. 11, 2022 - 00:07:38\n",
      "\\begin{table}[!htbp] \\centering \n",
      "  \\caption{} \n",
      "  \\label{} \n",
      "\\begin{tabular}{@{\\extracolsep{5pt}} cc} \n",
      "\\\\[-1.8ex]\\hline \n",
      "\\hline \\\\[-1.8ex] \n",
      " & t \\\\ \n",
      "\\hline \\\\[-1.8ex] \n",
      "Test statistic & -3.370452 \\\\ \n",
      "DF & 5574.774 \\\\ \n",
      "p value & 0.0007555496 \\\\ \n",
      "Alternative hypothesis & two.sided \\\\ \n",
      "\\hline \\\\[-1.8ex] \n",
      "\\multicolumn{2}{l}{Welch Two Sample t-test: n.videos by Gender} \\\\ \n",
      "\\end{tabular} \n",
      "\\end{table} \n"
     ]
    }
   ],
   "source": [
    "stargazer_htest(T.Test)"
   ]
  },
  {
   "cell_type": "markdown",
   "id": "9f5b1e1f",
   "metadata": {},
   "source": [
    "## one and two way anova HDI and n.videos"
   ]
  },
  {
   "cell_type": "code",
   "execution_count": 450,
   "id": "0f1bb535",
   "metadata": {},
   "outputs": [],
   "source": [
    "options(scipen = 0)  "
   ]
  },
  {
   "cell_type": "code",
   "execution_count": 451,
   "id": "d926346e",
   "metadata": {},
   "outputs": [],
   "source": [
    "no.na.data <- na.omit(df2_NecCol_clean[c(\"Gender\", \"HDI\",\"n.videos\",'CSP','age','agegroup',\"agegroup3\",'Exam.bin')])"
   ]
  },
  {
   "cell_type": "code",
   "execution_count": 452,
   "id": "70a4c2b3",
   "metadata": {},
   "outputs": [
    {
     "data": {
      "text/html": [
       "<table>\n",
       "<thead><tr><th></th><th scope=col>Estimate</th><th scope=col>Std. Error</th><th scope=col>t value</th><th scope=col>Pr(&gt;|t|)</th></tr></thead>\n",
       "<tbody>\n",
       "\t<tr><th scope=row>(Intercept)</th><td>8.771700    </td><td>0.4486738   </td><td>19.550285   </td><td>3.230049e-83</td></tr>\n",
       "\t<tr><th scope=row>HDITH</th><td>9.511811    </td><td>0.4758277   </td><td>19.990033   </td><td>7.889380e-87</td></tr>\n",
       "\t<tr><th scope=row>HDII</th><td>4.469137    </td><td>0.7048198   </td><td> 6.340823   </td><td>2.406984e-10</td></tr>\n",
       "</tbody>\n",
       "</table>\n"
      ],
      "text/latex": [
       "\\begin{tabular}{r|llll}\n",
       "  & Estimate & Std. Error & t value & Pr(>\\textbar{}t\\textbar{})\\\\\n",
       "\\hline\n",
       "\t(Intercept) & 8.771700     & 0.4486738    & 19.550285    & 3.230049e-83\\\\\n",
       "\tHDITH & 9.511811     & 0.4758277    & 19.990033    & 7.889380e-87\\\\\n",
       "\tHDII & 4.469137     & 0.7048198    &  6.340823    & 2.406984e-10\\\\\n",
       "\\end{tabular}\n"
      ],
      "text/markdown": [
       "\n",
       "| <!--/--> | Estimate | Std. Error | t value | Pr(>|t|) |\n",
       "|---|---|---|---|---|\n",
       "| (Intercept) | 8.771700     | 0.4486738    | 19.550285    | 3.230049e-83 |\n",
       "| HDITH | 9.511811     | 0.4758277    | 19.990033    | 7.889380e-87 |\n",
       "| HDII | 4.469137     | 0.7048198    |  6.340823    | 2.406984e-10 |\n",
       "\n"
      ],
      "text/plain": [
       "            Estimate Std. Error t value   Pr(>|t|)    \n",
       "(Intercept) 8.771700 0.4486738  19.550285 3.230049e-83\n",
       "HDITH       9.511811 0.4758277  19.990033 7.889380e-87\n",
       "HDII        4.469137 0.7048198   6.340823 2.406984e-10"
      ]
     },
     "metadata": {},
     "output_type": "display_data"
    }
   ],
   "source": [
    "(xtable(lm(n.videos~ HDI, data = no.na.data)))"
   ]
  },
  {
   "cell_type": "code",
   "execution_count": 453,
   "id": "6c1db06a",
   "metadata": {},
   "outputs": [
    {
     "data": {
      "text/html": [
       "<table>\n",
       "<thead><tr><th></th><th scope=col>Df</th><th scope=col>Sum Sq</th><th scope=col>Mean Sq</th><th scope=col>F value</th><th scope=col>Pr(&gt;F)</th></tr></thead>\n",
       "<tbody>\n",
       "\t<tr><th scope=row>HDI</th><td>   2        </td><td>  76125.73  </td><td>38062.8626  </td><td>224.8247    </td><td>9.050466e-96</td></tr>\n",
       "\t<tr><th scope=row>Residuals</th><td>8155        </td><td>1380642.86  </td><td>  169.3002  </td><td>      NA    </td><td>          NA</td></tr>\n",
       "</tbody>\n",
       "</table>\n"
      ],
      "text/latex": [
       "\\begin{tabular}{r|lllll}\n",
       "  & Df & Sum Sq & Mean Sq & F value & Pr(>F)\\\\\n",
       "\\hline\n",
       "\tHDI &    2         &   76125.73   & 38062.8626   & 224.8247     & 9.050466e-96\\\\\n",
       "\tResiduals & 8155         & 1380642.86   &   169.3002   &       NA     &           NA\\\\\n",
       "\\end{tabular}\n"
      ],
      "text/markdown": [
       "\n",
       "| <!--/--> | Df | Sum Sq | Mean Sq | F value | Pr(>F) |\n",
       "|---|---|---|---|---|---|\n",
       "| HDI |    2         |   76125.73   | 38062.8626   | 224.8247     | 9.050466e-96 |\n",
       "| Residuals | 8155         | 1380642.86   |   169.3002   |       NA     |           NA |\n",
       "\n"
      ],
      "text/plain": [
       "          Df   Sum Sq     Mean Sq    F value  Pr(>F)      \n",
       "HDI          2   76125.73 38062.8626 224.8247 9.050466e-96\n",
       "Residuals 8155 1380642.86   169.3002       NA           NA"
      ]
     },
     "metadata": {},
     "output_type": "display_data"
    }
   ],
   "source": [
    "anova(lm(n.videos~ HDI, data = no.na.data))"
   ]
  },
  {
   "cell_type": "code",
   "execution_count": 454,
   "id": "177725d6",
   "metadata": {},
   "outputs": [
    {
     "name": "stdout",
     "output_type": "stream",
     "text": [
      "% latex table generated in R 3.6.1 by xtable 1.8-4 package\n",
      "% Tue Jan 11 00:07:38 2022\n",
      "\\begin{table}[ht]\n",
      "\\centering\n",
      "\\begin{tabular}{lrrrrr}\n",
      "  \\hline\n",
      " & Df & Sum Sq & Mean Sq & F value & Pr($>$F) \\\\ \n",
      "  \\hline\n",
      "HDI & 2 & 76125.73 & 38062.86 & 224.82 & 0.0000 \\\\ \n",
      "  Residuals & 8155 & 1380642.86 & 169.30 &  &  \\\\ \n",
      "   \\hline\n",
      "\\end{tabular}\n",
      "\\end{table}\n"
     ]
    }
   ],
   "source": [
    "print(xtable(anova(lm(n.videos~ HDI, data = no.na.data))))"
   ]
  },
  {
   "cell_type": "markdown",
   "id": "97f6c9c4",
   "metadata": {},
   "source": [
    "### linear model of number of videos watched by gender and HDI"
   ]
  },
  {
   "cell_type": "code",
   "execution_count": 455,
   "id": "5af6765b",
   "metadata": {
    "scrolled": false
   },
   "outputs": [
    {
     "data": {
      "text/plain": [
       "\n",
       "Call:\n",
       "lm(formula = n.videos ~ Gender + HDI, data = df2_NecCol_clean)\n",
       "\n",
       "Residuals:\n",
       "   Min     1Q Median     3Q    Max \n",
       "-18.45 -11.45  -2.45  14.76  26.30 \n",
       "\n",
       "Coefficients:\n",
       "                Estimate Std. Error t value Pr(>|t|)    \n",
       "(Intercept)       8.6972     0.4332  20.076  < 2e-16 ***\n",
       "Genderune femme   0.2121     0.3031   0.700    0.484    \n",
       "HDITH             9.5405     0.4624  20.634  < 2e-16 ***\n",
       "HDII              4.4439     0.6822   6.514 7.73e-11 ***\n",
       "---\n",
       "Signif. codes:  0 '***' 0.001 '**' 0.01 '*' 0.05 '.' 0.1 ' ' 1\n",
       "\n",
       "Residual standard error: 12.99 on 8478 degrees of freedom\n",
       "  (8572 observations deleted due to missingness)\n",
       "Multiple R-squared:  0.05479,\tAdjusted R-squared:  0.05446 \n",
       "F-statistic: 163.8 on 3 and 8478 DF,  p-value: < 2.2e-16\n"
      ]
     },
     "metadata": {},
     "output_type": "display_data"
    }
   ],
   "source": [
    "mod <-lm(n.videos~Gender+HDI, data = df2_NecCol_clean)\n",
    "summary(mod)"
   ]
  },
  {
   "cell_type": "code",
   "execution_count": 456,
   "id": "92a86e1a",
   "metadata": {
    "scrolled": false
   },
   "outputs": [
    {
     "data": {
      "text/html": [
       "<table>\n",
       "<thead><tr><th></th><th scope=col>Estimate</th><th scope=col>Std. Error</th><th scope=col>t value</th><th scope=col>Pr(&gt;|t|)</th></tr></thead>\n",
       "<tbody>\n",
       "\t<tr><th scope=row>(Intercept)</th><td>8.6972378   </td><td>0.4332190   </td><td>20.0758446  </td><td>1.276379e-87</td></tr>\n",
       "\t<tr><th scope=row>Genderune femme</th><td>0.2121116   </td><td>0.3031072   </td><td> 0.6997905  </td><td>4.840773e-01</td></tr>\n",
       "\t<tr><th scope=row>HDITH</th><td>9.5404665   </td><td>0.4623731   </td><td>20.6336954  </td><td>2.472357e-92</td></tr>\n",
       "\t<tr><th scope=row>HDII</th><td>4.4439322   </td><td>0.6822092   </td><td> 6.5140315  </td><td>7.732676e-11</td></tr>\n",
       "</tbody>\n",
       "</table>\n"
      ],
      "text/latex": [
       "\\begin{tabular}{r|llll}\n",
       "  & Estimate & Std. Error & t value & Pr(>\\textbar{}t\\textbar{})\\\\\n",
       "\\hline\n",
       "\t(Intercept) & 8.6972378    & 0.4332190    & 20.0758446   & 1.276379e-87\\\\\n",
       "\tGenderune femme & 0.2121116    & 0.3031072    &  0.6997905   & 4.840773e-01\\\\\n",
       "\tHDITH & 9.5404665    & 0.4623731    & 20.6336954   & 2.472357e-92\\\\\n",
       "\tHDII & 4.4439322    & 0.6822092    &  6.5140315   & 7.732676e-11\\\\\n",
       "\\end{tabular}\n"
      ],
      "text/markdown": [
       "\n",
       "| <!--/--> | Estimate | Std. Error | t value | Pr(>|t|) |\n",
       "|---|---|---|---|---|\n",
       "| (Intercept) | 8.6972378    | 0.4332190    | 20.0758446   | 1.276379e-87 |\n",
       "| Genderune femme | 0.2121116    | 0.3031072    |  0.6997905   | 4.840773e-01 |\n",
       "| HDITH | 9.5404665    | 0.4623731    | 20.6336954   | 2.472357e-92 |\n",
       "| HDII | 4.4439322    | 0.6822092    |  6.5140315   | 7.732676e-11 |\n",
       "\n"
      ],
      "text/plain": [
       "                Estimate  Std. Error t value    Pr(>|t|)    \n",
       "(Intercept)     8.6972378 0.4332190  20.0758446 1.276379e-87\n",
       "Genderune femme 0.2121116 0.3031072   0.6997905 4.840773e-01\n",
       "HDITH           9.5404665 0.4623731  20.6336954 2.472357e-92\n",
       "HDII            4.4439322 0.6822092   6.5140315 7.732676e-11"
      ]
     },
     "metadata": {},
     "output_type": "display_data"
    }
   ],
   "source": [
    "#latex table\n",
    "(xtable((mod)))"
   ]
  },
  {
   "cell_type": "markdown",
   "id": "11b095ae",
   "metadata": {},
   "source": [
    "## using step"
   ]
  },
  {
   "cell_type": "code",
   "execution_count": 457,
   "id": "0cee8648",
   "metadata": {},
   "outputs": [],
   "source": [
    "model <- lm(formula=as.formula(paste(paste(\"n.videos\",'~', sep=''),\n",
    "paste(c(\"Gender\", \"HDI\",'CSP'),collapse='+'), sep='')),\n",
    "            no.na.data)\n"
   ]
  },
  {
   "cell_type": "code",
   "execution_count": 458,
   "id": "7ac84905",
   "metadata": {},
   "outputs": [
    {
     "data": {
      "text/html": [
       "<table>\n",
       "<thead><tr><th></th><th scope=col>Estimate</th><th scope=col>Std. Error</th><th scope=col>t value</th><th scope=col>Pr(&gt;|t|)</th></tr></thead>\n",
       "<tbody>\n",
       "\t<tr><th scope=row>(Intercept)</th><td>5.2308128   </td><td>4.9127675   </td><td> 1.0647385  </td><td>2.870258e-01</td></tr>\n",
       "\t<tr><th scope=row>Genderune femme</th><td>0.1236932   </td><td>0.3102689   </td><td> 0.3986645  </td><td>6.901509e-01</td></tr>\n",
       "\t<tr><th scope=row>HDITH</th><td>9.5684619   </td><td>0.4910637   </td><td>19.4851729  </td><td>1.097301e-82</td></tr>\n",
       "\t<tr><th scope=row>HDII</th><td>4.5756312   </td><td>0.7108328   </td><td> 6.4370007  </td><td>1.287520e-10</td></tr>\n",
       "\t<tr><th scope=row>CSPArtisans, commerçants, chefs d'entreprise</th><td>2.1267991   </td><td>4.9476589   </td><td> 0.4298597  </td><td>6.673091e-01</td></tr>\n",
       "\t<tr><th scope=row>CSPCadres et professions intellectuelles</th><td>3.7166200   </td><td>4.9252046   </td><td> 0.7546123  </td><td>4.505035e-01</td></tr>\n",
       "\t<tr><th scope=row>CSPEmployés</th><td>3.3142060   </td><td>4.9379970   </td><td> 0.6711640  </td><td>5.021351e-01</td></tr>\n",
       "\t<tr><th scope=row>CSPEn recherche d'emploi</th><td>4.8635630   </td><td>4.9347996   </td><td> 0.9855644  </td><td>3.243762e-01</td></tr>\n",
       "\t<tr><th scope=row>CSPEtudiants</th><td>2.6056056   </td><td>4.9297398   </td><td> 0.5285483  </td><td>5.971332e-01</td></tr>\n",
       "\t<tr><th scope=row>CSPInactif (autre que étudiant, retraité, ou en recherche d'emploi)</th><td>5.5672790   </td><td>5.0758705   </td><td> 1.0968127  </td><td>2.727557e-01</td></tr>\n",
       "\t<tr><th scope=row>CSPOuvriers</th><td>5.2637454   </td><td>5.7537199   </td><td> 0.9148421  </td><td>3.603016e-01</td></tr>\n",
       "\t<tr><th scope=row>CSPProfessions intermédiaires</th><td>1.8013118   </td><td>4.9948792   </td><td> 0.3606317  </td><td>7.183841e-01</td></tr>\n",
       "\t<tr><th scope=row>CSPRetraités</th><td>4.3933238   </td><td>5.2053942   </td><td> 0.8439944  </td><td>3.986973e-01</td></tr>\n",
       "\t<tr><th scope=row>CSPArtisans, commerÃ§ants, chefs d'entreprise</th><td>4.3345246   </td><td>5.0298106   </td><td> 0.8617670  </td><td>3.888411e-01</td></tr>\n",
       "</tbody>\n",
       "</table>\n"
      ],
      "text/latex": [
       "\\begin{tabular}{r|llll}\n",
       "  & Estimate & Std. Error & t value & Pr(>\\textbar{}t\\textbar{})\\\\\n",
       "\\hline\n",
       "\t(Intercept) & 5.2308128    & 4.9127675    &  1.0647385   & 2.870258e-01\\\\\n",
       "\tGenderune femme & 0.1236932    & 0.3102689    &  0.3986645   & 6.901509e-01\\\\\n",
       "\tHDITH & 9.5684619    & 0.4910637    & 19.4851729   & 1.097301e-82\\\\\n",
       "\tHDII & 4.5756312    & 0.7108328    &  6.4370007   & 1.287520e-10\\\\\n",
       "\tCSPArtisans, commerçants, chefs d'entreprise & 2.1267991    & 4.9476589    &  0.4298597   & 6.673091e-01\\\\\n",
       "\tCSPCadres et professions intellectuelles & 3.7166200    & 4.9252046    &  0.7546123   & 4.505035e-01\\\\\n",
       "\tCSPEmployés & 3.3142060    & 4.9379970    &  0.6711640   & 5.021351e-01\\\\\n",
       "\tCSPEn recherche d'emploi & 4.8635630    & 4.9347996    &  0.9855644   & 3.243762e-01\\\\\n",
       "\tCSPEtudiants & 2.6056056    & 4.9297398    &  0.5285483   & 5.971332e-01\\\\\n",
       "\tCSPInactif (autre que étudiant, retraité, ou en recherche d'emploi) & 5.5672790    & 5.0758705    &  1.0968127   & 2.727557e-01\\\\\n",
       "\tCSPOuvriers & 5.2637454    & 5.7537199    &  0.9148421   & 3.603016e-01\\\\\n",
       "\tCSPProfessions intermédiaires & 1.8013118    & 4.9948792    &  0.3606317   & 7.183841e-01\\\\\n",
       "\tCSPRetraités & 4.3933238    & 5.2053942    &  0.8439944   & 3.986973e-01\\\\\n",
       "\tCSPArtisans, commerÃ§ants, chefs d'entreprise & 4.3345246    & 5.0298106    &  0.8617670   & 3.888411e-01\\\\\n",
       "\\end{tabular}\n"
      ],
      "text/markdown": [
       "\n",
       "| <!--/--> | Estimate | Std. Error | t value | Pr(>|t|) |\n",
       "|---|---|---|---|---|\n",
       "| (Intercept) | 5.2308128    | 4.9127675    |  1.0647385   | 2.870258e-01 |\n",
       "| Genderune femme | 0.1236932    | 0.3102689    |  0.3986645   | 6.901509e-01 |\n",
       "| HDITH | 9.5684619    | 0.4910637    | 19.4851729   | 1.097301e-82 |\n",
       "| HDII | 4.5756312    | 0.7108328    |  6.4370007   | 1.287520e-10 |\n",
       "| CSPArtisans, commerçants, chefs d'entreprise | 2.1267991    | 4.9476589    |  0.4298597   | 6.673091e-01 |\n",
       "| CSPCadres et professions intellectuelles | 3.7166200    | 4.9252046    |  0.7546123   | 4.505035e-01 |\n",
       "| CSPEmployés | 3.3142060    | 4.9379970    |  0.6711640   | 5.021351e-01 |\n",
       "| CSPEn recherche d'emploi | 4.8635630    | 4.9347996    |  0.9855644   | 3.243762e-01 |\n",
       "| CSPEtudiants | 2.6056056    | 4.9297398    |  0.5285483   | 5.971332e-01 |\n",
       "| CSPInactif (autre que étudiant, retraité, ou en recherche d'emploi) | 5.5672790    | 5.0758705    |  1.0968127   | 2.727557e-01 |\n",
       "| CSPOuvriers | 5.2637454    | 5.7537199    |  0.9148421   | 3.603016e-01 |\n",
       "| CSPProfessions intermédiaires | 1.8013118    | 4.9948792    |  0.3606317   | 7.183841e-01 |\n",
       "| CSPRetraités | 4.3933238    | 5.2053942    |  0.8439944   | 3.986973e-01 |\n",
       "| CSPArtisans, commerÃ§ants, chefs d'entreprise | 4.3345246    | 5.0298106    |  0.8617670   | 3.888411e-01 |\n",
       "\n"
      ],
      "text/plain": [
       "                                                                    Estimate \n",
       "(Intercept)                                                         5.2308128\n",
       "Genderune femme                                                     0.1236932\n",
       "HDITH                                                               9.5684619\n",
       "HDII                                                                4.5756312\n",
       "CSPArtisans, commerçants, chefs d'entreprise                        2.1267991\n",
       "CSPCadres et professions intellectuelles                            3.7166200\n",
       "CSPEmployés                                                         3.3142060\n",
       "CSPEn recherche d'emploi                                            4.8635630\n",
       "CSPEtudiants                                                        2.6056056\n",
       "CSPInactif (autre que étudiant, retraité, ou en recherche d'emploi) 5.5672790\n",
       "CSPOuvriers                                                         5.2637454\n",
       "CSPProfessions intermédiaires                                       1.8013118\n",
       "CSPRetraités                                                        4.3933238\n",
       "CSPArtisans, commerÃ§ants, chefs d'entreprise                       4.3345246\n",
       "                                                                    Std. Error\n",
       "(Intercept)                                                         4.9127675 \n",
       "Genderune femme                                                     0.3102689 \n",
       "HDITH                                                               0.4910637 \n",
       "HDII                                                                0.7108328 \n",
       "CSPArtisans, commerçants, chefs d'entreprise                        4.9476589 \n",
       "CSPCadres et professions intellectuelles                            4.9252046 \n",
       "CSPEmployés                                                         4.9379970 \n",
       "CSPEn recherche d'emploi                                            4.9347996 \n",
       "CSPEtudiants                                                        4.9297398 \n",
       "CSPInactif (autre que étudiant, retraité, ou en recherche d'emploi) 5.0758705 \n",
       "CSPOuvriers                                                         5.7537199 \n",
       "CSPProfessions intermédiaires                                       4.9948792 \n",
       "CSPRetraités                                                        5.2053942 \n",
       "CSPArtisans, commerÃ§ants, chefs d'entreprise                       5.0298106 \n",
       "                                                                    t value   \n",
       "(Intercept)                                                          1.0647385\n",
       "Genderune femme                                                      0.3986645\n",
       "HDITH                                                               19.4851729\n",
       "HDII                                                                 6.4370007\n",
       "CSPArtisans, commerçants, chefs d'entreprise                         0.4298597\n",
       "CSPCadres et professions intellectuelles                             0.7546123\n",
       "CSPEmployés                                                          0.6711640\n",
       "CSPEn recherche d'emploi                                             0.9855644\n",
       "CSPEtudiants                                                         0.5285483\n",
       "CSPInactif (autre que étudiant, retraité, ou en recherche d'emploi)  1.0968127\n",
       "CSPOuvriers                                                          0.9148421\n",
       "CSPProfessions intermédiaires                                        0.3606317\n",
       "CSPRetraités                                                         0.8439944\n",
       "CSPArtisans, commerÃ§ants, chefs d'entreprise                        0.8617670\n",
       "                                                                    Pr(>|t|)    \n",
       "(Intercept)                                                         2.870258e-01\n",
       "Genderune femme                                                     6.901509e-01\n",
       "HDITH                                                               1.097301e-82\n",
       "HDII                                                                1.287520e-10\n",
       "CSPArtisans, commerçants, chefs d'entreprise                        6.673091e-01\n",
       "CSPCadres et professions intellectuelles                            4.505035e-01\n",
       "CSPEmployés                                                         5.021351e-01\n",
       "CSPEn recherche d'emploi                                            3.243762e-01\n",
       "CSPEtudiants                                                        5.971332e-01\n",
       "CSPInactif (autre que étudiant, retraité, ou en recherche d'emploi) 2.727557e-01\n",
       "CSPOuvriers                                                         3.603016e-01\n",
       "CSPProfessions intermédiaires                                       7.183841e-01\n",
       "CSPRetraités                                                        3.986973e-01\n",
       "CSPArtisans, commerÃ§ants, chefs d'entreprise                       3.888411e-01"
      ]
     },
     "metadata": {},
     "output_type": "display_data"
    }
   ],
   "source": [
    "xtable(summary(model))"
   ]
  },
  {
   "cell_type": "code",
   "execution_count": 459,
   "id": "80591165",
   "metadata": {
    "scrolled": true
   },
   "outputs": [
    {
     "data": {
      "text/html": [
       "<table>\n",
       "<thead><tr><th></th><th scope=col>Df</th><th scope=col>Sum Sq</th><th scope=col>Mean Sq</th><th scope=col>F value</th><th scope=col>Pr(&gt;F)</th></tr></thead>\n",
       "<tbody>\n",
       "\t<tr><th scope=row>Gender</th><td>   1        </td><td>   1651.105 </td><td> 1651.1053  </td><td>  9.782632  </td><td>1.767891e-03</td></tr>\n",
       "\t<tr><th scope=row>HDI</th><td>   2        </td><td>  74514.278 </td><td>37257.1391  </td><td>220.744781  </td><td>4.365523e-94</td></tr>\n",
       "\t<tr><th scope=row>CSP</th><td>  10        </td><td>   6064.965 </td><td>  606.4965  </td><td>  3.593431  </td><td>8.851717e-05</td></tr>\n",
       "\t<tr><th scope=row>Residuals</th><td>8144        </td><td>1374538.234 </td><td>  168.7793  </td><td>        NA  </td><td>          NA</td></tr>\n",
       "</tbody>\n",
       "</table>\n"
      ],
      "text/latex": [
       "\\begin{tabular}{r|lllll}\n",
       "  & Df & Sum Sq & Mean Sq & F value & Pr(>F)\\\\\n",
       "\\hline\n",
       "\tGender &    1         &    1651.105  &  1651.1053   &   9.782632   & 1.767891e-03\\\\\n",
       "\tHDI &    2         &   74514.278  & 37257.1391   & 220.744781   & 4.365523e-94\\\\\n",
       "\tCSP &   10         &    6064.965  &   606.4965   &   3.593431   & 8.851717e-05\\\\\n",
       "\tResiduals & 8144         & 1374538.234  &   168.7793   &         NA   &           NA\\\\\n",
       "\\end{tabular}\n"
      ],
      "text/markdown": [
       "\n",
       "| <!--/--> | Df | Sum Sq | Mean Sq | F value | Pr(>F) |\n",
       "|---|---|---|---|---|---|\n",
       "| Gender |    1         |    1651.105  |  1651.1053   |   9.782632   | 1.767891e-03 |\n",
       "| HDI |    2         |   74514.278  | 37257.1391   | 220.744781   | 4.365523e-94 |\n",
       "| CSP |   10         |    6064.965  |   606.4965   |   3.593431   | 8.851717e-05 |\n",
       "| Residuals | 8144         | 1374538.234  |   168.7793   |         NA   |           NA |\n",
       "\n"
      ],
      "text/plain": [
       "          Df   Sum Sq      Mean Sq    F value    Pr(>F)      \n",
       "Gender       1    1651.105  1651.1053   9.782632 1.767891e-03\n",
       "HDI          2   74514.278 37257.1391 220.744781 4.365523e-94\n",
       "CSP         10    6064.965   606.4965   3.593431 8.851717e-05\n",
       "Residuals 8144 1374538.234   168.7793         NA           NA"
      ]
     },
     "metadata": {},
     "output_type": "display_data"
    }
   ],
   "source": [
    "anova(model)"
   ]
  },
  {
   "cell_type": "code",
   "execution_count": 460,
   "id": "da424fed",
   "metadata": {
    "scrolled": true
   },
   "outputs": [
    {
     "name": "stdout",
     "output_type": "stream",
     "text": [
      "% latex table generated in R 3.6.1 by xtable 1.8-4 package\n",
      "% Tue Jan 11 00:07:39 2022\n",
      "\\begin{table}[ht]\n",
      "\\centering\n",
      "\\begin{tabular}{lrrrrr}\n",
      "  \\hline\n",
      " & Df & Sum Sq & Mean Sq & F value & Pr($>$F) \\\\ \n",
      "  \\hline\n",
      "Gender & 1 & 1651.11 & 1651.11 & 9.78 & 0.0018 \\\\ \n",
      "  HDI & 2 & 74514.28 & 37257.14 & 220.74 & 0.0000 \\\\ \n",
      "  CSP & 10 & 6064.97 & 606.50 & 3.59 & 0.0001 \\\\ \n",
      "  Residuals & 8144 & 1374538.23 & 168.78 &  &  \\\\ \n",
      "   \\hline\n",
      "\\end{tabular}\n",
      "\\end{table}\n"
     ]
    }
   ],
   "source": [
    "print(xtable(anova(model)))"
   ]
  },
  {
   "cell_type": "markdown",
   "id": "425cc6ba",
   "metadata": {},
   "source": [
    "# Model refinement, pairwise comparisons"
   ]
  },
  {
   "cell_type": "code",
   "execution_count": 461,
   "id": "eb572834",
   "metadata": {},
   "outputs": [
    {
     "data": {
      "text/html": [
       "<table>\n",
       "<thead><tr><th></th><th scope=col>Estimate</th><th scope=col>Std. Error</th><th scope=col>t value</th><th scope=col>Pr(&gt;|t|)</th></tr></thead>\n",
       "<tbody>\n",
       "\t<tr><th scope=row>(Intercept)</th><td>8.771700    </td><td>0.4486738   </td><td>19.550285   </td><td>3.230049e-83</td></tr>\n",
       "\t<tr><th scope=row>HDITH</th><td>9.511811    </td><td>0.4758277   </td><td>19.990033   </td><td>7.889380e-87</td></tr>\n",
       "\t<tr><th scope=row>HDII</th><td>4.469137    </td><td>0.7048198   </td><td> 6.340823   </td><td>2.406984e-10</td></tr>\n",
       "</tbody>\n",
       "</table>\n"
      ],
      "text/latex": [
       "\\begin{tabular}{r|llll}\n",
       "  & Estimate & Std. Error & t value & Pr(>\\textbar{}t\\textbar{})\\\\\n",
       "\\hline\n",
       "\t(Intercept) & 8.771700     & 0.4486738    & 19.550285    & 3.230049e-83\\\\\n",
       "\tHDITH & 9.511811     & 0.4758277    & 19.990033    & 7.889380e-87\\\\\n",
       "\tHDII & 4.469137     & 0.7048198    &  6.340823    & 2.406984e-10\\\\\n",
       "\\end{tabular}\n"
      ],
      "text/markdown": [
       "\n",
       "| <!--/--> | Estimate | Std. Error | t value | Pr(>|t|) |\n",
       "|---|---|---|---|---|\n",
       "| (Intercept) | 8.771700     | 0.4486738    | 19.550285    | 3.230049e-83 |\n",
       "| HDITH | 9.511811     | 0.4758277    | 19.990033    | 7.889380e-87 |\n",
       "| HDII | 4.469137     | 0.7048198    |  6.340823    | 2.406984e-10 |\n",
       "\n"
      ],
      "text/plain": [
       "            Estimate Std. Error t value   Pr(>|t|)    \n",
       "(Intercept) 8.771700 0.4486738  19.550285 3.230049e-83\n",
       "HDITH       9.511811 0.4758277  19.990033 7.889380e-87\n",
       "HDII        4.469137 0.7048198   6.340823 2.406984e-10"
      ]
     },
     "metadata": {},
     "output_type": "display_data"
    }
   ],
   "source": [
    "model1 <- (lm(n.videos~HDI, no.na.data))\n",
    "xtable(summary(model1))"
   ]
  },
  {
   "cell_type": "code",
   "execution_count": 462,
   "id": "20c81883",
   "metadata": {
    "scrolled": false
   },
   "outputs": [
    {
     "data": {
      "text/html": [
       "<table>\n",
       "<thead><tr><th></th><th scope=col>Estimate</th><th scope=col>Std. Error</th><th scope=col>t value</th><th scope=col>Pr(&gt;|t|)</th></tr></thead>\n",
       "<tbody>\n",
       "\t<tr><th scope=row>(Intercept)</th><td>5.2308128   </td><td>4.9127675   </td><td> 1.0647385  </td><td>2.870258e-01</td></tr>\n",
       "\t<tr><th scope=row>Genderune femme</th><td>0.1236932   </td><td>0.3102689   </td><td> 0.3986645  </td><td>6.901509e-01</td></tr>\n",
       "\t<tr><th scope=row>HDITH</th><td>9.5684619   </td><td>0.4910637   </td><td>19.4851729  </td><td>1.097301e-82</td></tr>\n",
       "\t<tr><th scope=row>HDII</th><td>4.5756312   </td><td>0.7108328   </td><td> 6.4370007  </td><td>1.287520e-10</td></tr>\n",
       "\t<tr><th scope=row>CSPArtisans, commerçants, chefs d'entreprise</th><td>2.1267991   </td><td>4.9476589   </td><td> 0.4298597  </td><td>6.673091e-01</td></tr>\n",
       "\t<tr><th scope=row>CSPCadres et professions intellectuelles</th><td>3.7166200   </td><td>4.9252046   </td><td> 0.7546123  </td><td>4.505035e-01</td></tr>\n",
       "\t<tr><th scope=row>CSPEmployés</th><td>3.3142060   </td><td>4.9379970   </td><td> 0.6711640  </td><td>5.021351e-01</td></tr>\n",
       "\t<tr><th scope=row>CSPEn recherche d'emploi</th><td>4.8635630   </td><td>4.9347996   </td><td> 0.9855644  </td><td>3.243762e-01</td></tr>\n",
       "\t<tr><th scope=row>CSPEtudiants</th><td>2.6056056   </td><td>4.9297398   </td><td> 0.5285483  </td><td>5.971332e-01</td></tr>\n",
       "\t<tr><th scope=row>CSPInactif (autre que étudiant, retraité, ou en recherche d'emploi)</th><td>5.5672790   </td><td>5.0758705   </td><td> 1.0968127  </td><td>2.727557e-01</td></tr>\n",
       "\t<tr><th scope=row>CSPOuvriers</th><td>5.2637454   </td><td>5.7537199   </td><td> 0.9148421  </td><td>3.603016e-01</td></tr>\n",
       "\t<tr><th scope=row>CSPProfessions intermédiaires</th><td>1.8013118   </td><td>4.9948792   </td><td> 0.3606317  </td><td>7.183841e-01</td></tr>\n",
       "\t<tr><th scope=row>CSPRetraités</th><td>4.3933238   </td><td>5.2053942   </td><td> 0.8439944  </td><td>3.986973e-01</td></tr>\n",
       "\t<tr><th scope=row>CSPArtisans, commerÃ§ants, chefs d'entreprise</th><td>4.3345246   </td><td>5.0298106   </td><td> 0.8617670  </td><td>3.888411e-01</td></tr>\n",
       "</tbody>\n",
       "</table>\n"
      ],
      "text/latex": [
       "\\begin{tabular}{r|llll}\n",
       "  & Estimate & Std. Error & t value & Pr(>\\textbar{}t\\textbar{})\\\\\n",
       "\\hline\n",
       "\t(Intercept) & 5.2308128    & 4.9127675    &  1.0647385   & 2.870258e-01\\\\\n",
       "\tGenderune femme & 0.1236932    & 0.3102689    &  0.3986645   & 6.901509e-01\\\\\n",
       "\tHDITH & 9.5684619    & 0.4910637    & 19.4851729   & 1.097301e-82\\\\\n",
       "\tHDII & 4.5756312    & 0.7108328    &  6.4370007   & 1.287520e-10\\\\\n",
       "\tCSPArtisans, commerçants, chefs d'entreprise & 2.1267991    & 4.9476589    &  0.4298597   & 6.673091e-01\\\\\n",
       "\tCSPCadres et professions intellectuelles & 3.7166200    & 4.9252046    &  0.7546123   & 4.505035e-01\\\\\n",
       "\tCSPEmployés & 3.3142060    & 4.9379970    &  0.6711640   & 5.021351e-01\\\\\n",
       "\tCSPEn recherche d'emploi & 4.8635630    & 4.9347996    &  0.9855644   & 3.243762e-01\\\\\n",
       "\tCSPEtudiants & 2.6056056    & 4.9297398    &  0.5285483   & 5.971332e-01\\\\\n",
       "\tCSPInactif (autre que étudiant, retraité, ou en recherche d'emploi) & 5.5672790    & 5.0758705    &  1.0968127   & 2.727557e-01\\\\\n",
       "\tCSPOuvriers & 5.2637454    & 5.7537199    &  0.9148421   & 3.603016e-01\\\\\n",
       "\tCSPProfessions intermédiaires & 1.8013118    & 4.9948792    &  0.3606317   & 7.183841e-01\\\\\n",
       "\tCSPRetraités & 4.3933238    & 5.2053942    &  0.8439944   & 3.986973e-01\\\\\n",
       "\tCSPArtisans, commerÃ§ants, chefs d'entreprise & 4.3345246    & 5.0298106    &  0.8617670   & 3.888411e-01\\\\\n",
       "\\end{tabular}\n"
      ],
      "text/markdown": [
       "\n",
       "| <!--/--> | Estimate | Std. Error | t value | Pr(>|t|) |\n",
       "|---|---|---|---|---|\n",
       "| (Intercept) | 5.2308128    | 4.9127675    |  1.0647385   | 2.870258e-01 |\n",
       "| Genderune femme | 0.1236932    | 0.3102689    |  0.3986645   | 6.901509e-01 |\n",
       "| HDITH | 9.5684619    | 0.4910637    | 19.4851729   | 1.097301e-82 |\n",
       "| HDII | 4.5756312    | 0.7108328    |  6.4370007   | 1.287520e-10 |\n",
       "| CSPArtisans, commerçants, chefs d'entreprise | 2.1267991    | 4.9476589    |  0.4298597   | 6.673091e-01 |\n",
       "| CSPCadres et professions intellectuelles | 3.7166200    | 4.9252046    |  0.7546123   | 4.505035e-01 |\n",
       "| CSPEmployés | 3.3142060    | 4.9379970    |  0.6711640   | 5.021351e-01 |\n",
       "| CSPEn recherche d'emploi | 4.8635630    | 4.9347996    |  0.9855644   | 3.243762e-01 |\n",
       "| CSPEtudiants | 2.6056056    | 4.9297398    |  0.5285483   | 5.971332e-01 |\n",
       "| CSPInactif (autre que étudiant, retraité, ou en recherche d'emploi) | 5.5672790    | 5.0758705    |  1.0968127   | 2.727557e-01 |\n",
       "| CSPOuvriers | 5.2637454    | 5.7537199    |  0.9148421   | 3.603016e-01 |\n",
       "| CSPProfessions intermédiaires | 1.8013118    | 4.9948792    |  0.3606317   | 7.183841e-01 |\n",
       "| CSPRetraités | 4.3933238    | 5.2053942    |  0.8439944   | 3.986973e-01 |\n",
       "| CSPArtisans, commerÃ§ants, chefs d'entreprise | 4.3345246    | 5.0298106    |  0.8617670   | 3.888411e-01 |\n",
       "\n"
      ],
      "text/plain": [
       "                                                                    Estimate \n",
       "(Intercept)                                                         5.2308128\n",
       "Genderune femme                                                     0.1236932\n",
       "HDITH                                                               9.5684619\n",
       "HDII                                                                4.5756312\n",
       "CSPArtisans, commerçants, chefs d'entreprise                        2.1267991\n",
       "CSPCadres et professions intellectuelles                            3.7166200\n",
       "CSPEmployés                                                         3.3142060\n",
       "CSPEn recherche d'emploi                                            4.8635630\n",
       "CSPEtudiants                                                        2.6056056\n",
       "CSPInactif (autre que étudiant, retraité, ou en recherche d'emploi) 5.5672790\n",
       "CSPOuvriers                                                         5.2637454\n",
       "CSPProfessions intermédiaires                                       1.8013118\n",
       "CSPRetraités                                                        4.3933238\n",
       "CSPArtisans, commerÃ§ants, chefs d'entreprise                       4.3345246\n",
       "                                                                    Std. Error\n",
       "(Intercept)                                                         4.9127675 \n",
       "Genderune femme                                                     0.3102689 \n",
       "HDITH                                                               0.4910637 \n",
       "HDII                                                                0.7108328 \n",
       "CSPArtisans, commerçants, chefs d'entreprise                        4.9476589 \n",
       "CSPCadres et professions intellectuelles                            4.9252046 \n",
       "CSPEmployés                                                         4.9379970 \n",
       "CSPEn recherche d'emploi                                            4.9347996 \n",
       "CSPEtudiants                                                        4.9297398 \n",
       "CSPInactif (autre que étudiant, retraité, ou en recherche d'emploi) 5.0758705 \n",
       "CSPOuvriers                                                         5.7537199 \n",
       "CSPProfessions intermédiaires                                       4.9948792 \n",
       "CSPRetraités                                                        5.2053942 \n",
       "CSPArtisans, commerÃ§ants, chefs d'entreprise                       5.0298106 \n",
       "                                                                    t value   \n",
       "(Intercept)                                                          1.0647385\n",
       "Genderune femme                                                      0.3986645\n",
       "HDITH                                                               19.4851729\n",
       "HDII                                                                 6.4370007\n",
       "CSPArtisans, commerçants, chefs d'entreprise                         0.4298597\n",
       "CSPCadres et professions intellectuelles                             0.7546123\n",
       "CSPEmployés                                                          0.6711640\n",
       "CSPEn recherche d'emploi                                             0.9855644\n",
       "CSPEtudiants                                                         0.5285483\n",
       "CSPInactif (autre que étudiant, retraité, ou en recherche d'emploi)  1.0968127\n",
       "CSPOuvriers                                                          0.9148421\n",
       "CSPProfessions intermédiaires                                        0.3606317\n",
       "CSPRetraités                                                         0.8439944\n",
       "CSPArtisans, commerÃ§ants, chefs d'entreprise                        0.8617670\n",
       "                                                                    Pr(>|t|)    \n",
       "(Intercept)                                                         2.870258e-01\n",
       "Genderune femme                                                     6.901509e-01\n",
       "HDITH                                                               1.097301e-82\n",
       "HDII                                                                1.287520e-10\n",
       "CSPArtisans, commerçants, chefs d'entreprise                        6.673091e-01\n",
       "CSPCadres et professions intellectuelles                            4.505035e-01\n",
       "CSPEmployés                                                         5.021351e-01\n",
       "CSPEn recherche d'emploi                                            3.243762e-01\n",
       "CSPEtudiants                                                        5.971332e-01\n",
       "CSPInactif (autre que étudiant, retraité, ou en recherche d'emploi) 2.727557e-01\n",
       "CSPOuvriers                                                         3.603016e-01\n",
       "CSPProfessions intermédiaires                                       7.183841e-01\n",
       "CSPRetraités                                                        3.986973e-01\n",
       "CSPArtisans, commerÃ§ants, chefs d'entreprise                       3.888411e-01"
      ]
     },
     "metadata": {},
     "output_type": "display_data"
    }
   ],
   "source": [
    "model1 <- (lm(n.videos~Gender+HDI+CSP, no.na.data))\n",
    "xtable(summary(model1))"
   ]
  },
  {
   "cell_type": "code",
   "execution_count": 463,
   "id": "109f4764",
   "metadata": {},
   "outputs": [
    {
     "name": "stdout",
     "output_type": "stream",
     "text": [
      "% latex table generated in R 3.6.1 by xtable 1.8-4 package\n",
      "% Tue Jan 11 00:07:39 2022\n",
      "\\begin{table}[ht]\n",
      "\\centering\n",
      "\\begin{tabular}{rrrrr}\n",
      "  \\hline\n",
      " & Estimate & Std. Error & t value & Pr($>$$|$t$|$) \\\\ \n",
      "  \\hline\n",
      "(Intercept) & 5.2308 & 4.9128 & 1.06 & 0.2870 \\\\ \n",
      "  Genderune femme & 0.1237 & 0.3103 & 0.40 & 0.6902 \\\\ \n",
      "  HDITH & 9.5685 & 0.4911 & 19.49 & 0.0000 \\\\ \n",
      "  HDII & 4.5756 & 0.7108 & 6.44 & 0.0000 \\\\ \n",
      "  CSPArtisans, commerçants, chefs d'entreprise & 2.1268 & 4.9477 & 0.43 & 0.6673 \\\\ \n",
      "  CSPCadres et professions intellectuelles & 3.7166 & 4.9252 & 0.75 & 0.4505 \\\\ \n",
      "  CSPEmployés & 3.3142 & 4.9380 & 0.67 & 0.5021 \\\\ \n",
      "  CSPEn recherche d'emploi & 4.8636 & 4.9348 & 0.99 & 0.3244 \\\\ \n",
      "  CSPEtudiants & 2.6056 & 4.9297 & 0.53 & 0.5971 \\\\ \n",
      "  CSPInactif (autre que étudiant, retraité, ou en recherche d'emploi) & 5.5673 & 5.0759 & 1.10 & 0.2728 \\\\ \n",
      "  CSPOuvriers & 5.2637 & 5.7537 & 0.91 & 0.3603 \\\\ \n",
      "  CSPProfessions intermédiaires & 1.8013 & 4.9949 & 0.36 & 0.7184 \\\\ \n",
      "  CSPRetraités & 4.3933 & 5.2054 & 0.84 & 0.3987 \\\\ \n",
      "  CSPArtisans, commerÃ§ants, chefs d'entreprise & 4.3345 & 5.0298 & 0.86 & 0.3888 \\\\ \n",
      "   \\hline\n",
      "\\end{tabular}\n",
      "\\end{table}\n"
     ]
    }
   ],
   "source": [
    "print(xtable(summary(model1)))"
   ]
  },
  {
   "cell_type": "code",
   "execution_count": 464,
   "id": "0c2ea873",
   "metadata": {},
   "outputs": [
    {
     "data": {
      "text/html": [
       "<ol class=list-inline>\n",
       "\t<li>TH</li>\n",
       "\t<li>I</li>\n",
       "\t<li>B</li>\n",
       "</ol>\n",
       "\n",
       "<details>\n",
       "\t<summary style=display:list-item;cursor:pointer>\n",
       "\t\t<strong>Levels</strong>:\n",
       "\t</summary>\n",
       "\t<ol class=list-inline>\n",
       "\t\t<li>'B'</li>\n",
       "\t\t<li>'H'</li>\n",
       "\t\t<li>'M'</li>\n",
       "\t\t<li>'TH'</li>\n",
       "\t\t<li>'I'</li>\n",
       "\t</ol>\n",
       "</details>"
      ],
      "text/latex": [
       "\\begin{enumerate*}\n",
       "\\item TH\n",
       "\\item I\n",
       "\\item B\n",
       "\\end{enumerate*}\n",
       "\n",
       "\\emph{Levels}: \\begin{enumerate*}\n",
       "\\item 'B'\n",
       "\\item 'H'\n",
       "\\item 'M'\n",
       "\\item 'TH'\n",
       "\\item 'I'\n",
       "\\end{enumerate*}\n"
      ],
      "text/markdown": [
       "1. TH\n",
       "2. I\n",
       "3. B\n",
       "\n",
       "\n",
       "\n",
       "**Levels**: 1. 'B'\n",
       "2. 'H'\n",
       "3. 'M'\n",
       "4. 'TH'\n",
       "5. 'I'\n",
       "\n",
       "\n"
      ],
      "text/plain": [
       "[1] TH I  B \n",
       "Levels: B H M TH I"
      ]
     },
     "metadata": {},
     "output_type": "display_data"
    }
   ],
   "source": [
    "unique(no.na.data$HDI)"
   ]
  },
  {
   "cell_type": "code",
   "execution_count": 465,
   "id": "d1f8b5eb",
   "metadata": {
    "scrolled": false
   },
   "outputs": [
    {
     "data": {
      "text/html": [
       "<table>\n",
       "<thead><tr><th></th><th scope=col>Estimate</th><th scope=col>Std. Error</th><th scope=col>t value</th><th scope=col>Pr(&gt;|t|)</th></tr></thead>\n",
       "<tbody>\n",
       "\t<tr><th scope=row>(Intercept)</th><td> 8.763100618 </td><td>4.5863780    </td><td> 1.9106799583</td><td>5.607956e-02 </td></tr>\n",
       "\t<tr><th scope=row>Genderune femme</th><td> 0.811652538 </td><td>1.2217118    </td><td> 0.6643567870</td><td>5.064801e-01 </td></tr>\n",
       "\t<tr><th scope=row>HDITH</th><td> 9.668963185 </td><td>0.5160264    </td><td>18.7373415501</td><td>8.740741e-77 </td></tr>\n",
       "\t<tr><th scope=row>HDII</th><td> 5.193245822 </td><td>0.8047617    </td><td> 6.4531476365</td><td>1.155845e-10 </td></tr>\n",
       "\t<tr><th scope=row>CSPArtisans, commerçants, chefs d'entreprise</th><td>-1.352305435 </td><td>4.6255628    </td><td>-0.2923547903</td><td>7.700226e-01 </td></tr>\n",
       "\t<tr><th scope=row>CSPCadres et professions intellectuelles</th><td> 0.003527587 </td><td>4.6026284    </td><td> 0.0007664287</td><td>9.993885e-01 </td></tr>\n",
       "\t<tr><th scope=row>CSPEmployés</th><td>-0.318859092 </td><td>4.6146447    </td><td>-0.0690972140</td><td>9.449139e-01 </td></tr>\n",
       "\t<tr><th scope=row>CSPEn recherche d'emploi</th><td> 1.147869619 </td><td>4.6124056    </td><td> 0.2488657163</td><td>8.034707e-01 </td></tr>\n",
       "\t<tr><th scope=row>CSPEtudiants</th><td>-1.122701535 </td><td>4.6073483    </td><td>-0.2436762883</td><td>8.074875e-01 </td></tr>\n",
       "\t<tr><th scope=row>CSPInactif (autre que étudiant, retraité, ou en recherche d'emploi)</th><td> 2.069080713 </td><td>4.7582169    </td><td> 0.4348437121</td><td>6.636870e-01 </td></tr>\n",
       "\t<tr><th scope=row>CSPOuvriers</th><td> 1.611781468 </td><td>5.4773160    </td><td> 0.2942648311</td><td>7.685628e-01 </td></tr>\n",
       "\t<tr><th scope=row>CSPProfessions intermédiaires</th><td>-1.922239509 </td><td>4.6757769    </td><td>-0.4111059059</td><td>6.810053e-01 </td></tr>\n",
       "\t<tr><th scope=row>CSPRetraités</th><td> 2.772403086 </td><td>4.8382898    </td><td> 0.5730130308</td><td>5.666511e-01 </td></tr>\n",
       "\t<tr><th scope=row>CSPArtisans, commerÃ§ants, chefs d'entreprise</th><td> 0.533633251 </td><td>4.7124606    </td><td> 0.1132387719</td><td>9.098440e-01 </td></tr>\n",
       "\t<tr><th scope=row>Genderune femme:HDITH</th><td>-0.533018195 </td><td>1.2651244    </td><td>-0.4213168153</td><td>6.735345e-01 </td></tr>\n",
       "\t<tr><th scope=row>Genderune femme:HDII</th><td>-2.155653123 </td><td>1.6447942    </td><td>-1.3105914181</td><td>1.900315e-01 </td></tr>\n",
       "</tbody>\n",
       "</table>\n"
      ],
      "text/latex": [
       "\\begin{tabular}{r|llll}\n",
       "  & Estimate & Std. Error & t value & Pr(>\\textbar{}t\\textbar{})\\\\\n",
       "\\hline\n",
       "\t(Intercept) &  8.763100618  & 4.5863780     &  1.9106799583 & 5.607956e-02 \\\\\n",
       "\tGenderune femme &  0.811652538  & 1.2217118     &  0.6643567870 & 5.064801e-01 \\\\\n",
       "\tHDITH &  9.668963185  & 0.5160264     & 18.7373415501 & 8.740741e-77 \\\\\n",
       "\tHDII &  5.193245822  & 0.8047617     &  6.4531476365 & 1.155845e-10 \\\\\n",
       "\tCSPArtisans, commerçants, chefs d'entreprise & -1.352305435  & 4.6255628     & -0.2923547903 & 7.700226e-01 \\\\\n",
       "\tCSPCadres et professions intellectuelles &  0.003527587  & 4.6026284     &  0.0007664287 & 9.993885e-01 \\\\\n",
       "\tCSPEmployés & -0.318859092  & 4.6146447     & -0.0690972140 & 9.449139e-01 \\\\\n",
       "\tCSPEn recherche d'emploi &  1.147869619  & 4.6124056     &  0.2488657163 & 8.034707e-01 \\\\\n",
       "\tCSPEtudiants & -1.122701535  & 4.6073483     & -0.2436762883 & 8.074875e-01 \\\\\n",
       "\tCSPInactif (autre que étudiant, retraité, ou en recherche d'emploi) &  2.069080713  & 4.7582169     &  0.4348437121 & 6.636870e-01 \\\\\n",
       "\tCSPOuvriers &  1.611781468  & 5.4773160     &  0.2942648311 & 7.685628e-01 \\\\\n",
       "\tCSPProfessions intermédiaires & -1.922239509  & 4.6757769     & -0.4111059059 & 6.810053e-01 \\\\\n",
       "\tCSPRetraités &  2.772403086  & 4.8382898     &  0.5730130308 & 5.666511e-01 \\\\\n",
       "\tCSPArtisans, commerÃ§ants, chefs d'entreprise &  0.533633251  & 4.7124606     &  0.1132387719 & 9.098440e-01 \\\\\n",
       "\tGenderune femme:HDITH & -0.533018195  & 1.2651244     & -0.4213168153 & 6.735345e-01 \\\\\n",
       "\tGenderune femme:HDII & -2.155653123  & 1.6447942     & -1.3105914181 & 1.900315e-01 \\\\\n",
       "\\end{tabular}\n"
      ],
      "text/markdown": [
       "\n",
       "| <!--/--> | Estimate | Std. Error | t value | Pr(>|t|) |\n",
       "|---|---|---|---|---|\n",
       "| (Intercept) |  8.763100618  | 4.5863780     |  1.9106799583 | 5.607956e-02  |\n",
       "| Genderune femme |  0.811652538  | 1.2217118     |  0.6643567870 | 5.064801e-01  |\n",
       "| HDITH |  9.668963185  | 0.5160264     | 18.7373415501 | 8.740741e-77  |\n",
       "| HDII |  5.193245822  | 0.8047617     |  6.4531476365 | 1.155845e-10  |\n",
       "| CSPArtisans, commerçants, chefs d'entreprise | -1.352305435  | 4.6255628     | -0.2923547903 | 7.700226e-01  |\n",
       "| CSPCadres et professions intellectuelles |  0.003527587  | 4.6026284     |  0.0007664287 | 9.993885e-01  |\n",
       "| CSPEmployés | -0.318859092  | 4.6146447     | -0.0690972140 | 9.449139e-01  |\n",
       "| CSPEn recherche d'emploi |  1.147869619  | 4.6124056     |  0.2488657163 | 8.034707e-01  |\n",
       "| CSPEtudiants | -1.122701535  | 4.6073483     | -0.2436762883 | 8.074875e-01  |\n",
       "| CSPInactif (autre que étudiant, retraité, ou en recherche d'emploi) |  2.069080713  | 4.7582169     |  0.4348437121 | 6.636870e-01  |\n",
       "| CSPOuvriers |  1.611781468  | 5.4773160     |  0.2942648311 | 7.685628e-01  |\n",
       "| CSPProfessions intermédiaires | -1.922239509  | 4.6757769     | -0.4111059059 | 6.810053e-01  |\n",
       "| CSPRetraités |  2.772403086  | 4.8382898     |  0.5730130308 | 5.666511e-01  |\n",
       "| CSPArtisans, commerÃ§ants, chefs d'entreprise |  0.533633251  | 4.7124606     |  0.1132387719 | 9.098440e-01  |\n",
       "| Genderune femme:HDITH | -0.533018195  | 1.2651244     | -0.4213168153 | 6.735345e-01  |\n",
       "| Genderune femme:HDII | -2.155653123  | 1.6447942     | -1.3105914181 | 1.900315e-01  |\n",
       "\n"
      ],
      "text/plain": [
       "                                                                    Estimate    \n",
       "(Intercept)                                                          8.763100618\n",
       "Genderune femme                                                      0.811652538\n",
       "HDITH                                                                9.668963185\n",
       "HDII                                                                 5.193245822\n",
       "CSPArtisans, commerçants, chefs d'entreprise                        -1.352305435\n",
       "CSPCadres et professions intellectuelles                             0.003527587\n",
       "CSPEmployés                                                         -0.318859092\n",
       "CSPEn recherche d'emploi                                             1.147869619\n",
       "CSPEtudiants                                                        -1.122701535\n",
       "CSPInactif (autre que étudiant, retraité, ou en recherche d'emploi)  2.069080713\n",
       "CSPOuvriers                                                          1.611781468\n",
       "CSPProfessions intermédiaires                                       -1.922239509\n",
       "CSPRetraités                                                         2.772403086\n",
       "CSPArtisans, commerÃ§ants, chefs d'entreprise                        0.533633251\n",
       "Genderune femme:HDITH                                               -0.533018195\n",
       "Genderune femme:HDII                                                -2.155653123\n",
       "                                                                    Std. Error\n",
       "(Intercept)                                                         4.5863780 \n",
       "Genderune femme                                                     1.2217118 \n",
       "HDITH                                                               0.5160264 \n",
       "HDII                                                                0.8047617 \n",
       "CSPArtisans, commerçants, chefs d'entreprise                        4.6255628 \n",
       "CSPCadres et professions intellectuelles                            4.6026284 \n",
       "CSPEmployés                                                         4.6146447 \n",
       "CSPEn recherche d'emploi                                            4.6124056 \n",
       "CSPEtudiants                                                        4.6073483 \n",
       "CSPInactif (autre que étudiant, retraité, ou en recherche d'emploi) 4.7582169 \n",
       "CSPOuvriers                                                         5.4773160 \n",
       "CSPProfessions intermédiaires                                       4.6757769 \n",
       "CSPRetraités                                                        4.8382898 \n",
       "CSPArtisans, commerÃ§ants, chefs d'entreprise                       4.7124606 \n",
       "Genderune femme:HDITH                                               1.2651244 \n",
       "Genderune femme:HDII                                                1.6447942 \n",
       "                                                                    t value      \n",
       "(Intercept)                                                          1.9106799583\n",
       "Genderune femme                                                      0.6643567870\n",
       "HDITH                                                               18.7373415501\n",
       "HDII                                                                 6.4531476365\n",
       "CSPArtisans, commerçants, chefs d'entreprise                        -0.2923547903\n",
       "CSPCadres et professions intellectuelles                             0.0007664287\n",
       "CSPEmployés                                                         -0.0690972140\n",
       "CSPEn recherche d'emploi                                             0.2488657163\n",
       "CSPEtudiants                                                        -0.2436762883\n",
       "CSPInactif (autre que étudiant, retraité, ou en recherche d'emploi)  0.4348437121\n",
       "CSPOuvriers                                                          0.2942648311\n",
       "CSPProfessions intermédiaires                                       -0.4111059059\n",
       "CSPRetraités                                                         0.5730130308\n",
       "CSPArtisans, commerÃ§ants, chefs d'entreprise                        0.1132387719\n",
       "Genderune femme:HDITH                                               -0.4213168153\n",
       "Genderune femme:HDII                                                -1.3105914181\n",
       "                                                                    Pr(>|t|)    \n",
       "(Intercept)                                                         5.607956e-02\n",
       "Genderune femme                                                     5.064801e-01\n",
       "HDITH                                                               8.740741e-77\n",
       "HDII                                                                1.155845e-10\n",
       "CSPArtisans, commerçants, chefs d'entreprise                        7.700226e-01\n",
       "CSPCadres et professions intellectuelles                            9.993885e-01\n",
       "CSPEmployés                                                         9.449139e-01\n",
       "CSPEn recherche d'emploi                                            8.034707e-01\n",
       "CSPEtudiants                                                        8.074875e-01\n",
       "CSPInactif (autre que étudiant, retraité, ou en recherche d'emploi) 6.636870e-01\n",
       "CSPOuvriers                                                         7.685628e-01\n",
       "CSPProfessions intermédiaires                                       6.810053e-01\n",
       "CSPRetraités                                                        5.666511e-01\n",
       "CSPArtisans, commerÃ§ants, chefs d'entreprise                       9.098440e-01\n",
       "Genderune femme:HDITH                                               6.735345e-01\n",
       "Genderune femme:HDII                                                1.900315e-01"
      ]
     },
     "metadata": {},
     "output_type": "display_data"
    }
   ],
   "source": [
    "model2 <- (lm(n.videos~Gender+HDI+CSP+ Gender*HDI, df2_NecCol_clean))\n",
    "xtable(summary(model2))"
   ]
  },
  {
   "cell_type": "code",
   "execution_count": 466,
   "id": "71fc786a",
   "metadata": {},
   "outputs": [
    {
     "data": {
      "text/html": [
       "<table>\n",
       "<thead><tr><th scope=col>Student_ID</th><th scope=col>Exam.score</th><th scope=col>Exam.bin</th><th scope=col>Assignment.score</th><th scope=col>Assignment.bin</th><th scope=col>Quizz.1.score</th><th scope=col>Quizz.1.bin</th><th scope=col>Quizz.2.score</th><th scope=col>Quizz.2.bin</th><th scope=col>Quizz.3.score</th><th scope=col>...</th><th scope=col>Mot</th><th scope=col>EMLyon</th><th scope=col>Proba.reco</th><th scope=col>EMLyon.et</th><th scope=col>Certif.bin</th><th scope=col>EMLYON.et</th><th scope=col>age</th><th scope=col>HDI</th><th scope=col>n.videos</th><th scope=col>behaviour.index.percentage</th></tr></thead>\n",
       "<tbody>\n",
       "\t<tr><td>28        </td><td>NA        </td><td>0         </td><td>NA        </td><td>0         </td><td>NA        </td><td>0         </td><td>NA        </td><td>0         </td><td>NA        </td><td>...       </td><td>NA        </td><td>NA        </td><td>NA        </td><td>NA        </td><td>NA        </td><td>NA        </td><td>NA        </td><td>NA        </td><td> 1        </td><td>0.02857143</td></tr>\n",
       "\t<tr><td>36        </td><td>NA        </td><td>0         </td><td>NA        </td><td>0         </td><td>NA        </td><td>0         </td><td>NA        </td><td>0         </td><td>NA        </td><td>...       </td><td>NA        </td><td>NA        </td><td>NA        </td><td>NA        </td><td>NA        </td><td>NA        </td><td>NA        </td><td>NA        </td><td> 0        </td><td>0.00000000</td></tr>\n",
       "\t<tr><td>45        </td><td>NA        </td><td>0         </td><td>NA        </td><td>0         </td><td>16        </td><td>1         </td><td>20        </td><td>1         </td><td>18        </td><td>...       </td><td>NA        </td><td>NA        </td><td>NA        </td><td>NA        </td><td>NA        </td><td>NA        </td><td>NA        </td><td>TH        </td><td>30        </td><td>0.85714286</td></tr>\n",
       "\t<tr><td>83        </td><td>NA        </td><td>0         </td><td>60        </td><td>1         </td><td>13        </td><td>1         </td><td>20        </td><td>1         </td><td>18        </td><td>...       </td><td>NA        </td><td>NA        </td><td>NA        </td><td>NA        </td><td>NA        </td><td>NA        </td><td>NA        </td><td>I         </td><td>27        </td><td>0.77142857</td></tr>\n",
       "\t<tr><td>84        </td><td>NA        </td><td>0         </td><td>NA        </td><td>0         </td><td>18        </td><td>1         </td><td>20        </td><td>1         </td><td>NA        </td><td>...       </td><td>NA        </td><td>NA        </td><td>NA        </td><td>NA        </td><td>NA        </td><td>NA        </td><td>NA        </td><td>B         </td><td>10        </td><td>0.28571429</td></tr>\n",
       "\t<tr><td>87        </td><td>NA        </td><td>0         </td><td>NA        </td><td>0         </td><td>NA        </td><td>0         </td><td>NA        </td><td>0         </td><td>NA        </td><td>...       </td><td>NA        </td><td>NA        </td><td>NA        </td><td>NA        </td><td>NA        </td><td>NA        </td><td>NA        </td><td>TH        </td><td> 2        </td><td>0.05714286</td></tr>\n",
       "</tbody>\n",
       "</table>\n"
      ],
      "text/latex": [
       "\\begin{tabular}{r|llllllllllllllllllllllllllllllllllllllllllllllllllllllllllllllllllllllllllllllllllllllllllllllllllllllllllllllllllllllllll}\n",
       " Student\\_ID & Exam.score & Exam.bin & Assignment.score & Assignment.bin & Quizz.1.score & Quizz.1.bin & Quizz.2.score & Quizz.2.bin & Quizz.3.score & ... & Mot & EMLyon & Proba.reco & EMLyon.et & Certif.bin & EMLYON.et & age & HDI & n.videos & behaviour.index.percentage\\\\\n",
       "\\hline\n",
       "\t 28         & NA         & 0          & NA         & 0          & NA         & 0          & NA         & 0          & NA         & ...        & NA         & NA         & NA         & NA         & NA         & NA         & NA         & NA         &  1         & 0.02857143\\\\\n",
       "\t 36         & NA         & 0          & NA         & 0          & NA         & 0          & NA         & 0          & NA         & ...        & NA         & NA         & NA         & NA         & NA         & NA         & NA         & NA         &  0         & 0.00000000\\\\\n",
       "\t 45         & NA         & 0          & NA         & 0          & 16         & 1          & 20         & 1          & 18         & ...        & NA         & NA         & NA         & NA         & NA         & NA         & NA         & TH         & 30         & 0.85714286\\\\\n",
       "\t 83         & NA         & 0          & 60         & 1          & 13         & 1          & 20         & 1          & 18         & ...        & NA         & NA         & NA         & NA         & NA         & NA         & NA         & I          & 27         & 0.77142857\\\\\n",
       "\t 84         & NA         & 0          & NA         & 0          & 18         & 1          & 20         & 1          & NA         & ...        & NA         & NA         & NA         & NA         & NA         & NA         & NA         & B          & 10         & 0.28571429\\\\\n",
       "\t 87         & NA         & 0          & NA         & 0          & NA         & 0          & NA         & 0          & NA         & ...        & NA         & NA         & NA         & NA         & NA         & NA         & NA         & TH         &  2         & 0.05714286\\\\\n",
       "\\end{tabular}\n"
      ],
      "text/markdown": [
       "\n",
       "| Student_ID | Exam.score | Exam.bin | Assignment.score | Assignment.bin | Quizz.1.score | Quizz.1.bin | Quizz.2.score | Quizz.2.bin | Quizz.3.score | ... | Mot | EMLyon | Proba.reco | EMLyon.et | Certif.bin | EMLYON.et | age | HDI | n.videos | behaviour.index.percentage |\n",
       "|---|---|---|---|---|---|---|---|---|---|---|---|---|---|---|---|---|---|---|---|---|\n",
       "| 28         | NA         | 0          | NA         | 0          | NA         | 0          | NA         | 0          | NA         | ...        | NA         | NA         | NA         | NA         | NA         | NA         | NA         | NA         |  1         | 0.02857143 |\n",
       "| 36         | NA         | 0          | NA         | 0          | NA         | 0          | NA         | 0          | NA         | ...        | NA         | NA         | NA         | NA         | NA         | NA         | NA         | NA         |  0         | 0.00000000 |\n",
       "| 45         | NA         | 0          | NA         | 0          | 16         | 1          | 20         | 1          | 18         | ...        | NA         | NA         | NA         | NA         | NA         | NA         | NA         | TH         | 30         | 0.85714286 |\n",
       "| 83         | NA         | 0          | 60         | 1          | 13         | 1          | 20         | 1          | 18         | ...        | NA         | NA         | NA         | NA         | NA         | NA         | NA         | I          | 27         | 0.77142857 |\n",
       "| 84         | NA         | 0          | NA         | 0          | 18         | 1          | 20         | 1          | NA         | ...        | NA         | NA         | NA         | NA         | NA         | NA         | NA         | B          | 10         | 0.28571429 |\n",
       "| 87         | NA         | 0          | NA         | 0          | NA         | 0          | NA         | 0          | NA         | ...        | NA         | NA         | NA         | NA         | NA         | NA         | NA         | TH         |  2         | 0.05714286 |\n",
       "\n"
      ],
      "text/plain": [
       "  Student_ID Exam.score Exam.bin Assignment.score Assignment.bin Quizz.1.score\n",
       "1 28         NA         0        NA               0              NA           \n",
       "2 36         NA         0        NA               0              NA           \n",
       "3 45         NA         0        NA               0              16           \n",
       "4 83         NA         0        60               1              13           \n",
       "5 84         NA         0        NA               0              18           \n",
       "6 87         NA         0        NA               0              NA           \n",
       "  Quizz.1.bin Quizz.2.score Quizz.2.bin Quizz.3.score ... Mot EMLyon Proba.reco\n",
       "1 0           NA            0           NA            ... NA  NA     NA        \n",
       "2 0           NA            0           NA            ... NA  NA     NA        \n",
       "3 1           20            1           18            ... NA  NA     NA        \n",
       "4 1           20            1           18            ... NA  NA     NA        \n",
       "5 1           20            1           NA            ... NA  NA     NA        \n",
       "6 0           NA            0           NA            ... NA  NA     NA        \n",
       "  EMLyon.et Certif.bin EMLYON.et age HDI n.videos behaviour.index.percentage\n",
       "1 NA        NA         NA        NA  NA   1       0.02857143                \n",
       "2 NA        NA         NA        NA  NA   0       0.00000000                \n",
       "3 NA        NA         NA        NA  TH  30       0.85714286                \n",
       "4 NA        NA         NA        NA  I   27       0.77142857                \n",
       "5 NA        NA         NA        NA  B   10       0.28571429                \n",
       "6 NA        NA         NA        NA  TH   2       0.05714286                "
      ]
     },
     "metadata": {},
     "output_type": "display_data"
    }
   ],
   "source": [
    "head(df)"
   ]
  },
  {
   "cell_type": "code",
   "execution_count": 467,
   "id": "7e85a26a",
   "metadata": {},
   "outputs": [
    {
     "data": {
      "text/html": [
       "<table>\n",
       "<thead><tr><th></th><th scope=col>Df</th><th scope=col>Sum Sq</th><th scope=col>Mean Sq</th><th scope=col>F value</th><th scope=col>Pr(&gt;F)</th></tr></thead>\n",
       "<tbody>\n",
       "\t<tr><th scope=row>Gender</th><td>   1         </td><td>   1917.868  </td><td> 1917.8676   </td><td> 11.406941   </td><td> 7.350078e-04</td></tr>\n",
       "\t<tr><th scope=row>HDI</th><td>   2         </td><td>  80640.895  </td><td>40320.4476   </td><td>239.814757   </td><td>5.018628e-102</td></tr>\n",
       "\t<tr><th scope=row>CSP</th><td>  10         </td><td>   6528.969  </td><td>  652.8969   </td><td>  3.883248   </td><td> 2.794599e-05</td></tr>\n",
       "\t<tr><th scope=row>Gender:HDI</th><td>   2         </td><td>    382.333  </td><td>  191.1665   </td><td>  1.137005   </td><td> 3.208274e-01</td></tr>\n",
       "\t<tr><th scope=row>Residuals</th><td>8443         </td><td>1419535.407  </td><td>  168.1316   </td><td>        NA   </td><td>           NA</td></tr>\n",
       "</tbody>\n",
       "</table>\n"
      ],
      "text/latex": [
       "\\begin{tabular}{r|lllll}\n",
       "  & Df & Sum Sq & Mean Sq & F value & Pr(>F)\\\\\n",
       "\\hline\n",
       "\tGender &    1          &    1917.868   &  1917.8676    &  11.406941    &  7.350078e-04\\\\\n",
       "\tHDI &    2          &   80640.895   & 40320.4476    & 239.814757    & 5.018628e-102\\\\\n",
       "\tCSP &   10          &    6528.969   &   652.8969    &   3.883248    &  2.794599e-05\\\\\n",
       "\tGender:HDI &    2          &     382.333   &   191.1665    &   1.137005    &  3.208274e-01\\\\\n",
       "\tResiduals & 8443          & 1419535.407   &   168.1316    &         NA    &            NA\\\\\n",
       "\\end{tabular}\n"
      ],
      "text/markdown": [
       "\n",
       "| <!--/--> | Df | Sum Sq | Mean Sq | F value | Pr(>F) |\n",
       "|---|---|---|---|---|---|\n",
       "| Gender |    1          |    1917.868   |  1917.8676    |  11.406941    |  7.350078e-04 |\n",
       "| HDI |    2          |   80640.895   | 40320.4476    | 239.814757    | 5.018628e-102 |\n",
       "| CSP |   10          |    6528.969   |   652.8969    |   3.883248    |  2.794599e-05 |\n",
       "| Gender:HDI |    2          |     382.333   |   191.1665    |   1.137005    |  3.208274e-01 |\n",
       "| Residuals | 8443          | 1419535.407   |   168.1316    |         NA    |            NA |\n",
       "\n"
      ],
      "text/plain": [
       "           Df   Sum Sq      Mean Sq    F value    Pr(>F)       \n",
       "Gender        1    1917.868  1917.8676  11.406941  7.350078e-04\n",
       "HDI           2   80640.895 40320.4476 239.814757 5.018628e-102\n",
       "CSP          10    6528.969   652.8969   3.883248  2.794599e-05\n",
       "Gender:HDI    2     382.333   191.1665   1.137005  3.208274e-01\n",
       "Residuals  8443 1419535.407   168.1316         NA            NA"
      ]
     },
     "metadata": {},
     "output_type": "display_data"
    }
   ],
   "source": [
    "anova(model2)"
   ]
  },
  {
   "cell_type": "code",
   "execution_count": 468,
   "id": "2d1120e1",
   "metadata": {},
   "outputs": [
    {
     "name": "stdout",
     "output_type": "stream",
     "text": [
      "Start:  AIC=43366.22\n",
      "n.videos ~ Gender + HDI + CSP + Gender * HDI\n",
      "\n"
     ]
    },
    {
     "data": {
      "text/plain": [
       "\n",
       "Call:\n",
       "lm(formula = n.videos ~ Gender + HDI + CSP + Gender * HDI, data = df2_NecCol_clean)\n",
       "\n",
       "Coefficients:\n",
       "                                                        (Intercept)  \n",
       "                                                           8.763101  \n",
       "                                                    Genderune femme  \n",
       "                                                           0.811653  \n",
       "                                                              HDITH  \n",
       "                                                           9.668963  \n",
       "                                                               HDII  \n",
       "                                                           5.193246  \n",
       "                       CSPArtisans, commerçants, chefs d'entreprise  \n",
       "                                                          -1.352305  \n",
       "                           CSPCadres et professions intellectuelles  \n",
       "                                                           0.003528  \n",
       "                                                        CSPEmployés  \n",
       "                                                          -0.318859  \n",
       "                                           CSPEn recherche d'emploi  \n",
       "                                                           1.147870  \n",
       "                                                       CSPEtudiants  \n",
       "                                                          -1.122702  \n",
       "CSPInactif (autre que étudiant, retraité, ou en recherche d'emploi)  \n",
       "                                                           2.069081  \n",
       "                                                        CSPOuvriers  \n",
       "                                                           1.611781  \n",
       "                                      CSPProfessions intermédiaires  \n",
       "                                                          -1.922240  \n",
       "                                                       CSPRetraités  \n",
       "                                                           2.772403  \n",
       "                      CSPArtisans, commerÃ§ants, chefs d'entreprise  \n",
       "                                                           0.533633  \n",
       "                                              Genderune femme:HDITH  \n",
       "                                                          -0.533018  \n",
       "                                               Genderune femme:HDII  \n",
       "                                                          -2.155653  \n"
      ]
     },
     "metadata": {},
     "output_type": "display_data"
    }
   ],
   "source": [
    "step(model2,direction = c('forward'))\n"
   ]
  },
  {
   "cell_type": "code",
   "execution_count": 469,
   "id": "8852d011",
   "metadata": {
    "scrolled": false
   },
   "outputs": [
    {
     "name": "stdout",
     "output_type": "stream",
     "text": [
      "Start:  AIC=43366.22\n",
      "n.videos ~ Gender + HDI + CSP + Gender * HDI\n",
      "\n",
      "             Df Sum of Sq     RSS   AIC\n",
      "- Gender:HDI  2     382.3 1419918 43364\n",
      "<none>                    1419535 43366\n",
      "- CSP        10    6559.0 1426094 43385\n",
      "\n",
      "Step:  AIC=43364.5\n",
      "n.videos ~ Gender + HDI + CSP\n",
      "\n",
      "             Df Sum of Sq     RSS   AIC\n",
      "- Gender      1        64 1419982 43363\n",
      "<none>                    1419918 43364\n",
      "+ Gender:HDI  2       382 1419535 43366\n",
      "- CSP        10      6529 1426447 43383\n",
      "- HDI         2     77607 1497524 43811\n"
     ]
    },
    {
     "ename": "ERROR",
     "evalue": "Error in step(model2, direction = c(\"both\")): number of rows in use has changed: remove missing values?\n",
     "output_type": "error",
     "traceback": [
      "Error in step(model2, direction = c(\"both\")): number of rows in use has changed: remove missing values?\nTraceback:\n",
      "1. step(model2, direction = c(\"both\"))",
      "2. stop(\"number of rows in use has changed: remove missing values?\")"
     ]
    }
   ],
   "source": [
    "step(model2,direction = c(\"both\"))\n"
   ]
  },
  {
   "cell_type": "code",
   "execution_count": null,
   "id": "871fdffb",
   "metadata": {},
   "outputs": [],
   "source": [
    "model <- lm(formula=as.formula(paste(paste(\"n.videos\",'~', sep=''), paste(c(\"Gender\", \"HDI\",'CSP','agegroup'),collapse='+'), sep='')), no.na.data)"
   ]
  },
  {
   "cell_type": "code",
   "execution_count": null,
   "id": "78216c64",
   "metadata": {},
   "outputs": [],
   "source": [
    "step(model,direction = c('forward'))\n"
   ]
  },
  {
   "cell_type": "code",
   "execution_count": null,
   "id": "db75d61a",
   "metadata": {
    "scrolled": false
   },
   "outputs": [],
   "source": [
    "step(model,direction = c(\"backward\"))"
   ]
  },
  {
   "cell_type": "code",
   "execution_count": null,
   "id": "e6f52676",
   "metadata": {
    "scrolled": false
   },
   "outputs": [],
   "source": [
    "xtable(step(model,direction = c(\"both\"),k=log(nrow(no.na.data))))"
   ]
  },
  {
   "cell_type": "code",
   "execution_count": null,
   "id": "cd7fcca3",
   "metadata": {},
   "outputs": [],
   "source": [
    "xtable(step(model,direction = c(\"both\"), \n",
    "    criterion = c(\"BIC\")))"
   ]
  },
  {
   "cell_type": "code",
   "execution_count": null,
   "id": "2085490f",
   "metadata": {},
   "outputs": [],
   "source": [
    "model <- lm(formula=as.formula(paste(paste(\"n.videos\",'~', sep=''), paste(c('CSP',\"Gender\", \"HDI\"),collapse='+'), sep='')), no.na.data)"
   ]
  },
  {
   "cell_type": "code",
   "execution_count": null,
   "id": "d3854dfa",
   "metadata": {},
   "outputs": [],
   "source": [
    "xtable(step(model,direction = c(\"both\"), \n",
    "    criterion = c(\"BIC\")))"
   ]
  },
  {
   "cell_type": "code",
   "execution_count": null,
   "id": "b45cd532",
   "metadata": {},
   "outputs": [],
   "source": [
    "xtable(step(model,direction = c(\"both\"), \n",
    "    criterion = c(\"BIC\")))"
   ]
  },
  {
   "cell_type": "code",
   "execution_count": null,
   "id": "22ae98f0",
   "metadata": {},
   "outputs": [],
   "source": [
    "nrow(no.na.data)"
   ]
  },
  {
   "cell_type": "markdown",
   "id": "ecd4e0f7",
   "metadata": {},
   "source": [
    "### linear model of number of videos watched by gender and HDI with interaction parameter"
   ]
  },
  {
   "cell_type": "code",
   "execution_count": null,
   "id": "6227d875",
   "metadata": {
    "scrolled": true
   },
   "outputs": [],
   "source": [
    "mod1 <-lm(n.videos~Gender+HDI+Gender*HDI, data = no.na.data)\n",
    "(mod1)"
   ]
  },
  {
   "cell_type": "code",
   "execution_count": null,
   "id": "d71fcec7",
   "metadata": {
    "scrolled": false
   },
   "outputs": [],
   "source": [
    "cat_cols <-c(\"Gender\", \"HDI\")\n",
    "no.na.data <- no.na.data %>% mutate_at(cat_cols, factor)\n",
    "\n",
    "\n",
    "CrossTable(x=no.na.data$Gender, y=no.na.data$HDI,sresid=T, format = \"SPSS\")"
   ]
  },
  {
   "cell_type": "code",
   "execution_count": null,
   "id": "f8908652",
   "metadata": {},
   "outputs": [],
   "source": [
    "library(gmodels)\n",
    "library(Hmisc)"
   ]
  },
  {
   "cell_type": "code",
   "execution_count": null,
   "id": "20d801a9",
   "metadata": {},
   "outputs": [],
   "source": []
  },
  {
   "cell_type": "markdown",
   "id": "dbb6fee6",
   "metadata": {},
   "source": [
    "# ANOVA "
   ]
  },
  {
   "cell_type": "markdown",
   "id": "2f999c3a",
   "metadata": {},
   "source": [
    "### anova test number of videos watched by gender and HDI"
   ]
  },
  {
   "cell_type": "code",
   "execution_count": null,
   "id": "d166ff83",
   "metadata": {
    "scrolled": true
   },
   "outputs": [],
   "source": [
    "anova(mod)"
   ]
  },
  {
   "cell_type": "code",
   "execution_count": null,
   "id": "a17bf2d9",
   "metadata": {
    "scrolled": true
   },
   "outputs": [],
   "source": [
    "print(xtable(anova(mod)))"
   ]
  },
  {
   "cell_type": "code",
   "execution_count": null,
   "id": "69eefdbc",
   "metadata": {
    "scrolled": false
   },
   "outputs": [],
   "source": [
    "summary(mod)"
   ]
  },
  {
   "cell_type": "code",
   "execution_count": null,
   "id": "cfa85dd9",
   "metadata": {
    "scrolled": true
   },
   "outputs": [],
   "source": [
    "print(xtable((mod1)))"
   ]
  },
  {
   "cell_type": "markdown",
   "id": "bde9de65",
   "metadata": {},
   "source": [
    "### ANOVA test of number of videos watched by gender and HDI with interaction parameter"
   ]
  },
  {
   "cell_type": "code",
   "execution_count": null,
   "id": "3641c48c",
   "metadata": {},
   "outputs": [],
   "source": [
    "anova(mod1)"
   ]
  },
  {
   "cell_type": "code",
   "execution_count": null,
   "id": "17eba066",
   "metadata": {},
   "outputs": [],
   "source": [
    "print(xtable(anova(mod1)))"
   ]
  },
  {
   "cell_type": "markdown",
   "id": "f419b781",
   "metadata": {},
   "source": [
    "## tukey HSD anova "
   ]
  },
  {
   "cell_type": "code",
   "execution_count": null,
   "id": "9063a371",
   "metadata": {
    "scrolled": false
   },
   "outputs": [],
   "source": [
    "summary(fm1 <- aov(n.videos ~ Gender + HDI, data = no.na.data))\n",
    "TukeyHSD(fm1, conf.level=.95)"
   ]
  },
  {
   "cell_type": "code",
   "execution_count": null,
   "id": "bfc8998e",
   "metadata": {
    "scrolled": false
   },
   "outputs": [],
   "source": [
    "model <-lm(n.videos~agegroup3, no.na.data)\n",
    "summary(fm1 <- aov(model))\n",
    "(TukeyHSD(fm1, conf.level=.95))"
   ]
  },
  {
   "cell_type": "code",
   "execution_count": null,
   "id": "ee30f926",
   "metadata": {},
   "outputs": [],
   "source": [
    "install.packages('foreign')\n",
    "library(foreign)\n",
    "install.packages('agricolae')\n",
    "library(agricolae)\n"
   ]
  },
  {
   "cell_type": "code",
   "execution_count": null,
   "id": "0e2728c1",
   "metadata": {},
   "outputs": [],
   "source": [
    "model <-lm(n.videos~CSP, data = no.na.data)\n",
    "fm1 <- aov(model)\n",
    "print(HSD.test(fm1, \"CSP\", group=TRUE))"
   ]
  },
  {
   "cell_type": "code",
   "execution_count": null,
   "id": "d8935224",
   "metadata": {},
   "outputs": [],
   "source": []
  },
  {
   "cell_type": "markdown",
   "id": "a04d4dbc",
   "metadata": {},
   "source": [
    "# chi square"
   ]
  },
  {
   "cell_type": "code",
   "execution_count": null,
   "id": "84eaadb6",
   "metadata": {},
   "outputs": [],
   "source": [
    "chisq.test(df$Gender, df$HDI)"
   ]
  },
  {
   "cell_type": "markdown",
   "id": "2718f05b",
   "metadata": {},
   "source": [
    "## Mosaic plot\n"
   ]
  },
  {
   "cell_type": "code",
   "execution_count": null,
   "id": "e6d4a2ff",
   "metadata": {
    "scrolled": false
   },
   "outputs": [],
   "source": [
    "mosaicplot(~ Gender + HDI, data = no.na.data,\n",
    "           main = \"Gender vs HDI\", shade = TRUE)"
   ]
  },
  {
   "cell_type": "code",
   "execution_count": null,
   "id": "f5eca66c",
   "metadata": {},
   "outputs": [],
   "source": [
    "install.packages('devtools')"
   ]
  },
  {
   "cell_type": "code",
   "execution_count": null,
   "id": "8b3afc40",
   "metadata": {},
   "outputs": [],
   "source": [
    "library(MASS)\n"
   ]
  },
  {
   "cell_type": "code",
   "execution_count": null,
   "id": "615a54a0",
   "metadata": {},
   "outputs": [],
   "source": [
    "# library(readr)\n",
    "\n",
    "print(xtable(prop.table(table(no.na.data$Gender, no.na.data$HDI))*100))"
   ]
  },
  {
   "cell_type": "markdown",
   "id": "a53b8801",
   "metadata": {},
   "source": [
    "# Pairwise comparisons"
   ]
  },
  {
   "cell_type": "code",
   "execution_count": null,
   "id": "0b131d5f",
   "metadata": {
    "scrolled": false
   },
   "outputs": [],
   "source": [
    "pwc <- no.na.data %>% \n",
    "  group_by(Gender,HDI,agegroup) %>%\n",
    "  emmeans_test(n.videos ~ CSP, p.adjust.method = \"bonferroni\") \n",
    "summary(pwc)"
   ]
  },
  {
   "cell_type": "code",
   "execution_count": null,
   "id": "608ed4dd",
   "metadata": {},
   "outputs": [],
   "source": [
    "m <- aov(n.videos ~ CSP + Gender + HDI, no.na.data)\n",
    "\n",
    "tukey <- glht(m, linfct = mcp(Gender = \"Tukey\") , vcov = sandwich)\n",
    "\n",
    "summary(tukey, test = adjusted())"
   ]
  },
  {
   "cell_type": "code",
   "execution_count": null,
   "id": "7d41473f",
   "metadata": {
    "scrolled": false
   },
   "outputs": [],
   "source": [
    "m <- aov(n.videos ~ CSP + Gender + HDI + agegroup, no.na.data)\n",
    "\n",
    "tukey <- glht(m, linfct = mcp(Gender = \"Tukey\") , vcov = sandwich)\n",
    "\n",
    "summary(tukey, test = adjusted())"
   ]
  },
  {
   "cell_type": "code",
   "execution_count": null,
   "id": "e07bf4ca",
   "metadata": {},
   "outputs": [],
   "source": [
    "#Tukey HSD with lm\n",
    "m <- lm(n.videos ~ CSP + Gender + HDI + agegroup, no.na.data)\n",
    "\n",
    "tukey <- glht(m, linfct = mcp(Gender = \"Tukey\") , vcov = sandwich)\n",
    "\n",
    "summary(tukey, test = adjusted())"
   ]
  },
  {
   "cell_type": "code",
   "execution_count": null,
   "id": "1f04b2b1",
   "metadata": {
    "scrolled": true
   },
   "outputs": [],
   "source": [
    "#Tukey HSD with lm\n",
    "\n",
    "m <- lm(n.videos ~ CSP + Gender + HDI + agegroup, no.na.data)\n",
    "\n",
    "tukey <- glht(m, linfct = mcp(HDI = \"Tukey\") , vcov = sandwich)\n",
    "\n",
    "summary(tukey, test = adjusted())"
   ]
  },
  {
   "cell_type": "code",
   "execution_count": null,
   "id": "d57e7a77",
   "metadata": {},
   "outputs": [],
   "source": [
    "#Tukey HSD with lm on HDI\n",
    "\n",
    "m <- lm(n.videos ~ CSP + Gender + HDI + agegroup, no.na.data)\n",
    "\n",
    "tukey <- glht(m, linfct = mcp(HDI = \"Tukey\") , vcov = sandwich)\n",
    "\n",
    "summary(tukey, test = adjusted())"
   ]
  },
  {
   "cell_type": "code",
   "execution_count": null,
   "id": "19d98afb",
   "metadata": {},
   "outputs": [],
   "source": [
    "#Tukey HSD with lm on GENDER\n",
    "\n",
    "m <- lm(n.videos ~ CSP + Gender + HDI + agegroup, no.na.data)\n",
    "\n",
    "tukey <- glht(m, linfct = mcp(Gender = \"Tukey\") , vcov = sandwich)\n",
    "\n",
    "summary(tukey, test = adjusted())"
   ]
  },
  {
   "cell_type": "code",
   "execution_count": null,
   "id": "2a0093e1",
   "metadata": {},
   "outputs": [],
   "source": [
    "#Tukey HSD with lm\n",
    "\n",
    "m <- lm(n.videos ~ CSP + Gender + HDI + agegroup, no.na.data)\n",
    "\n",
    "tukey <- glht(m, linfct = mcp(HDI = \"Tukey\") , vcov = sandwich)\n",
    "\n",
    "summary(tukey, test = adjusted())"
   ]
  },
  {
   "cell_type": "code",
   "execution_count": null,
   "id": "0e8483e0",
   "metadata": {
    "scrolled": false
   },
   "outputs": [],
   "source": [
    "#Tukey HSD with lm\n",
    "\n",
    "m <- lm(n.videos ~ CSP , no.na.data)\n",
    "\n",
    "tukey <- glht(m, linfct = mcp(CSP = \"Tukey\") , vcov = sandwich)\n",
    "\n",
    "(summary(tukey, test = adjusted()))"
   ]
  },
  {
   "cell_type": "code",
   "execution_count": null,
   "id": "f270a03f",
   "metadata": {
    "scrolled": false
   },
   "outputs": [],
   "source": [
    "m <- lm(n.videos ~ CSP + Gender + HDI + agegroup, no.na.data)\n",
    "\n",
    "tukey <- glht(m, linfct = mcp(Gender = \"Tukey\") , vcov = sandwich)\n",
    "\n",
    "summary(tukey, test = adjusted())"
   ]
  },
  {
   "cell_type": "code",
   "execution_count": null,
   "id": "d4cbb055",
   "metadata": {},
   "outputs": [],
   "source": [
    "options(repr.plot.width=5, repr.plot.height=5)"
   ]
  },
  {
   "cell_type": "code",
   "execution_count": null,
   "id": "eb4346cf",
   "metadata": {},
   "outputs": [],
   "source": [
    "hist((df$n.videos), ylab = 'Frequency',xlab='Number of videos')"
   ]
  },
  {
   "cell_type": "code",
   "execution_count": null,
   "id": "8378c865",
   "metadata": {},
   "outputs": [],
   "source": [
    "qqnorm(df$n.videos, pch = 1, frame = FALSE)\n",
    "qqline(df$n.videos ,col = \"steelblue\", lwd = 3)"
   ]
  },
  {
   "cell_type": "code",
   "execution_count": null,
   "id": "bc3f7aac",
   "metadata": {},
   "outputs": [],
   "source": [
    "hist(log(df$n.videos))"
   ]
  },
  {
   "cell_type": "markdown",
   "id": "cf5e0bcc",
   "metadata": {},
   "source": [
    "# Logistic regression"
   ]
  },
  {
   "cell_type": "code",
   "execution_count": null,
   "id": "a70bb3b0",
   "metadata": {},
   "outputs": [],
   "source": [
    "head(no.na.data)"
   ]
  },
  {
   "cell_type": "code",
   "execution_count": null,
   "id": "fd8788c6",
   "metadata": {
    "scrolled": false
   },
   "outputs": [],
   "source": [
    "mod <- glm(Exam.bin ~  Gender + HDI , family='binomial' , data = no.na.data)\n",
    "(summary(mod))"
   ]
  },
  {
   "cell_type": "code",
   "execution_count": null,
   "id": "cbb045a1",
   "metadata": {},
   "outputs": [],
   "source": [
    "print(xtable((summary(mod))))"
   ]
  },
  {
   "cell_type": "code",
   "execution_count": null,
   "id": "0a09d9f7",
   "metadata": {},
   "outputs": [],
   "source": [
    "mod <- glm(Exam.bin ~  relevel(Gender, ref = \"une femme\") + HDI  , data = no.na.data)\n",
    "(summary(mod))"
   ]
  },
  {
   "cell_type": "code",
   "execution_count": null,
   "id": "b50c7ed6",
   "metadata": {
    "scrolled": true
   },
   "outputs": [],
   "source": [
    "exp(coef(mod))"
   ]
  },
  {
   "cell_type": "code",
   "execution_count": null,
   "id": "026325e6",
   "metadata": {
    "scrolled": true
   },
   "outputs": [],
   "source": [
    "# library(extrafont)\n",
    "# font_import()\n",
    "# loadfonts(device=\"win\") "
   ]
  },
  {
   "cell_type": "code",
   "execution_count": null,
   "id": "e85512c3",
   "metadata": {},
   "outputs": [],
   "source": [
    "options(repr.plot.width=7.5, repr.plot.height=3)"
   ]
  },
  {
   "cell_type": "code",
   "execution_count": null,
   "id": "32dd6b2e",
   "metadata": {
    "scrolled": false
   },
   "outputs": [],
   "source": [
    "no.na.data %>% \n",
    "  or_plot('Exam.bin', c('Gender','HDI'),\n",
    "          table_text_size = 4)"
   ]
  },
  {
   "cell_type": "code",
   "execution_count": null,
   "id": "cd4d5067",
   "metadata": {},
   "outputs": [],
   "source": [
    "# no.na.data %>% \n",
    "#   forestplot(labeltext = Exam.bin, \n",
    "#              is.summary = c(rep(TRUE, 2), rep(FALSE, 8), TRUE),\n",
    "#              clip = c(0.1, 2.5), \n",
    "#              xlog = TRUE, \n",
    "#              col = fpColors(box = \"royalblue\",\n",
    "#                             line = \"darkblue\",\n",
    "#                             summary = \"royalblue\"))"
   ]
  },
  {
   "cell_type": "code",
   "execution_count": null,
   "id": "801a82d0",
   "metadata": {
    "scrolled": false
   },
   "outputs": [],
   "source": [
    "no.na.data %>% \n",
    "  or_plot('Exam.bin', c('Gender','HDI'),\n",
    "          table_text_size = 3.5,remove_ref = TRUE)\n"
   ]
  },
  {
   "cell_type": "code",
   "execution_count": null,
   "id": "e732ee96",
   "metadata": {},
   "outputs": [],
   "source": [
    "# df22 <- no.na.data %>% \n",
    "#   mutate(Gender = factor(Gender, levels = c( \"une femme\",\"un homme\"))) %>% \n",
    "#   mutate(HDI = factor(HDI, levels = c(\"TH\", \"I\", \"B\")))\n",
    "\n",
    "\n",
    "no.na.data %>% \n",
    "  mutate(Gender = factor(Gender, levels = c( \"une femme\",\"un homme\"))) %>% \n",
    "  mutate(HDI = factor(HDI, levels = c(\"TH\", \"I\", \"B\"))) %>%\n",
    "  or_plot('Exam.bin', c('Gender',\"HDI\"))"
   ]
  },
  {
   "cell_type": "markdown",
   "id": "8e3276e5",
   "metadata": {},
   "source": [
    " # Poisson dist"
   ]
  },
  {
   "cell_type": "code",
   "execution_count": null,
   "id": "f2966759",
   "metadata": {
    "scrolled": true
   },
   "outputs": [],
   "source": [
    "mod <- glm(n.videos ~  Gender + HDI  , data = no.na.data, family='poisson')\n",
    "(summary(mod))"
   ]
  },
  {
   "cell_type": "code",
   "execution_count": null,
   "id": "772c452a",
   "metadata": {
    "scrolled": false
   },
   "outputs": [],
   "source": [
    "install.packages('fitdistrplus')"
   ]
  },
  {
   "cell_type": "code",
   "execution_count": null,
   "id": "8875119b",
   "metadata": {},
   "outputs": [],
   "source": [
    "options(repr.plot.width=15, repr.plot.height=5)\n"
   ]
  },
  {
   "cell_type": "code",
   "execution_count": null,
   "id": "eafab778",
   "metadata": {
    "scrolled": false
   },
   "outputs": [],
   "source": [
    "library('fitdistrplus')\n",
    "plot(fitdist(no.na.data$n.videos,\"pois\"))"
   ]
  },
  {
   "cell_type": "code",
   "execution_count": 339,
   "id": "d9738ca7",
   "metadata": {},
   "outputs": [
    {
     "name": "stderr",
     "output_type": "stream",
     "text": [
      "Installing package into 'H:/Documents/R/win-library/3.6'\n",
      "(as 'lib' is unspecified)\n"
     ]
    },
    {
     "name": "stdout",
     "output_type": "stream",
     "text": [
      "\n",
      "  There is a binary version available but the source version is later:\n",
      "    binary source needs_compilation\n",
      "vcd  1.4-8  1.4-9             FALSE\n",
      "\n"
     ]
    },
    {
     "name": "stderr",
     "output_type": "stream",
     "text": [
      "installing the source package 'vcd'\n",
      "\n"
     ]
    }
   ],
   "source": [
    "install.packages('vcd')"
   ]
  },
  {
   "cell_type": "code",
   "execution_count": 340,
   "id": "1bb65724",
   "metadata": {},
   "outputs": [
    {
     "name": "stdout",
     "output_type": "stream",
     "text": [
      "\n",
      "\t Goodness-of-fit test for poisson distribution\n",
      "\n",
      "                      X^2 df P(> X^2)\n",
      "Likelihood Ratio 81001.38 34        0\n"
     ]
    },
    {
     "data": {
      "text/html": [
       "0"
      ],
      "text/latex": [
       "0"
      ],
      "text/markdown": [
       "0"
      ],
      "text/plain": [
       "[1] 0"
      ]
     },
     "metadata": {},
     "output_type": "display_data"
    },
    {
     "name": "stdout",
     "output_type": "stream",
     "text": [
      "[1] \"pvalue:  1\"\n"
     ]
    },
    {
     "data": {
      "image/png": "[encoded data removed]",
      "text/plain": [
       "plot without title"
      ]
     },
     "metadata": {},
     "output_type": "display_data"
    }
   ],
   "source": [
    "# # load the vcd package\n",
    "# library(vcd) ## loading vcd package\n",
    "\n",
    "# # generate two processes for test\n",
    "# # set.seed(2014);y=rpois(200,5)\n",
    "# # set.seed(2014);y=rnorm(100, 5, 0.3) # goodfit asks for non-negative values\n",
    "# # output the results\n",
    "# gf = goodfit(no.na.data$n.videos,type= \"poisson\",method= \"ML\")\n",
    "# plot(gf,main=\"Number of videos frequency vs Poisson distribution\",xlab='Number of videos')\n",
    "# summary(gf)\n",
    "\n",
    "# # to automatically get the pvalue\n",
    "# gf.summary = capture.output(summary(gf))[[5]]\n",
    "# pvalue = unlist(strsplit(gf.summary, split = \" \"))\n",
    "# pvalue = as.numeric(pvalue[length(pvalue)]); pvalue\n",
    "\n",
    "# # to mannualy compute the pvalue\n",
    "# chisq = sum(  (gf$observed-gf$fitted)^2/gf$fitted )\n",
    "\n",
    "# df = length(gf$observed)-1-1\n",
    "# pvalue = pchisq(chisq,df)\n",
    "# print(paste('pvalue: ',pvalue))"
   ]
  },
  {
   "cell_type": "code",
   "execution_count": 341,
   "id": "338171f4",
   "metadata": {},
   "outputs": [
    {
     "data": {
      "text/html": [
       "<table>\n",
       "<thead><tr><th></th><th scope=col>Estimate</th><th scope=col>Std. Error</th><th scope=col>z value</th><th scope=col>Pr(&gt;|z|)</th></tr></thead>\n",
       "<tbody>\n",
       "\t<tr><th scope=row>(Intercept)</th><td>2.170298127  </td><td>0.01167140   </td><td>185.950081   </td><td> 0.000000e+00</td></tr>\n",
       "\t<tr><th scope=row>Genderune femme</th><td>0.008606267  </td><td>0.00569458   </td><td>  1.511308   </td><td> 1.307099e-01</td></tr>\n",
       "\t<tr><th scope=row>HDITH</th><td>0.732659666  </td><td>0.01204579   </td><td> 60.822884   </td><td> 0.000000e+00</td></tr>\n",
       "\t<tr><th scope=row>HDII</th><td>0.410040455  </td><td>0.01639139   </td><td> 25.015596   </td><td>4.136405e-138</td></tr>\n",
       "</tbody>\n",
       "</table>\n"
      ],
      "text/latex": [
       "\\begin{tabular}{r|llll}\n",
       "  & Estimate & Std. Error & z value & Pr(>\\textbar{}z\\textbar{})\\\\\n",
       "\\hline\n",
       "\t(Intercept) & 2.170298127   & 0.01167140    & 185.950081    &  0.000000e+00\\\\\n",
       "\tGenderune femme & 0.008606267   & 0.00569458    &   1.511308    &  1.307099e-01\\\\\n",
       "\tHDITH & 0.732659666   & 0.01204579    &  60.822884    &  0.000000e+00\\\\\n",
       "\tHDII & 0.410040455   & 0.01639139    &  25.015596    & 4.136405e-138\\\\\n",
       "\\end{tabular}\n"
      ],
      "text/markdown": [
       "\n",
       "| <!--/--> | Estimate | Std. Error | z value | Pr(>|z|) |\n",
       "|---|---|---|---|---|\n",
       "| (Intercept) | 2.170298127   | 0.01167140    | 185.950081    |  0.000000e+00 |\n",
       "| Genderune femme | 0.008606267   | 0.00569458    |   1.511308    |  1.307099e-01 |\n",
       "| HDITH | 0.732659666   | 0.01204579    |  60.822884    |  0.000000e+00 |\n",
       "| HDII | 0.410040455   | 0.01639139    |  25.015596    | 4.136405e-138 |\n",
       "\n"
      ],
      "text/plain": [
       "                Estimate    Std. Error z value    Pr(>|z|)     \n",
       "(Intercept)     2.170298127 0.01167140 185.950081  0.000000e+00\n",
       "Genderune femme 0.008606267 0.00569458   1.511308  1.307099e-01\n",
       "HDITH           0.732659666 0.01204579  60.822884  0.000000e+00\n",
       "HDII            0.410040455 0.01639139  25.015596 4.136405e-138"
      ]
     },
     "metadata": {},
     "output_type": "display_data"
    }
   ],
   "source": [
    "(xtable((summary(mod))))"
   ]
  },
  {
   "cell_type": "markdown",
   "id": "0df060b4",
   "metadata": {},
   "source": [
    "## pseudo R^2"
   ]
  },
  {
   "cell_type": "code",
   "execution_count": 470,
   "id": "3c4bde2d",
   "metadata": {
    "scrolled": true
   },
   "outputs": [
    {
     "data": {
      "text/html": [],
      "text/latex": [],
      "text/markdown": [],
      "text/plain": [
       "numeric(0)"
      ]
     },
     "metadata": {},
     "output_type": "display_data"
    }
   ],
   "source": [
    "pR2 = 1 - mod$deviance / mod$null.deviance\n",
    "pR2"
   ]
  },
  {
   "cell_type": "markdown",
   "id": "371f1c5e",
   "metadata": {},
   "source": [
    "# Survival analysis"
   ]
  },
  {
   "cell_type": "code",
   "execution_count": 471,
   "id": "e31c716a",
   "metadata": {},
   "outputs": [],
   "source": [
    "tenCols <-list(c(0,0,0,0,0,0,0,0,0,0),\n",
    "c(1,0,0,0,0,0,0,0,0,0),\n",
    "c(1,1,0,0,0,0,0,0,0,0),\n",
    "c(1,1,1,0,0,0,0,0,0,0),\n",
    "c(1,1,1,1,0,0,0,0,0,0),\n",
    "c(1,1,1,1,1,0,0,0,0,0),\n",
    "c(1,1,1,1,1,1,0,0,0,0),\n",
    "c(1,1,1,1,1,1,1,0,0,0),\n",
    "c(1,1,1,1,1,1,1,1,0,0),\n",
    "c(1,1,1,1,1,1,1,1,1,0),\n",
    "c(1,1,1,1,1,1,1,1,1,1))\n",
    "dataCols<-list()\n",
    "for (i in df$behaviour.index.percentage){\n",
    "    if (as.numeric(i)<0.1){dataCols <- append(dataCols,tenCols[1])}\n",
    "    if (i>=0.1 & i < 0.2){append(dataCols,tenCols[2])}\n",
    "    if (i>=0.2 & i < 0.3){append(dataCols,tenCols[3])}\n",
    "    if (i>=0.3 & i < 0.4){append(dataCols,tenCols[4])}\n",
    "    if (i>=0.4 & i < 0.5){append(dataCols,tenCols[5])}\n",
    "    if (i>=0.5 & i < 0.6){append(dataCols,tenCols[6])}\n",
    "    if (i>=0.6 & i < 0.7){append(dataCols,tenCols[7])}\n",
    "    if (i>=0.7 & i < 0.8){append(dataCols,tenCols[8])}\n",
    "    if (i>=0.8 & i < 0.9){append(dataCols,tenCols[9])}\n",
    "    if (i>=0.9 & i < 1){append(dataCols,tenCols[10])}\n",
    "    if ( i == 1){append(dataCols,tenCols[11])}\n",
    "}"
   ]
  },
  {
   "cell_type": "code",
   "execution_count": 472,
   "id": "ff37c718",
   "metadata": {},
   "outputs": [
    {
     "name": "stdout",
     "output_type": "stream",
     "text": [
      " num [1:17054] 0.0286 0 0.8571 0.7714 0.2857 ...\n"
     ]
    }
   ],
   "source": [
    "str(df$behaviour.index.percentage)"
   ]
  },
  {
   "cell_type": "code",
   "execution_count": 473,
   "id": "b5123ce0",
   "metadata": {},
   "outputs": [],
   "source": [
    "df$statut.surv.vid=rep(NA, nrow(df))\n",
    "for (i in 1:nrow(df)) {\n",
    "    if (df$n.videos[i]<35) {df$statut.surv.vid[i]=1}\n",
    "    if (df$n.videos[i]==35) {df$statut.surv.vid[i]=0}  }"
   ]
  },
  {
   "cell_type": "code",
   "execution_count": 474,
   "id": "14b779c3",
   "metadata": {
    "scrolled": false
   },
   "outputs": [
    {
     "data": {
      "text/plain": [
       "Call: survfit(formula = Surv(n.videos, statut.surv.vid) ~ 1, data = df)\n",
       "\n",
       " time n.risk n.event survival std.err lower 95% CI upper 95% CI\n",
       "    0  17054    6313   0.6298 0.00370       0.6226       0.6371\n",
       "    1  10741    1378   0.5490 0.00381       0.5416       0.5565\n",
       "    2   9363    1007   0.4900 0.00383       0.4825       0.4975\n",
       "    3   8356     634   0.4528 0.00381       0.4454       0.4603\n",
       "    4   7722     430   0.4276 0.00379       0.4202       0.4351\n",
       "    5   7292     309   0.4095 0.00377       0.4022       0.4169\n",
       "    6   6983     283   0.3929 0.00374       0.3856       0.4003\n",
       "    7   6700     746   0.3491 0.00365       0.3420       0.3564\n",
       "    8   5954     233   0.3355 0.00362       0.3285       0.3426\n",
       "    9   5721     244   0.3212 0.00358       0.3142       0.3282\n",
       "   10   5477     194   0.3098 0.00354       0.3029       0.3168\n",
       "   11   5283     150   0.3010 0.00351       0.2942       0.3079\n",
       "   12   5133     164   0.2914 0.00348       0.2846       0.2983\n",
       "   13   4969     209   0.2791 0.00343       0.2725       0.2859\n",
       "   14   4760     281   0.2626 0.00337       0.2561       0.2693\n",
       "   15   4479     123   0.2554 0.00334       0.2490       0.2621\n",
       "   16   4356     110   0.2490 0.00331       0.2426       0.2555\n",
       "   17   4246     102   0.2430 0.00328       0.2366       0.2495\n",
       "   18   4144     112   0.2364 0.00325       0.2301       0.2429\n",
       "   19   4032      89   0.2312 0.00323       0.2250       0.2376\n",
       "   20   3943     134   0.2233 0.00319       0.2172       0.2297\n",
       "   21   3809     184   0.2126 0.00313       0.2065       0.2188\n",
       "   22   3625     105   0.2064 0.00310       0.2004       0.2126\n",
       "   23   3520      88   0.2012 0.00307       0.1953       0.2074\n",
       "   24   3432      92   0.1958 0.00304       0.1900       0.2019\n",
       "   25   3340      71   0.1917 0.00301       0.1859       0.1977\n",
       "   26   3269      78   0.1871 0.00299       0.1813       0.1931\n",
       "   27   3191     118   0.1802 0.00294       0.1745       0.1861\n",
       "   28   3073     185   0.1693 0.00287       0.1638       0.1751\n",
       "   29   2888     156   0.1602 0.00281       0.1548       0.1658\n",
       "   30   2732     136   0.1522 0.00275       0.1469       0.1577\n",
       "   31   2596     119   0.1452 0.00270       0.1401       0.1506\n",
       "   32   2477     142   0.1369 0.00263       0.1319       0.1422\n",
       "   33   2335     266   0.1213 0.00250       0.1165       0.1263\n",
       "   34   2069     840   0.0721 0.00198       0.0683       0.0761"
      ]
     },
     "metadata": {},
     "output_type": "display_data"
    }
   ],
   "source": [
    "km_fit <- survfit(Surv(n.videos, statut.surv.vid) ~ 1, data=df)\n",
    "summary(km_fit)\n"
   ]
  },
  {
   "cell_type": "code",
   "execution_count": 475,
   "id": "e031b8ad",
   "metadata": {},
   "outputs": [
    {
     "data": {
      "image/png": "[encoded data removed]",
      "text/plain": [
       "Plot with title \"Kaplan Meyer Plot\""
      ]
     },
     "metadata": {},
     "output_type": "display_data"
    }
   ],
   "source": [
    "plot(km_fit, xlab=\"Number of videos\", main = 'Kaplan Meyer Plot')"
   ]
  },
  {
   "cell_type": "code",
   "execution_count": 476,
   "id": "0ad4fd14",
   "metadata": {},
   "outputs": [],
   "source": [
    "df_categories$statut.surv.vid=rep(NA, nrow(df_categories))\n",
    "for (i in 1:nrow(df_categories)) {\n",
    "    if (df_categories$n.videos[i]<35) {df_categories$statut.surv.vid[i]=1}\n",
    "    if (df_categories$n.videos[i]==35) {df_categories$statut.surv.vid[i]=0}  }\n"
   ]
  },
  {
   "cell_type": "code",
   "execution_count": 477,
   "id": "d24d6876",
   "metadata": {},
   "outputs": [],
   "source": [
    "# completers <- subset(df2_NecCol_clean, Exam.bin == 1)\n",
    "\n",
    "# auditing <- df2_NecCol_clean[which(df2_NecCol_clean$Quizz.1.bin ==0\n",
    "#                                     & df2_NecCol_clean$Quizz.2.bin ==0\n",
    "#                                     & df2_NecCol_clean$Quizz.3.bin ==0\n",
    "#                                     & df2_NecCol_clean$Quizz.4.bin ==0\n",
    "#                                     & df2_NecCol_clean$Quizz.5.bin ==0\n",
    "#                                     & df2_NecCol_clean$Assignment.bin ==0\n",
    "#                                     & df2_NecCol_clean$behaviour.index.percentage > 0.1),]\n",
    "# bystanders <- df2_NecCol_clean[which(df2_NecCol_clean$Quizz.1.bin ==0\n",
    "#                                     & df2_NecCol_clean$Quizz.2.bin ==0\n",
    "#                                     & df2_NecCol_clean$Quizz.3.bin ==0\n",
    "#                                     & df2_NecCol_clean$Quizz.4.bin ==0\n",
    "#                                     & df2_NecCol_clean$Quizz.5.bin ==0\n",
    "#                                     & df2_NecCol_clean$Assignment.bin ==0\n",
    "#                                     & df2_NecCol_clean$behaviour.index.percentage <= 0.1),]\n",
    "\n",
    "# bystanders<-anti_join(bystanders, auditing)\n",
    "\n",
    "\n",
    "# disengaging <- anti_join(df2_NecCol_clean, do.call(\"rbind\", list(completers,auditing,bystanders)))\n",
    "# disengaging<-anti_join(disengaging, completers)\n",
    "\n",
    "\n",
    "# completers$behaviour = 'Completer'\n",
    "\n",
    "\n",
    "# disengaging$behaviour = 'Disenganger'\n",
    "\n",
    "# auditing$behaviour = 'Auditer'\n",
    "\n",
    "# bystanders$behaviour = 'Bystander'\n",
    "# df_categories <- do.call(\"rbind\", list(completers,auditing,bystanders,disengaging))\n",
    "\n",
    "\n",
    "# km_fit <- survfit(Surv(n.videos, statut.surv.vid) ~ behaviour, data=df_categories)\n",
    "# plot(km_fit, xlab=\"Number of videos\", main = 'Kaplan Meyer Plot')\n",
    "\n",
    "\n",
    "df$engagement.behaviour <- NA\n",
    "# df[which(df$Quizz.1.bin ==0\n",
    "#         & df$Quizz.2.bin ==0\n",
    "#         & df$Quizz.3.bin ==0\n",
    "#         & df$Quizz.4.bin ==0\n",
    "#         & df$Quizz.5.bin ==0\n",
    "#         & df$Assignment.bin ==0\n",
    "#         & df$behaviour.index.percentage > 0.1),]engagement.behaviour <- 'Auditer'\n",
    "# df$d[df$a==5] <- 0\n",
    "# df$d[df$a==6] <- df$b[df$a==6]"
   ]
  },
  {
   "cell_type": "code",
   "execution_count": 478,
   "id": "110c945c",
   "metadata": {},
   "outputs": [],
   "source": [
    "df[which(df$Quizz.1.bin ==0\n",
    "        & df$Quizz.2.bin ==0\n",
    "        & df$Quizz.3.bin ==0\n",
    "        & df$Quizz.4.bin ==0\n",
    "        & df$Quizz.5.bin ==0\n",
    "        & df$Assignment.bin ==0\n",
    "        & df$behaviour.index.percentage > 0.1),]$engagement.behaviour <- 'Auditer' \n",
    "\n",
    "\n",
    "df[which(df$Exam.bin == 1),]$engagement.behaviour <- 'Completer'\n",
    "\n",
    "\n",
    "df[which(df$Quizz.1.bin ==0\n",
    "        & df$Quizz.2.bin ==0\n",
    "        & df$Quizz.3.bin ==0\n",
    "        & df$Quizz.4.bin ==0\n",
    "        & df$Quizz.5.bin ==0\n",
    "        & df$Assignment.bin ==0\n",
    "        & df$behaviour.index.percentage <= 0.1),]$engagement.behaviour <- 'Bystander'\n",
    "\n",
    "\n",
    "df$engagement.behaviour[is.na(df$engagement.behaviour)] <- 'Disengager'"
   ]
  },
  {
   "cell_type": "code",
   "execution_count": null,
   "id": "75e1fbab",
   "metadata": {},
   "outputs": [],
   "source": []
  },
  {
   "cell_type": "code",
   "execution_count": 479,
   "id": "2a1c8387",
   "metadata": {},
   "outputs": [
    {
     "data": {
      "text/html": [
       "<table>\n",
       "<thead><tr><th scope=col>Student_ID</th><th scope=col>Exam.score</th><th scope=col>Exam.bin</th><th scope=col>Assignment.score</th><th scope=col>Assignment.bin</th><th scope=col>Quizz.1.score</th><th scope=col>Quizz.1.bin</th><th scope=col>Quizz.2.score</th><th scope=col>Quizz.2.bin</th><th scope=col>Quizz.3.score</th><th scope=col>...</th><th scope=col>Proba.reco</th><th scope=col>EMLyon.et</th><th scope=col>Certif.bin</th><th scope=col>EMLYON.et</th><th scope=col>age</th><th scope=col>HDI</th><th scope=col>n.videos</th><th scope=col>behaviour.index.percentage</th><th scope=col>statut.surv.vid</th><th scope=col>engagement.behaviour</th></tr></thead>\n",
       "<tbody>\n",
       "\t<tr><td>28        </td><td>NA        </td><td>0         </td><td>NA        </td><td>0         </td><td>NA        </td><td>0         </td><td>NA        </td><td>0         </td><td>NA        </td><td>...       </td><td>NA        </td><td>NA        </td><td>NA        </td><td>NA        </td><td>NA        </td><td>NA        </td><td> 1        </td><td>0.02857143</td><td>1         </td><td>Bystander </td></tr>\n",
       "\t<tr><td>36        </td><td>NA        </td><td>0         </td><td>NA        </td><td>0         </td><td>NA        </td><td>0         </td><td>NA        </td><td>0         </td><td>NA        </td><td>...       </td><td>NA        </td><td>NA        </td><td>NA        </td><td>NA        </td><td>NA        </td><td>NA        </td><td> 0        </td><td>0.00000000</td><td>1         </td><td>Bystander </td></tr>\n",
       "\t<tr><td>45        </td><td>NA        </td><td>0         </td><td>NA        </td><td>0         </td><td>16        </td><td>1         </td><td>20        </td><td>1         </td><td>18        </td><td>...       </td><td>NA        </td><td>NA        </td><td>NA        </td><td>NA        </td><td>NA        </td><td>TH        </td><td>30        </td><td>0.85714286</td><td>1         </td><td>Disengager</td></tr>\n",
       "\t<tr><td>83        </td><td>NA        </td><td>0         </td><td>60        </td><td>1         </td><td>13        </td><td>1         </td><td>20        </td><td>1         </td><td>18        </td><td>...       </td><td>NA        </td><td>NA        </td><td>NA        </td><td>NA        </td><td>NA        </td><td>I         </td><td>27        </td><td>0.77142857</td><td>1         </td><td>Disengager</td></tr>\n",
       "\t<tr><td>84        </td><td>NA        </td><td>0         </td><td>NA        </td><td>0         </td><td>18        </td><td>1         </td><td>20        </td><td>1         </td><td>NA        </td><td>...       </td><td>NA        </td><td>NA        </td><td>NA        </td><td>NA        </td><td>NA        </td><td>B         </td><td>10        </td><td>0.28571429</td><td>1         </td><td>Disengager</td></tr>\n",
       "\t<tr><td>87        </td><td>NA        </td><td>0         </td><td>NA        </td><td>0         </td><td>NA        </td><td>0         </td><td>NA        </td><td>0         </td><td>NA        </td><td>...       </td><td>NA        </td><td>NA        </td><td>NA        </td><td>NA        </td><td>NA        </td><td>TH        </td><td> 2        </td><td>0.05714286</td><td>1         </td><td>Bystander </td></tr>\n",
       "</tbody>\n",
       "</table>\n"
      ],
      "text/latex": [
       "\\begin{tabular}{r|llllllllllllllllllllllllllllllllllllllllllllllllllllllllllllllllllllllllllllllllllllllllllllllllllllllllllllllllllllllllllll}\n",
       " Student\\_ID & Exam.score & Exam.bin & Assignment.score & Assignment.bin & Quizz.1.score & Quizz.1.bin & Quizz.2.score & Quizz.2.bin & Quizz.3.score & ... & Proba.reco & EMLyon.et & Certif.bin & EMLYON.et & age & HDI & n.videos & behaviour.index.percentage & statut.surv.vid & engagement.behaviour\\\\\n",
       "\\hline\n",
       "\t 28         & NA         & 0          & NA         & 0          & NA         & 0          & NA         & 0          & NA         & ...        & NA         & NA         & NA         & NA         & NA         & NA         &  1         & 0.02857143 & 1          & Bystander \\\\\n",
       "\t 36         & NA         & 0          & NA         & 0          & NA         & 0          & NA         & 0          & NA         & ...        & NA         & NA         & NA         & NA         & NA         & NA         &  0         & 0.00000000 & 1          & Bystander \\\\\n",
       "\t 45         & NA         & 0          & NA         & 0          & 16         & 1          & 20         & 1          & 18         & ...        & NA         & NA         & NA         & NA         & NA         & TH         & 30         & 0.85714286 & 1          & Disengager\\\\\n",
       "\t 83         & NA         & 0          & 60         & 1          & 13         & 1          & 20         & 1          & 18         & ...        & NA         & NA         & NA         & NA         & NA         & I          & 27         & 0.77142857 & 1          & Disengager\\\\\n",
       "\t 84         & NA         & 0          & NA         & 0          & 18         & 1          & 20         & 1          & NA         & ...        & NA         & NA         & NA         & NA         & NA         & B          & 10         & 0.28571429 & 1          & Disengager\\\\\n",
       "\t 87         & NA         & 0          & NA         & 0          & NA         & 0          & NA         & 0          & NA         & ...        & NA         & NA         & NA         & NA         & NA         & TH         &  2         & 0.05714286 & 1          & Bystander \\\\\n",
       "\\end{tabular}\n"
      ],
      "text/markdown": [
       "\n",
       "| Student_ID | Exam.score | Exam.bin | Assignment.score | Assignment.bin | Quizz.1.score | Quizz.1.bin | Quizz.2.score | Quizz.2.bin | Quizz.3.score | ... | Proba.reco | EMLyon.et | Certif.bin | EMLYON.et | age | HDI | n.videos | behaviour.index.percentage | statut.surv.vid | engagement.behaviour |\n",
       "|---|---|---|---|---|---|---|---|---|---|---|---|---|---|---|---|---|---|---|---|---|\n",
       "| 28         | NA         | 0          | NA         | 0          | NA         | 0          | NA         | 0          | NA         | ...        | NA         | NA         | NA         | NA         | NA         | NA         |  1         | 0.02857143 | 1          | Bystander  |\n",
       "| 36         | NA         | 0          | NA         | 0          | NA         | 0          | NA         | 0          | NA         | ...        | NA         | NA         | NA         | NA         | NA         | NA         |  0         | 0.00000000 | 1          | Bystander  |\n",
       "| 45         | NA         | 0          | NA         | 0          | 16         | 1          | 20         | 1          | 18         | ...        | NA         | NA         | NA         | NA         | NA         | TH         | 30         | 0.85714286 | 1          | Disengager |\n",
       "| 83         | NA         | 0          | 60         | 1          | 13         | 1          | 20         | 1          | 18         | ...        | NA         | NA         | NA         | NA         | NA         | I          | 27         | 0.77142857 | 1          | Disengager |\n",
       "| 84         | NA         | 0          | NA         | 0          | 18         | 1          | 20         | 1          | NA         | ...        | NA         | NA         | NA         | NA         | NA         | B          | 10         | 0.28571429 | 1          | Disengager |\n",
       "| 87         | NA         | 0          | NA         | 0          | NA         | 0          | NA         | 0          | NA         | ...        | NA         | NA         | NA         | NA         | NA         | TH         |  2         | 0.05714286 | 1          | Bystander  |\n",
       "\n"
      ],
      "text/plain": [
       "  Student_ID Exam.score Exam.bin Assignment.score Assignment.bin Quizz.1.score\n",
       "1 28         NA         0        NA               0              NA           \n",
       "2 36         NA         0        NA               0              NA           \n",
       "3 45         NA         0        NA               0              16           \n",
       "4 83         NA         0        60               1              13           \n",
       "5 84         NA         0        NA               0              18           \n",
       "6 87         NA         0        NA               0              NA           \n",
       "  Quizz.1.bin Quizz.2.score Quizz.2.bin Quizz.3.score ... Proba.reco EMLyon.et\n",
       "1 0           NA            0           NA            ... NA         NA       \n",
       "2 0           NA            0           NA            ... NA         NA       \n",
       "3 1           20            1           18            ... NA         NA       \n",
       "4 1           20            1           18            ... NA         NA       \n",
       "5 1           20            1           NA            ... NA         NA       \n",
       "6 0           NA            0           NA            ... NA         NA       \n",
       "  Certif.bin EMLYON.et age HDI n.videos behaviour.index.percentage\n",
       "1 NA         NA        NA  NA   1       0.02857143                \n",
       "2 NA         NA        NA  NA   0       0.00000000                \n",
       "3 NA         NA        NA  TH  30       0.85714286                \n",
       "4 NA         NA        NA  I   27       0.77142857                \n",
       "5 NA         NA        NA  B   10       0.28571429                \n",
       "6 NA         NA        NA  TH   2       0.05714286                \n",
       "  statut.surv.vid engagement.behaviour\n",
       "1 1               Bystander           \n",
       "2 1               Bystander           \n",
       "3 1               Disengager          \n",
       "4 1               Disengager          \n",
       "5 1               Disengager          \n",
       "6 1               Bystander           "
      ]
     },
     "metadata": {},
     "output_type": "display_data"
    }
   ],
   "source": [
    "head(df)"
   ]
  },
  {
   "cell_type": "code",
   "execution_count": 480,
   "id": "c84a4c57",
   "metadata": {},
   "outputs": [],
   "source": [
    "n.videos_dec = quantile(df$n.videos, probs = seq(.1, .9, by = .1))\n",
    "\n",
    "\n",
    "\n",
    "df<-df %>%mutate(n.videos.decile = ntile(n.videos, 10))\n",
    "\n",
    "\n",
    "\n",
    "df$status.vid=rep(NA, nrow(df))\n",
    "for (i in 1:nrow(df)) {\n",
    "    if (df$n.videos.decile[i]<10) {df$status.vid[i]=1}\n",
    "    if (df$n.videos.decile[i]==10) {df$status.vid[i]=0}\n",
    "}\n"
   ]
  },
  {
   "cell_type": "code",
   "execution_count": 494,
   "id": "f79615d4",
   "metadata": {
    "scrolled": false
   },
   "outputs": [
    {
     "data": {
      "image/png": "[encoded data removed]",
      "text/plain": [
       "Plot with title \"Kaplan Meyer Plot\""
      ]
     },
     "metadata": {},
     "output_type": "display_data"
    }
   ],
   "source": [
    "km_fit <- survfit(Surv(n.videos, statut.surv.vid) ~ HDI, data=df)\n",
    "plot(km_fit, xlab=\"Number of videos\", main = 'Kaplan Meyer Plot', col=c('red','blue','green','yellow')) "
   ]
  },
  {
   "cell_type": "code",
   "execution_count": null,
   "id": "5d05b55a",
   "metadata": {},
   "outputs": [],
   "source": []
  },
  {
   "cell_type": "code",
   "execution_count": 495,
   "id": "a8cb1a3c",
   "metadata": {
    "scrolled": false
   },
   "outputs": [
    {
     "data": {
      "image/png": "[encoded data removed]",
      "text/plain": [
       "plot without title"
      ]
     },
     "metadata": {},
     "output_type": "display_data"
    }
   ],
   "source": [
    "fit2 <- survfit(Surv(n.videos, statut.surv.vid) ~ HDI, data=df)\n",
    "ggsurvplot(fit2, data = df)"
   ]
  },
  {
   "cell_type": "markdown",
   "id": "dcd54971",
   "metadata": {},
   "source": [
    "## main plot"
   ]
  },
  {
   "cell_type": "code",
   "execution_count": 496,
   "id": "5eba652e",
   "metadata": {
    "scrolled": false
   },
   "outputs": [
    {
     "data": {
      "image/png": "[encoded data removed]",
      "text/plain": [
       "plot without title"
      ]
     },
     "metadata": {},
     "output_type": "display_data"
    }
   ],
   "source": [
    "fit <- survfit(Surv(n.videos, statut.surv.vid) ~ engagement.behaviour, data=df)\n",
    "names(fit$strata) <- gsub(\"engagement.behaviour=\", \"\", names(fit$strata))\n",
    "ggsurvplot(fit, data = df, surv.median.line=\"none\")"
   ]
  },
  {
   "cell_type": "code",
   "execution_count": 497,
   "id": "63c23813",
   "metadata": {
    "scrolled": false
   },
   "outputs": [
    {
     "data": {
      "image/png": "[encoded data removed]",
      "text/plain": [
       "plot without title"
      ]
     },
     "metadata": {},
     "output_type": "display_data"
    }
   ],
   "source": [
    "mod_cox <- coxph(formula = Surv(n.videos, statut.surv.vid) ~ engagement.behaviour, data = df)\n",
    "ggforest(mod_cox,data=df)"
   ]
  },
  {
   "cell_type": "code",
   "execution_count": 498,
   "id": "7c9f9294",
   "metadata": {},
   "outputs": [
    {
     "data": {
      "image/png": "[encoded data removed]",
      "text/plain": [
       "plot without title"
      ]
     },
     "metadata": {},
     "output_type": "display_data"
    }
   ],
   "source": [
    "fit <- survfit(Surv(n.videos.decile, statut.surv.vid) ~ engagement.behaviour, data=df)\n",
    "names(fit$strata) <- gsub(\"engagement.behaviour=\", \"\", names(fit$strata))\n",
    "ggsurvplot(fit, data = df, surv.median.line=\"none\")"
   ]
  },
  {
   "cell_type": "code",
   "execution_count": 499,
   "id": "5f4182c8",
   "metadata": {},
   "outputs": [
    {
     "data": {
      "image/png": "[encoded data removed]",
      "text/plain": [
       "plot without title"
      ]
     },
     "metadata": {},
     "output_type": "display_data"
    }
   ],
   "source": [
    "fit2 <- survfit(Surv(n.videos, statut.surv.vid) ~ HDI, data=df)\n",
    "ggsurvplot(fit2, data = df)"
   ]
  },
  {
   "cell_type": "code",
   "execution_count": 500,
   "id": "6cbf77b6",
   "metadata": {},
   "outputs": [
    {
     "data": {
      "image/png": "[encoded data removed]",
      "text/plain": [
       "plot without title"
      ]
     },
     "metadata": {},
     "output_type": "display_data"
    }
   ],
   "source": [
    "n.videos_dec = quantile(df_categories$n.videos, probs = seq(.1, .9, by = .1))\n",
    "\n",
    "\n",
    "\n",
    "df_categories<-df_categories %>%mutate(n.videos.decile = ntile(n.videos, 10))\n",
    "\n",
    "\n",
    "\n",
    "df_categories$status.vid=rep(NA, nrow(df_categories))\n",
    "for (i in 1:nrow(df_categories)) {\n",
    "    if (df_categories$n.videos.decile[i]<10) {df_categories$status.vid[i]=1}\n",
    "    if (df_categories$n.videos.decile[i]==10) {df_categories$status.vid[i]=0}\n",
    "}\n",
    "\n",
    "\n",
    "\n",
    "fit <- survfit(Surv(n.videos.decile, statut.surv.vid) ~ behaviour, data=df_categories)\n",
    "names(fit$strata) <- gsub(\"behaviour=\", \"\", names(fit$strata))\n",
    "ggsurvplot(fit, data = df_categories, surv.median.line=\"none\",xlab = \"Porpotion of consumed videos\")"
   ]
  },
  {
   "cell_type": "code",
   "execution_count": 501,
   "id": "729d8bbf",
   "metadata": {},
   "outputs": [],
   "source": [
    "df_categories$behaviour <- as.factor(df_categories$behaviour)\n",
    "df_categories$behaviour = relevel(df_categories$behaviour, ref = \"Completer\")"
   ]
  },
  {
   "cell_type": "code",
   "execution_count": 502,
   "id": "aefb7dbb",
   "metadata": {},
   "outputs": [],
   "source": [
    "library(\"survival\")\n",
    "library(\"survminer\")"
   ]
  },
  {
   "cell_type": "code",
   "execution_count": 503,
   "id": "846a65a9",
   "metadata": {},
   "outputs": [
    {
     "data": {
      "image/png": "[encoded data removed]",
      "text/plain": [
       "plot without title"
      ]
     },
     "metadata": {},
     "output_type": "display_data"
    }
   ],
   "source": [
    "options(repr.plot.width=8, repr.plot.height=3)\n",
    "mod_cox <- coxph(formula = Surv(n.videos.decile, statut.surv.vid) ~ behaviour, data=df_categories)\n",
    "# a <- ggforest(mod_cox)\n",
    "# ggforest(mod_cox, font.x.size = 20)\n",
    "\n",
    "ggforest(mod_cox, fontsize = 1,\n",
    "  cpositions = c(0,0.11,3),data=df_categories)"
   ]
  },
  {
   "cell_type": "code",
   "execution_count": 504,
   "id": "c8e7683c",
   "metadata": {
    "scrolled": false
   },
   "outputs": [
    {
     "data": {
      "image/png": "[encoded data removed]",
      "text/plain": [
       "plot without title"
      ]
     },
     "metadata": {},
     "output_type": "display_data"
    }
   ],
   "source": [
    "fit2 <- survfit(Surv(n.videos, statut.surv.vid) ~ Gender, data=df)\n",
    "ggsurvplot(fit2, data = df)"
   ]
  },
  {
   "cell_type": "code",
   "execution_count": null,
   "id": "0b31f873",
   "metadata": {},
   "outputs": [],
   "source": []
  },
  {
   "cell_type": "code",
   "execution_count": null,
   "id": "fd8c7081",
   "metadata": {},
   "outputs": [],
   "source": []
  },
  {
   "cell_type": "code",
   "execution_count": 505,
   "id": "f5214629",
   "metadata": {
    "scrolled": false
   },
   "outputs": [
    {
     "data": {
      "image/png": "[encoded data removed]",
      "text/plain": [
       "plot without title"
      ]
     },
     "metadata": {},
     "output_type": "display_data"
    }
   ],
   "source": [
    "fit2 <- survfit(Surv(n.videos.decile, statut.surv.vid) ~ Gender, data=df)\n",
    "ggsurvplot(fit2, data = df)"
   ]
  },
  {
   "cell_type": "code",
   "execution_count": 506,
   "id": "64f9d688",
   "metadata": {},
   "outputs": [
    {
     "data": {
      "image/png": "[encoded data removed]",
      "text/plain": [
       "plot without title"
      ]
     },
     "metadata": {},
     "output_type": "display_data"
    }
   ],
   "source": [
    "fit2 <- survfit(Surv(n.videos.decile, statut.surv.vid) ~ HDI, data=df)\n",
    "ggsurvplot(fit2, data = df)"
   ]
  },
  {
   "cell_type": "code",
   "execution_count": 507,
   "id": "2925ba84",
   "metadata": {},
   "outputs": [
    {
     "ename": "ERROR",
     "evalue": "Error in ggsurvplot(mod_cox, conf.int = TRUE, palette = \"Dark2\", censor = FALSE, : objet 'ggsurv' introuvable\n",
     "output_type": "error",
     "traceback": [
      "Error in ggsurvplot(mod_cox, conf.int = TRUE, palette = \"Dark2\", censor = FALSE, : objet 'ggsurv' introuvable\nTraceback:\n",
      "1. ggsurvplot(mod_cox, conf.int = TRUE, palette = \"Dark2\", censor = FALSE, \n .     surv.median.line = \"hv\")"
     ]
    },
    {
     "data": {
      "image/png": "[encoded data removed]",
      "text/plain": [
       "plot without title"
      ]
     },
     "metadata": {},
     "output_type": "display_data"
    }
   ],
   "source": [
    "mod_cox <- coxph(formula = Surv(n.videos, statut.surv.vid) ~ Gender + HDI, data = df)\n",
    "ggforest(mod_cox,data=df)\n",
    "ggsurvplot(mod_cox, conf.int = TRUE, palette = \"Dark2\",censor = FALSE, surv.median.line = \"hv\")"
   ]
  },
  {
   "cell_type": "code",
   "execution_count": 508,
   "id": "63a055ba",
   "metadata": {
    "scrolled": false
   },
   "outputs": [
    {
     "data": {
      "image/png": "[encoded data removed]",
      "text/plain": [
       "plot without title"
      ]
     },
     "metadata": {},
     "output_type": "display_data"
    }
   ],
   "source": [
    "ggforest(mod_cox,data=df)"
   ]
  },
  {
   "cell_type": "code",
   "execution_count": null,
   "id": "98d3088d",
   "metadata": {},
   "outputs": [],
   "source": []
  },
  {
   "cell_type": "code",
   "execution_count": 509,
   "id": "ebbe3dbc",
   "metadata": {
    "scrolled": false
   },
   "outputs": [
    {
     "data": {
      "image/png": "[encoded data removed]",
      "text/plain": [
       "plot without title"
      ]
     },
     "metadata": {},
     "output_type": "display_data"
    }
   ],
   "source": [
    "fit <- survfit(Surv(n.videos, statut.surv.vid) ~ engagement.behaviour, data=df[df$engagement.behaviour %in% c('Disengager','Auditer'),])\n",
    "names(fit$strata) <- gsub(\"engagement.behaviour=\", \"\", names(fit$strata))\n",
    "ggsurvplot(fit, data = df, surv.median.line=\"none\")"
   ]
  },
  {
   "cell_type": "code",
   "execution_count": 510,
   "id": "1d7170de",
   "metadata": {},
   "outputs": [
    {
     "data": {
      "text/plain": [
       "Call:\n",
       "survdiff(formula = Surv(n.videos, statut.surv.vid) ~ engagement.behaviour, \n",
       "    data = df[df$engagement.behaviour %in% c(\"Disengager\", \"Auditer\"), \n",
       "        ])\n",
       "\n",
       "                                   N Observed Expected (O-E)^2/E (O-E)^2/V\n",
       "engagement.behaviour=Auditer     774      770      497    149.70       192\n",
       "engagement.behaviour=Disengager 8425     7911     8184      9.09       192\n",
       "\n",
       " Chisq= 192  on 1 degrees of freedom, p= <2e-16 "
      ]
     },
     "metadata": {},
     "output_type": "display_data"
    }
   ],
   "source": [
    "survdiff(Surv(n.videos, statut.surv.vid) ~ engagement.behaviour, data=df[df$engagement.behaviour %in% c('Disengager','Auditer'),])"
   ]
  },
  {
   "cell_type": "code",
   "execution_count": null,
   "id": "b6768c25",
   "metadata": {},
   "outputs": [],
   "source": []
  },
  {
   "cell_type": "code",
   "execution_count": null,
   "id": "f69d6d8d",
   "metadata": {},
   "outputs": [],
   "source": []
  },
  {
   "cell_type": "code",
   "execution_count": null,
   "id": "fb62c5d6",
   "metadata": {},
   "outputs": [],
   "source": []
  },
  {
   "cell_type": "code",
   "execution_count": null,
   "id": "ae33b38e",
   "metadata": {},
   "outputs": [],
   "source": []
  },
  {
   "cell_type": "code",
   "execution_count": null,
   "id": "1611c8b0",
   "metadata": {},
   "outputs": [],
   "source": []
  }
 ],
 "metadata": {
  "kernelspec": {
   "display_name": "R",
   "language": "R",
   "name": "ir"
  },
  "language_info": {
   "codemirror_mode": "r",
   "file_extension": ".r",
   "mimetype": "text/x-r-source",
   "name": "R",
   "pygments_lexer": "r",
   "version": "3.6.1"
  }
 },
 "nbformat": 4,
 "nbformat_minor": 5
}
